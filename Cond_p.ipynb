{
  "nbformat": 4,
  "nbformat_minor": 0,
  "metadata": {
    "colab": {
      "name": "Cond_p.ipynb",
      "provenance": [],
      "authorship_tag": "ABX9TyOw/WJwvIO5kCWkuFzNnOHo",
      "include_colab_link": true
    },
    "kernelspec": {
      "name": "python3",
      "display_name": "Python 3"
    },
    "language_info": {
      "name": "python"
    }
  },
  "cells": [
    {
      "cell_type": "markdown",
      "metadata": {
        "id": "view-in-github",
        "colab_type": "text"
      },
      "source": [
        "<a href=\"https://colab.research.google.com/github/sisifo3/P_T_1/blob/main/Cond_p.ipynb\" target=\"_parent\"><img src=\"https://colab.research.google.com/assets/colab-badge.svg\" alt=\"Open In Colab\"/></a>"
      ]
    },
    {
      "cell_type": "code",
      "metadata": {
        "colab": {
          "base_uri": "https://localhost:8080/"
        },
        "id": "omtMTEbFo6AR",
        "outputId": "403bb29a-9a3d-4eb4-9c61-822a3484bdb2"
      },
      "source": [
        "from google.colab import files\n",
        "import pandas as pd\n",
        "import numpy as np\n",
        "\n",
        "import matplotlib.pyplot as plt\n",
        "import math\n",
        "import random\n",
        "\n",
        "\n",
        "\n",
        "m = [[1, 0], \n",
        "      [1], \n",
        "      [1, 2], \n",
        "      [5, 4], \n",
        "      [5], \n",
        "      [5, 6], \n",
        "      [5, 6, 7]]\n",
        "\n",
        "\n",
        "#aqui contamos cuantas veces aparacen \n",
        "def countF(m,c):\n",
        "  count = []\n",
        "  i = 0\n",
        "  for v in c:\n",
        "    c1 = 0\n",
        "    for n in m:\n",
        "      if v in n:\n",
        "        c1 = c1 + 1 \n",
        "    count.append(c1)     \n",
        "    i = i + 1\n",
        "  return count  \n",
        "\n",
        "c = [1,5]\n",
        "co = countF(m,c)\n",
        "print(co)\n",
        "\n",
        "\n",
        "\n",
        "#primero necesito saber cuales son los numeros individuales \n",
        "\n",
        "def WF(m):\n",
        "  o = []\n",
        "  for n in m :\n",
        "    #print(n)\n",
        "    z = n[0]\n",
        "    o.append(z)  \n",
        "  #print(o)\n",
        "  O = list(set(o))\n",
        "  #print(O)\n",
        "  return O\n",
        "\n",
        "c = WF(m)\n",
        "print(c)\n",
        "\n",
        "\n",
        "\n",
        "\n",
        "\n",
        "#p = El numero de arrays / el numero de arrays en el que aparece.\n",
        "\n",
        "def PriorProbabilitie(m):\n",
        "  prior = []\n",
        "  l = len(m)\n",
        "  c = WF(m)\n",
        "  co = countF(m,c)\n",
        "  for val in co:\n",
        "    p = val/l\n",
        "    prior.append(p)\n",
        "  return prior  \n",
        "\n",
        "\n",
        "\n",
        "prior = PriorProbabilitie(m)\n",
        "print(prior)\n",
        "\n",
        "\n",
        "#En esta funcio  calculamos la probabilidad condicional\n",
        "\n",
        "def BayesTheorem(pa,pb):\n",
        "  pba = .25\n",
        "  #p(a|b) = (P(B|A) * P(A)) / (P(B))\n",
        "  pab = (pba * pa) / pb\n",
        "  return pab\n",
        "\n",
        "\n",
        "pa = .4\n",
        "pb = .6\n",
        "bt = BayesTheorem(pa,pb)\n",
        "print(bt)\n",
        "\n",
        "\n",
        "def Conditionalprobability(m):\n",
        "  prior = PriorProbabilitie(m)\n",
        "  pa = prior[0]\n",
        "  pb = prior[1]\n",
        "\n",
        "  ba = BayesTheorem(pa,pb)\n",
        "  bb = BayesTheorem(pb,pa)\n",
        "\n",
        "  return ba, bb\n",
        "\n",
        "\n",
        "\n",
        "\n",
        "\n",
        "cpa, cpb  = Conditionalprobability(m)\n",
        "print(cpa,cpb)"
      ],
      "execution_count": 1,
      "outputs": [
        {
          "output_type": "stream",
          "name": "stdout",
          "text": [
            "[3, 4]\n",
            "[1, 5]\n",
            "[0.42857142857142855, 0.5714285714285714]\n",
            "0.16666666666666669\n",
            "0.1875 0.3333333333333333\n"
          ]
        }
      ]
    }
  ]
}