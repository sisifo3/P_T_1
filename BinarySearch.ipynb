{
  "nbformat": 4,
  "nbformat_minor": 0,
  "metadata": {
    "colab": {
      "name": "BinarySearch.ipynb",
      "provenance": [],
      "authorship_tag": "ABX9TyMnxqng3OHZdU70dUUbWsHS",
      "include_colab_link": true
    },
    "kernelspec": {
      "name": "python3",
      "display_name": "Python 3"
    },
    "language_info": {
      "name": "python"
    }
  },
  "cells": [
    {
      "cell_type": "markdown",
      "metadata": {
        "id": "view-in-github",
        "colab_type": "text"
      },
      "source": [
        "<a href=\"https://colab.research.google.com/github/sisifo3/P_T_1/blob/main/BinarySearch.ipynb\" target=\"_parent\"><img src=\"https://colab.research.google.com/assets/colab-badge.svg\" alt=\"Open In Colab\"/></a>"
      ]
    },
    {
      "cell_type": "code",
      "metadata": {
        "id": "XHgPvcyB3YVl"
      },
      "source": [
        "from google.colab import files\n",
        "import pandas as pd\n",
        "import numpy as np\n",
        "\n",
        "import matplotlib.pyplot as plt\n",
        "import math"
      ],
      "execution_count": null,
      "outputs": []
    },
    {
      "cell_type": "code",
      "metadata": {
        "id": "Mz3Izj0ovwIH"
      },
      "source": [
        ""
      ],
      "execution_count": null,
      "outputs": []
    },
    {
      "cell_type": "code",
      "metadata": {
        "colab": {
          "base_uri": "https://localhost:8080/"
        },
        "id": "esvD90jAvxZS",
        "outputId": "523cf990-e492-4bda-944e-e0383395bdb3"
      },
      "source": [
        "def binarySearch(A,n,T):\n",
        "  i = 0\n",
        "  L = 0\n",
        "  R = n - 1\n",
        "  while L <= R:\n",
        "    i = i +1\n",
        "    print(i)\n",
        "    m = math.floor((L + R) / 2)\n",
        "    print(m)\n",
        "    if A[m] < T:\n",
        "      L = m + 1\n",
        "    elif A[m] > T:\n",
        "      R = m - 1\n",
        "    else:\n",
        "      return m\n",
        "  return unsuccessful\n",
        "\n",
        "N = ['S8','S11','S9','S12','S10','S14','S13','S1','N4','S7','N1','S6','S4','S2','N2','N3','S5','S3']\n",
        "A = [1,2,3,4,5,6,7,8,9,10,11,12,13,14,15,16,17,18]\n",
        "n = 18\n",
        "T = 18\n",
        "\n",
        "m = binarySearch(A,n,T)\n",
        "print(m)\n",
        "\n"
      ],
      "execution_count": null,
      "outputs": [
        {
          "output_type": "stream",
          "text": [
            "1\n",
            "8\n",
            "2\n",
            "13\n",
            "3\n",
            "15\n",
            "4\n",
            "16\n",
            "5\n",
            "17\n",
            "17\n"
          ],
          "name": "stdout"
        }
      ]
    },
    {
      "cell_type": "code",
      "metadata": {
        "id": "QSjyvwlv7dVz"
      },
      "source": [
        "#S8 = "
      ],
      "execution_count": null,
      "outputs": []
    },
    {
      "cell_type": "code",
      "metadata": {
        "id": "GK7KMV00qjty"
      },
      "source": [
        "#packa = ['S1','S14','S13','S12','S10','S11','S8','S9']\n",
        "#packb = ['S4','N1','N2','S6','S7']\n",
        "#packc = ['S3','N3','S5']\n"
      ],
      "execution_count": null,
      "outputs": []
    },
    {
      "cell_type": "code",
      "metadata": {
        "colab": {
          "base_uri": "https://localhost:8080/"
        },
        "id": "dg8i3bcK1so4",
        "outputId": "a8a8927d-8e3a-4b93-81ef-7b67369ee90b"
      },
      "source": [
        "#N = ['N4', 'S2', 'S1',  'S14', 'S13','S12','S4','N1','S3','N3','S6','S10','S11','N2','S6','S7','S9','S8']\n",
        "#N = ['S2', 'S1',  'S14', 'S13','S12','S4','N1','S3','N3','S6','S10','S11','N2','S6','S7','S9','S8']\n",
        "#p = ['N1','S4','S2','N4']\n",
        "#N = ['N4', 'S2','N3','S5','S4','N1','N2','S6','S7','S1','S14','S13','S12','S10','S11''S9','S8']\n",
        "#p = ['N1','S4','S2','N4']\n",
        "\n",
        "\n",
        "\n",
        "#for i in range(3): \n",
        "#  print(i)\n",
        "#  print(N)    \n",
        "  #N = ['N4', 'S2', 'S1',  'S14', 'S13','S12','S4','N1','S3','N3','S6','S10','S11','N2','S6','S7','S9','S8']\n",
        "#  n1,n2 = giveMetwo(N)\n",
        "#  existInfect(n1,p)\n",
        "#  existInfect(n2,p)\n",
        "#  print(n1,n2)\n",
        "#  N = n1\n"
      ],
      "execution_count": null,
      "outputs": [
        {
          "output_type": "stream",
          "text": [
            "0\n",
            "['N4', 'S2', 'N3', 'S5', 'S4', 'N1', 'N2', 'S6', 'S7', 'S1', 'S14', 'S13', 'S12', 'S10', 'S11S9', 'S8']\n",
            "S6\n",
            "S8\n",
            "['N4', 'S2', 'N3', 'S5', 'S4', 'N1', 'N2', 'S6'] ['S7', 'S1', 'S14', 'S13', 'S12', 'S10', 'S11S9', 'S8']\n",
            "1\n",
            "['N4', 'S2', 'N3', 'S5', 'S4', 'N1', 'N2', 'S6']\n",
            "S5\n",
            "S6\n",
            "['N4', 'S2', 'N3', 'S5'] ['S4', 'N1', 'N2', 'S6']\n",
            "2\n",
            "['N4', 'S2', 'N3', 'S5']\n",
            "S2\n",
            "exist\n",
            "S5\n",
            "['N4', 'S2'] ['N3', 'S5']\n"
          ],
          "name": "stdout"
        }
      ]
    },
    {
      "cell_type": "code",
      "metadata": {
        "colab": {
          "base_uri": "https://localhost:8080/"
        },
        "id": "rd1FsYpro-pC",
        "outputId": "ab3816a4-7d6e-4096-a68c-9b9fbeed21c7"
      },
      "source": [
        "#N = ['N4', 'S2', 'S1',  'S14', 'S13','S12','S4','N1','S3','N3','S6','S10','S11','N2','S6','S7','S9','S8']\n",
        "#N = ['S2', 'S1',  'S14', 'S13','S12','S4','N1','S3','N3','S6','S10','S11','N2','S6','S7','S9','S8']\n",
        "#p = ['N1','S4','S2','N4']\n",
        "#N = ['N4', 'S2','N3','S5','S4','N1','N2','S6','S7','S1','S14','S13','S12','S10','S11''S9','S8']\n",
        "#p = ['N1','S4','S2','N4']\n",
        "#\n",
        "\n",
        "\n",
        "#for i in range(3): \n",
        "#  print(i)\n",
        "#  print(N)    \n",
        "  #N = ['N4', 'S2', 'S1',  'S14', 'S13','S12','S4','N1','S3','N3','S6','S10','S11','N2','S6','S7','S9','S8']\n",
        "#  n1,n2 = giveMetwo(N)\n",
        "#  a = existInfect(n1,p)\n",
        "  #b = existInfect(n2,p)\n",
        "\n",
        "\n",
        "#  print(n1,n2)\n",
        "#  N = n1"
      ],
      "execution_count": null,
      "outputs": [
        {
          "output_type": "stream",
          "text": [
            "0\n",
            "['N4', 'S2', 'S1', 'S14', 'S13', 'S12', 'S4', 'N1', 'S3', 'N3', 'S6', 'S10', 'S11', 'N2', 'S6', 'S7', 'S9', 'S8']\n",
            "S3\n",
            "S8\n",
            "['N4', 'S2', 'S1', 'S14', 'S13', 'S12', 'S4', 'N1', 'S3'] ['N3', 'S6', 'S10', 'S11', 'N2', 'S6', 'S7', 'S9', 'S8']\n",
            "1\n",
            "['N4', 'S2', 'S1', 'S14', 'S13', 'S12', 'S4', 'N1', 'S3']\n",
            "S14\n",
            "S3\n",
            "['N4', 'S2', 'S1', 'S14'] ['S13', 'S12', 'S4', 'N1', 'S3']\n",
            "2\n",
            "['N4', 'S2', 'S1', 'S14']\n",
            "S2\n",
            "exist\n",
            "S14\n",
            "['N4', 'S2'] ['S1', 'S14']\n"
          ],
          "name": "stdout"
        }
      ]
    },
    {
      "cell_type": "code",
      "metadata": {
        "colab": {
          "base_uri": "https://localhost:8080/"
        },
        "id": "Fw4fO_q_euQr",
        "outputId": "82d790e5-507a-405c-da97-2395ced67889"
      },
      "source": [
        "#primero una funcion que parta en dos el array\n",
        "#def giveMetwo(N):\n",
        "  #print(N)\n",
        "#  l = len(N)\n",
        "  #print(l)\n",
        "#  la = l/2\n",
        "#  la = int(la)\n",
        "  #print(la)\n",
        "#  a = N[0:la] \n",
        "  #print(a)\n",
        "#  b = N[la:l]\n",
        "  #print(b)\n",
        "#  return a,b\n",
        "\n",
        "\n",
        "#i = 0\n",
        "#N = ['N4', 'S2', 'S1',  'S14', 'S13','S12','S4','N1','S3','N3','S6','S10','S11','N2','S6','S7','S9','S8']\n",
        "\n",
        "#for i in range(4): \n",
        "#  print(i)    \n",
        "  #N = ['N4', 'S2', 'S1',  'S14', 'S13','S12','S4','N1','S3','N3','S6','S10','S11','N2','S6','S7','S9','S8']\n",
        "#  n1,n2 = giveMetwo(N)\n",
        "#  print(n1,n2)\n",
        "#  N = n1"
      ],
      "execution_count": null,
      "outputs": [
        {
          "output_type": "stream",
          "text": [
            "0\n",
            "['N4', 'S2', 'S1', 'S14', 'S13', 'S12', 'S4', 'N1', 'S3'] ['N3', 'S6', 'S10', 'S11', 'N2', 'S6', 'S7', 'S9', 'S8']\n",
            "1\n",
            "['N4', 'S2', 'S1', 'S14'] ['S13', 'S12', 'S4', 'N1', 'S3']\n",
            "2\n",
            "['N4', 'S2'] ['S1', 'S14']\n",
            "3\n",
            "['N4'] ['S2']\n"
          ],
          "name": "stdout"
        }
      ]
    },
    {
      "cell_type": "code",
      "metadata": {
        "colab": {
          "base_uri": "https://localhost:8080/"
        },
        "id": "lnxSP2o-cGBb",
        "outputId": "81618ee6-57b5-40f5-cc9e-43c78aff8aa1"
      },
      "source": [
        "#Esta funcion tiene que revisar si el nodo esta infectado. \n",
        "\n",
        "#def existInfect(a,p):\n",
        "#  a = 0\n",
        "#  val = a[-1]\n",
        "#  print(val)\n",
        "#  if val in p:\n",
        "#    print('exist')\n",
        "#    a = 1\n",
        "#  return a  \n",
        "\n",
        "\n",
        "\n",
        "#N = ['N4', 'S2', 'S1',  'S14', 'S13','S12','S4','N1','S3','N3','S6','S10','S11','N2','S6','S7','S9','S8']\n",
        "#a = ['N4', 'S2', 'S1', 'S14', 'S13', 'S12', 'S4', 'N1', 'S3']\n",
        "#aa = ['N4', 'S2', 'S1', 'S14']\n",
        "#aaa = ['N4', 'S2']\n",
        "#p = ['N1','S4','S2','N4']\n",
        "\n",
        "#existInfect(aaa,p)\n"
      ],
      "execution_count": null,
      "outputs": [
        {
          "output_type": "stream",
          "text": [
            "S2\n",
            "exist\n"
          ],
          "name": "stdout"
        }
      ]
    },
    {
      "cell_type": "code",
      "metadata": {
        "id": "ZMp7Zlsggk3h"
      },
      "source": [
        "#buscamos una funcion que quite los nodos mayores que no son parte de la busqueda.\n",
        "\n",
        "#def DisNode():\n",
        "#  s1 = ['S1','S14','S13','S12','S10','S11','S9','S8']\n",
        "#  s4 = ['N1','N2','S6','S7']\n",
        "#  s3 = ['S3','N3','S5']"
      ],
      "execution_count": null,
      "outputs": []
    },
    {
      "cell_type": "code",
      "metadata": {
        "id": "hPUacHHVhTZr"
      },
      "source": [
        "#flujo del codigo.\n",
        "\n",
        "      #primero partimos el array de nodos  a la mitad, tomamos ese nodo y lo buscamos\n",
        "      #Cada vez que eliminemos un conjunto de nodos es necesario cambiar las probabilidades\n",
        "        "
      ],
      "execution_count": null,
      "outputs": []
    },
    {
      "cell_type": "code",
      "metadata": {
        "colab": {
          "base_uri": "https://localhost:8080/"
        },
        "id": "DfAx_93qgUeY",
        "outputId": "c3a09020-8b22-4ee7-9d9e-87f8d7397341"
      },
      "source": [
        "def binarySearch(A,n,T):\n",
        "  i = 0\n",
        "  L = 0\n",
        "  R = n - 1\n",
        "  while L <= R:\n",
        "    i = i +1\n",
        "    print(i)\n",
        "    m = math.floor((L + R) / 2)\n",
        "    print(m)\n",
        "    if A[m] < T:\n",
        "      L = m + 1\n",
        "    elif A[m] > T:\n",
        "      R = m - 1\n",
        "    else:\n",
        "      return m\n",
        "  return unsuccessful\n",
        "\n",
        "N = ['S8','S11','S9','S12','S10','S14','S13','S1','N4','S7','N1','S6','S4','S2','N2','N3','S5','S3']\n",
        "A = [1,2,3,4,5,6,7,8,9,10,11,12,13,14,15,16,17,18,19,20,21,22,23,24,25,26,27,28,29,30,31,32,33,34,35,36,37,38,39,40]\n",
        "n = 40\n",
        "T = 10\n",
        "\n",
        "m = binarySearch(A,n,T)\n",
        "print(m)"
      ],
      "execution_count": null,
      "outputs": [
        {
          "output_type": "stream",
          "text": [
            "1\n",
            "19\n",
            "2\n",
            "9\n",
            "9\n"
          ],
          "name": "stdout"
        }
      ]
    },
    {
      "cell_type": "code",
      "metadata": {
        "colab": {
          "base_uri": "https://localhost:8080/"
        },
        "id": "AUCM7cGM8FJ6",
        "outputId": "a578ba03-24a8-42f5-c5e1-272bfb0f6240"
      },
      "source": [
        "MaCounts = np.zeros( (14, 2) )\n",
        "print(MaCounts)"
      ],
      "execution_count": null,
      "outputs": [
        {
          "output_type": "stream",
          "text": [
            "[[0. 0.]\n",
            " [0. 0.]\n",
            " [0. 0.]\n",
            " [0. 0.]\n",
            " [0. 0.]\n",
            " [0. 0.]\n",
            " [0. 0.]\n",
            " [0. 0.]\n",
            " [0. 0.]\n",
            " [0. 0.]\n",
            " [0. 0.]\n",
            " [0. 0.]\n",
            " [0. 0.]\n",
            " [0. 0.]]\n"
          ],
          "name": "stdout"
        }
      ]
    },
    {
      "cell_type": "code",
      "metadata": {
        "colab": {
          "base_uri": "https://localhost:8080/"
        },
        "id": "SLnrOysj6sZ7",
        "outputId": "577d17dd-6597-4016-df85-a22f969c4f08"
      },
      "source": [
        "def binarySearch(A,n,T):\n",
        "  Mm = []\n",
        "  i = 0\n",
        "  L = 0\n",
        "  R = n - 1\n",
        "  while L <= R:\n",
        "    i = i +1\n",
        "    #print(i)\n",
        "    m = math.floor((L + R) / 2)\n",
        "    #print(m)\n",
        "    Mm.append(m) \n",
        "    if A[m] < T:\n",
        "      L = m + 1\n",
        "    elif A[m] > T:\n",
        "      R = m - 1\n",
        "    else:\n",
        "      return m , Mm\n",
        "  return unsuccessful , Mm\n",
        "\n",
        "N = ['S8','S11','S9','S12','S10','S14','S13','S1','N4','S7','N1','S6','S4','S2','N2','N3','S5','S3']\n",
        "A = [1,2,3,4,5,6,7,8,9,10,11,12,13,14,15,16,17,18,19,20,21,22,23,24,25,26,27,28,29,30,31,32,33,34,35,36,37,38,39,40]\n",
        "n = 40\n",
        "T = 10\n",
        "MM = np.zeros((n,6))\n",
        "#MM = []\n",
        "lm = []\n",
        "\n",
        "i = 0\n",
        "j = 0\n",
        "\n",
        "for T in A:\n",
        "  m, Mm = binarySearch(A,n,T)\n",
        "  #print(m)\n",
        "  print(Mm)\n",
        "  lm.append(Mm)\n",
        "  j = 0\n",
        "  for val in Mm:\n",
        "    MM[i][j] = val\n",
        "    #MM.append(val)\n",
        "    j = j + 1\n",
        "  i = i + 1 \n",
        "\n",
        "print(MM)\n",
        "print(lm)"
      ],
      "execution_count": null,
      "outputs": [
        {
          "output_type": "stream",
          "text": [
            "[19, 9, 4, 1, 0]\n",
            "[19, 9, 4, 1]\n",
            "[19, 9, 4, 1, 2]\n",
            "[19, 9, 4, 1, 2, 3]\n",
            "[19, 9, 4]\n",
            "[19, 9, 4, 6, 5]\n",
            "[19, 9, 4, 6]\n",
            "[19, 9, 4, 6, 7]\n",
            "[19, 9, 4, 6, 7, 8]\n",
            "[19, 9]\n",
            "[19, 9, 14, 11, 10]\n",
            "[19, 9, 14, 11]\n",
            "[19, 9, 14, 11, 12]\n",
            "[19, 9, 14, 11, 12, 13]\n",
            "[19, 9, 14]\n",
            "[19, 9, 14, 16, 15]\n",
            "[19, 9, 14, 16]\n",
            "[19, 9, 14, 16, 17]\n",
            "[19, 9, 14, 16, 17, 18]\n",
            "[19]\n",
            "[19, 29, 24, 21, 20]\n",
            "[19, 29, 24, 21]\n",
            "[19, 29, 24, 21, 22]\n",
            "[19, 29, 24, 21, 22, 23]\n",
            "[19, 29, 24]\n",
            "[19, 29, 24, 26, 25]\n",
            "[19, 29, 24, 26]\n",
            "[19, 29, 24, 26, 27]\n",
            "[19, 29, 24, 26, 27, 28]\n",
            "[19, 29]\n",
            "[19, 29, 34, 31, 30]\n",
            "[19, 29, 34, 31]\n",
            "[19, 29, 34, 31, 32]\n",
            "[19, 29, 34, 31, 32, 33]\n",
            "[19, 29, 34]\n",
            "[19, 29, 34, 37, 35]\n",
            "[19, 29, 34, 37, 35, 36]\n",
            "[19, 29, 34, 37]\n",
            "[19, 29, 34, 37, 38]\n",
            "[19, 29, 34, 37, 38, 39]\n",
            "[[19.  9.  4.  1.  0.  0.]\n",
            " [19.  9.  4.  1.  0.  0.]\n",
            " [19.  9.  4.  1.  2.  0.]\n",
            " [19.  9.  4.  1.  2.  3.]\n",
            " [19.  9.  4.  0.  0.  0.]\n",
            " [19.  9.  4.  6.  5.  0.]\n",
            " [19.  9.  4.  6.  0.  0.]\n",
            " [19.  9.  4.  6.  7.  0.]\n",
            " [19.  9.  4.  6.  7.  8.]\n",
            " [19.  9.  0.  0.  0.  0.]\n",
            " [19.  9. 14. 11. 10.  0.]\n",
            " [19.  9. 14. 11.  0.  0.]\n",
            " [19.  9. 14. 11. 12.  0.]\n",
            " [19.  9. 14. 11. 12. 13.]\n",
            " [19.  9. 14.  0.  0.  0.]\n",
            " [19.  9. 14. 16. 15.  0.]\n",
            " [19.  9. 14. 16.  0.  0.]\n",
            " [19.  9. 14. 16. 17.  0.]\n",
            " [19.  9. 14. 16. 17. 18.]\n",
            " [19.  0.  0.  0.  0.  0.]\n",
            " [19. 29. 24. 21. 20.  0.]\n",
            " [19. 29. 24. 21.  0.  0.]\n",
            " [19. 29. 24. 21. 22.  0.]\n",
            " [19. 29. 24. 21. 22. 23.]\n",
            " [19. 29. 24.  0.  0.  0.]\n",
            " [19. 29. 24. 26. 25.  0.]\n",
            " [19. 29. 24. 26.  0.  0.]\n",
            " [19. 29. 24. 26. 27.  0.]\n",
            " [19. 29. 24. 26. 27. 28.]\n",
            " [19. 29.  0.  0.  0.  0.]\n",
            " [19. 29. 34. 31. 30.  0.]\n",
            " [19. 29. 34. 31.  0.  0.]\n",
            " [19. 29. 34. 31. 32.  0.]\n",
            " [19. 29. 34. 31. 32. 33.]\n",
            " [19. 29. 34.  0.  0.  0.]\n",
            " [19. 29. 34. 37. 35.  0.]\n",
            " [19. 29. 34. 37. 35. 36.]\n",
            " [19. 29. 34. 37.  0.  0.]\n",
            " [19. 29. 34. 37. 38.  0.]\n",
            " [19. 29. 34. 37. 38. 39.]]\n",
            "[[19, 9, 4, 1, 0], [19, 9, 4, 1], [19, 9, 4, 1, 2], [19, 9, 4, 1, 2, 3], [19, 9, 4], [19, 9, 4, 6, 5], [19, 9, 4, 6], [19, 9, 4, 6, 7], [19, 9, 4, 6, 7, 8], [19, 9], [19, 9, 14, 11, 10], [19, 9, 14, 11], [19, 9, 14, 11, 12], [19, 9, 14, 11, 12, 13], [19, 9, 14], [19, 9, 14, 16, 15], [19, 9, 14, 16], [19, 9, 14, 16, 17], [19, 9, 14, 16, 17, 18], [19], [19, 29, 24, 21, 20], [19, 29, 24, 21], [19, 29, 24, 21, 22], [19, 29, 24, 21, 22, 23], [19, 29, 24], [19, 29, 24, 26, 25], [19, 29, 24, 26], [19, 29, 24, 26, 27], [19, 29, 24, 26, 27, 28], [19, 29], [19, 29, 34, 31, 30], [19, 29, 34, 31], [19, 29, 34, 31, 32], [19, 29, 34, 31, 32, 33], [19, 29, 34], [19, 29, 34, 37, 35], [19, 29, 34, 37, 35, 36], [19, 29, 34, 37], [19, 29, 34, 37, 38], [19, 29, 34, 37, 38, 39]]\n"
          ],
          "name": "stdout"
        }
      ]
    },
    {
      "cell_type": "code",
      "metadata": {
        "colab": {
          "base_uri": "https://localhost:8080/"
        },
        "id": "djpUHsDKAGsz",
        "outputId": "90b4cac2-aee0-4f96-eb42-4cf6b523589e"
      },
      "source": [
        "b = []\n",
        "c = [4,5,2]\n",
        "\n",
        "#a = [[1, 2, 3, 4], [5, 6], [7, 8, 9]]\n",
        "#a"
      ],
      "execution_count": null,
      "outputs": [
        {
          "output_type": "execute_result",
          "data": {
            "text/plain": [
              "[[1, 2, 3, 4], [5, 6], [7, 8, 9]]"
            ]
          },
          "metadata": {},
          "execution_count": 24
        }
      ]
    }
  ]
}