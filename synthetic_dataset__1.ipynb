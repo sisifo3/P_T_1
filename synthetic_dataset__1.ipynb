{
  "nbformat": 4,
  "nbformat_minor": 0,
  "metadata": {
    "colab": {
      "name": "synthetic dataset _1.ipynb",
      "provenance": []
    },
    "kernelspec": {
      "name": "python3",
      "display_name": "Python 3"
    },
    "language_info": {
      "name": "python"
    }
  },
  "cells": [
    {
      "cell_type": "code",
      "metadata": {
        "id": "tnMjguQjZ9ai"
      },
      "source": [
        "pip install names"
      ],
      "execution_count": null,
      "outputs": []
    },
    {
      "cell_type": "code",
      "metadata": {
        "id": "0sRJjqyraPnp"
      },
      "source": [
        "import names\n"
      ],
      "execution_count": null,
      "outputs": []
    },
    {
      "cell_type": "code",
      "metadata": {
        "id": "CTl_gr2iaWF8"
      },
      "source": [
        "len_a = 9160\n",
        "listNames = [0] * 9160\n",
        "\n",
        "for i in range(len_a):\n",
        "  nameT = names.get_full_name()\n",
        "  listNames[i] = nameT\n",
        "\n",
        "print(listNames)"
      ],
      "execution_count": null,
      "outputs": []
    },
    {
      "cell_type": "code",
      "metadata": {
        "id": "kvNOYwenaX2Z"
      },
      "source": [
        "df = pd.DataFrame (listNames, columns = ['Name Student'])\n"
      ],
      "execution_count": null,
      "outputs": []
    },
    {
      "cell_type": "code",
      "metadata": {
        "id": "BgmhVQ-paYkU"
      },
      "source": [
        "df.describe()"
      ],
      "execution_count": null,
      "outputs": []
    },
    {
      "cell_type": "code",
      "metadata": {
        "id": "rY59H9MXabkv"
      },
      "source": [
        "import numpy as np\n",
        "random_matrix_array = np.random.randint(1,10,size=(9160,8))\n",
        "print(random_matrix_array)"
      ],
      "execution_count": null,
      "outputs": []
    },
    {
      "cell_type": "code",
      "metadata": {
        "id": "pnY-MuBOaewY"
      },
      "source": [
        "len_a = 9160\n",
        "listID = [0] * 9160\n",
        "\n",
        "for i in range(len_a):\n",
        "  ID = random_matrix_array[i,:]\n",
        "  #print(ID)\n",
        "  listID[i] = ID\n",
        "\n",
        "print(listID)"
      ],
      "execution_count": null,
      "outputs": []
    },
    {
      "cell_type": "code",
      "metadata": {
        "id": "PRJ4oPOQahlI"
      },
      "source": [
        "df.insert(1, \"ID\", listID, True)"
      ],
      "execution_count": null,
      "outputs": []
    },
    {
      "cell_type": "code",
      "metadata": {
        "id": "gNVTvPpjakkF"
      },
      "source": [
        "df.describe()"
      ],
      "execution_count": null,
      "outputs": []
    },
    {
      "cell_type": "code",
      "metadata": {
        "id": "HK0JVKHVanOJ"
      },
      "source": [
        "higherInterference = ['S12','S14','S9','S3','S6','S7']\n",
        "middleInterference = ['S5','S10']\n",
        "smallInterference = ['S11','S4','S1','S13']\n",
        "tinyInterference = ['S8','S2']"
      ],
      "execution_count": null,
      "outputs": []
    },
    {
      "cell_type": "code",
      "metadata": {
        "id": "ZVWTjktIazUl"
      },
      "source": [
        "import random\n",
        "listS = [0] * 9160\n",
        "\n",
        "for k in range(9160):\n",
        "  #rand_p = np.random.randint(1,5,size=(1,1))\n",
        "  num = random.randint(1, 6)\n",
        "  #res = [random.randint(1, 6) for i in range(num)]\n",
        "  #print(res)\n",
        "  #rand_q = np.random.randint(1,6,size=(1,num))\n",
        "  rand_q = list(np.random.permutation(np.arange(0,6))[:num])\n",
        "  #print(your_list)\n",
        "  \n",
        "  #rand_p = rand_q.tolist()\n",
        "\n",
        "  #print(rand_q)\n",
        "  #values = rand_q[0]\n",
        "  #print(values)\n",
        "  STotal = [0] * len(rand_q)\n",
        "  #print(STotal)\n",
        "  m = 0\n",
        "  for n in rand_q:\n",
        "    #print(n)\n",
        "    #nm = n[:]\n",
        "    #print(nm)\n",
        "    #int_array = og_array.astype(int)\n",
        "    #nm = n.astype(int)\n",
        "    STotal[m] = higherInterference[n]\n",
        "    m = m+1\n",
        "  #sTemp = higerInferencia[rand_p] \n",
        "\n",
        "  #print(STotal)\n",
        "  listS[k] = STotal\n",
        "print(listS)\n",
        "\n"
      ],
      "execution_count": null,
      "outputs": []
    },
    {
      "cell_type": "code",
      "metadata": {
        "id": "nKXanryZa4mH"
      },
      "source": [
        "listS2 = listS\n",
        "\n",
        "for l in range(4150):\n",
        "  num2 = random.randint(0, 2)\n",
        "  rand_q2 = list(np.random.permutation(np.arange(0,2))[:num2])\n",
        "  SMTotal2 = [0] * len(rand_q2)\n",
        "  m2 = 0\n",
        "  for n2 in rand_q2:\n",
        "    SMTotal2[m2] = middleInterference[n2]\n",
        "    m2 = m2 + 1\n",
        " \n",
        "  vaLis = listS[l] + SMTotal2  \n",
        "  print(vaLis)\n",
        "  listS2[lt] = vaLis\n",
        "\n",
        "print(listS2)\n",
        "\n"
      ],
      "execution_count": null,
      "outputs": []
    },
    {
      "cell_type": "code",
      "metadata": {
        "id": "ulod7QATa5iC"
      },
      "source": [
        "listS3 = listS2\n",
        "\n",
        "for s in range(3200):\n",
        "  num3 = random.randint(0, 4)\n",
        "  rand_q3 = list(np.random.permutation(np.arange(0,4))[:num3])\n",
        "  SMTotal3 = [0] * len(rand_q3)\n",
        "  m3 = 0\n",
        "  for n3 in rand_q3:\n",
        "    SMTotal3[m3] = smallInterference[n3]\n",
        "    m3 = m3 + 1\n",
        "  lt3 = 4150 +s\n",
        "  vaLis3 = listS2[lt3] + SMTotal3  \n",
        "  print(vaLis3)\n",
        "  listS3[lt3] = vaLis3\n",
        "\n",
        "print(listS3)\n"
      ],
      "execution_count": null,
      "outputs": []
    },
    {
      "cell_type": "code",
      "metadata": {
        "id": "tPkkaFQQa8pn"
      },
      "source": [
        "listS4 = listS3\n",
        "\n",
        "for w in range(910):\n",
        "  num4 = random.randint(0, 2)\n",
        "  rand_q4 = list(np.random.permutation(np.arange(0,2))[:num4])\n",
        "  SMTotal4 = [0] * len(rand_q4)\n",
        "  m4 = 0\n",
        "  for n4 in rand_q4:\n",
        "    SMTotal4[m4] = tinyInterference[n4]\n",
        "    m4 = m4 + 1\n",
        "  lt4 = 7800 + w\n",
        "  vaLis4 = listS3[lt4] + SMTotal4  \n",
        "  print(vaLis4)\n",
        "  listS4[lt4] = vaLis4\n",
        "\n",
        "print(listS4)\n"
      ],
      "execution_count": null,
      "outputs": []
    },
    {
      "cell_type": "code",
      "metadata": {
        "id": "FJtop3mzbBGz"
      },
      "source": [
        "df.insert(2, \"Classroom\", listS4, True)"
      ],
      "execution_count": null,
      "outputs": []
    },
    {
      "cell_type": "code",
      "metadata": {
        "id": "IUJif6O8bCoQ"
      },
      "source": [
        "df.head()"
      ],
      "execution_count": null,
      "outputs": []
    },
    {
      "cell_type": "code",
      "metadata": {
        "id": "MdWRKC8jbD4S"
      },
      "source": [
        "data_C = pd.read_csv('colonias.csv')"
      ],
      "execution_count": null,
      "outputs": []
    },
    {
      "cell_type": "code",
      "metadata": {
        "id": "7NyUOYnobHl1"
      },
      "source": [
        "data_C.describe()"
      ],
      "execution_count": null,
      "outputs": []
    },
    {
      "cell_type": "code",
      "metadata": {
        "id": "2LTC4m4FbJsN"
      },
      "source": [
        "len_data = 9160\n",
        "len_conl = 932\n",
        "TotalCol = [0] * len_data\n",
        "\n",
        "for ii  in range(len_data):\n",
        "    numC = random.randint(0, 931)\n",
        "    valueCol = data_C.iloc[numC,0]\n",
        "    TotalCol[ii] = valueCol\n",
        "\n",
        "print(TotalCol)    \n"
      ],
      "execution_count": null,
      "outputs": []
    },
    {
      "cell_type": "code",
      "metadata": {
        "id": "Rwno0v3ibKY4"
      },
      "source": [
        "df.insert(3, \"Ubication\", TotalCol, True)"
      ],
      "execution_count": null,
      "outputs": []
    },
    {
      "cell_type": "code",
      "metadata": {
        "id": "FSALJ4jybMSO"
      },
      "source": [
        "df.head()"
      ],
      "execution_count": null,
      "outputs": []
    },
    {
      "cell_type": "code",
      "metadata": {
        "id": "jEz3udWvbPm9"
      },
      "source": [
        "#vaccine = list(np.random.permutation(np.arange(0,5))[:150])\n",
        "#print(vaccine)\n",
        "n = 4361\n",
        "m = 9160 - 4361\n",
        "a = np.array([1]*n + [0]*m)\n",
        "np.random.shuffle(a)\n",
        "\n",
        "print(a)"
      ],
      "execution_count": null,
      "outputs": []
    },
    {
      "cell_type": "code",
      "metadata": {
        "id": "aQ6ZKUGqbRTT"
      },
      "source": [
        "df.insert(4, \"vaccine \", a, True)"
      ],
      "execution_count": null,
      "outputs": []
    },
    {
      "cell_type": "code",
      "metadata": {
        "id": "INlYyR8kbTA5"
      },
      "source": [
        "df.head()"
      ],
      "execution_count": null,
      "outputs": []
    },
    {
      "cell_type": "code",
      "metadata": {
        "id": "0z6IWNEwbUf9"
      },
      "source": [
        "df.to_csv('StudentsValues.csv', sep='\\t')"
      ],
      "execution_count": null,
      "outputs": []
    },
    {
      "cell_type": "code",
      "metadata": {
        "id": "mssG_DJdcAiM"
      },
      "source": [
        "#"
      ],
      "execution_count": null,
      "outputs": []
    }
  ]
}