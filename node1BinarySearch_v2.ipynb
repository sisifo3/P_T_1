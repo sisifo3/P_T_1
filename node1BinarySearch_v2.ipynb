{
  "nbformat": 4,
  "nbformat_minor": 0,
  "metadata": {
    "colab": {
      "name": "node1BinarySearch_v2.ipynb",
      "provenance": [],
      "authorship_tag": "ABX9TyOoctkocGlO4Wz7aTmBM74B",
      "include_colab_link": true
    },
    "kernelspec": {
      "name": "python3",
      "display_name": "Python 3"
    },
    "language_info": {
      "name": "python"
    }
  },
  "cells": [
    {
      "cell_type": "markdown",
      "metadata": {
        "id": "view-in-github",
        "colab_type": "text"
      },
      "source": [
        "<a href=\"https://colab.research.google.com/github/sisifo3/P_T_1/blob/main/node1BinarySearch_v2.ipynb\" target=\"_parent\"><img src=\"https://colab.research.google.com/assets/colab-badge.svg\" alt=\"Open In Colab\"/></a>"
      ]
    },
    {
      "cell_type": "code",
      "metadata": {
        "colab": {
          "base_uri": "https://localhost:8080/"
        },
        "id": "EnGMHGMSYVbq",
        "outputId": "cc5a7996-4c34-4bb7-c4b2-7d9b805c7893"
      },
      "source": [
        "#esta ya es una version estable del nodo 1\n",
        "# es la que vamos a usar. \n",
        "#sortCheck = [39,38,43,41]\n",
        "\n",
        "\n",
        "def node1BinarySearch(t):\n",
        "    \n",
        "  sortCheck = [39,43,44]\n",
        "  d = [] \n",
        "  n = 0\n",
        "\n",
        "  if t[43] == 0:\n",
        "    print(\"node 43\")\n",
        "    d.append(43)\n",
        "    if t[39] == 0:\n",
        "      print(\"node 39\")\n",
        "      d.append(39)\n",
        "      n = 45\n",
        "    elif t[39] == 1:\n",
        "      print(\"node 39\")\n",
        "      d.append(39)\n",
        "      n = 39\n",
        "      if t[37] == 1:\n",
        "        print(\"node 37\")\n",
        "        d.append(37)\n",
        "        n = 37\n",
        "      elif t[37] == 0:\n",
        "        print(\"node 37\")\n",
        "        d.append(37)\n",
        "        if t[38] == 1:\n",
        "          print(\"nde 38\")\n",
        "          d.append(38)\n",
        "          n = 38\n",
        "        elif t[38] == 0:\n",
        "          print(\"nde 38\")\n",
        "          d.append(38)\n",
        "          n = 39\n",
        "\n",
        "  \n",
        "  elif t[43] == 1:\n",
        "    print(\"node 43\")\n",
        "    d.append(43)\n",
        "    if t[44] == 0:\n",
        "      print(\"node 43\")\n",
        "      d.append(44)\n",
        "      n = 43\n",
        "      if t[41] == 1:\n",
        "        print(\"node 41\")\n",
        "        d.append(41)\n",
        "        if t[40] == 1:\n",
        "          print(\"node 40\")\n",
        "          d.append(40)\n",
        "          n = 40\n",
        "        elif t[40] == 0:\n",
        "          print(\"node 40\")\n",
        "          d.append(40)\n",
        "          if t[42] == 1:\n",
        "            print(\"npde 42\")\n",
        "            d.append(42)\n",
        "            n = 42\n",
        "          elif t[42] == 0:\n",
        "            print(\"node 42\")\n",
        "            d.append(42)\n",
        "            n = 41 \n",
        "      elif t[41] == 0:\n",
        "        print(\"node 41\")\n",
        "        d.append(41)\n",
        "        n = 43\n",
        "\n",
        "    elif t[44] == 1:\n",
        "      print(\"node 44\")\n",
        "      d.append(44)\n",
        "      n = 44  \n",
        "    \n",
        "\n",
        "\n",
        "  return n, d\n",
        "\n",
        "\n",
        "t= [0] * 46\n",
        "t[39] = 1\n",
        "t[42] = 1\n",
        "t[40] = 0\n",
        "t[41] = 1\n",
        "t[43] = 1\n",
        "t[44] = 0\n",
        "n,d = node1BinarySearch(t)\n",
        "print(n)\n",
        "print(d)"
      ],
      "execution_count": 11,
      "outputs": [
        {
          "output_type": "stream",
          "name": "stdout",
          "text": [
            "node 43\n",
            "node 43\n",
            "node 41\n",
            "node 40\n",
            "npde 42\n",
            "42\n",
            "[43, 44, 41, 40, 42]\n"
          ]
        }
      ]
    }
  ]
}