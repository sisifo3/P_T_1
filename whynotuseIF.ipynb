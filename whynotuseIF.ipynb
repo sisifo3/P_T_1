{
  "nbformat": 4,
  "nbformat_minor": 0,
  "metadata": {
    "colab": {
      "name": "whynotuseIF.ipynb",
      "provenance": [],
      "authorship_tag": "ABX9TyNHavHaT6vk+c7SC6hwmoJP",
      "include_colab_link": true
    },
    "kernelspec": {
      "name": "python3",
      "display_name": "Python 3"
    },
    "language_info": {
      "name": "python"
    }
  },
  "cells": [
    {
      "cell_type": "markdown",
      "metadata": {
        "id": "view-in-github",
        "colab_type": "text"
      },
      "source": [
        "<a href=\"https://colab.research.google.com/github/sisifo3/P_T_1/blob/main/whynotuseIF.ipynb\" target=\"_parent\"><img src=\"https://colab.research.google.com/assets/colab-badge.svg\" alt=\"Open In Colab\"/></a>"
      ]
    },
    {
      "cell_type": "code",
      "metadata": {
        "id": "U140wQ9utob7"
      },
      "source": [
        "n = 45\n",
        "\n",
        "#45\n",
        "q = [0,0,0,0,0,0,0,0,0,0,0,0,0,0,0,0,0,0,0,0,0,0,0,0,0,0,0,1,1,1,00,0,0,0,0,0,1,0,0,0,0,0,0,0,0,1]\n",
        "\n",
        "p = [0,1/n,2/n,3/n,4/n,1/n,12/n,1/n,2/n,6/n,1/n,3/n,1/n,1/n,2/n,3/n,4/n,1/n,6/n,1/n,8/n,21/n,1/n,2/n,4/n,1/n,6/n,7/n,8/n,29/n,1/n,3/n,1/n,4/n,5/n,6/n,36/n,1/n,2/n,8/n,1/n,3/n,1/n,4/n,1/n,45/n]\n",
        "#print(Np[45])"
      ],
      "execution_count": null,
      "outputs": []
    },
    {
      "cell_type": "code",
      "metadata": {
        "colab": {
          "base_uri": "https://localhost:8080/"
        },
        "id": "Ouaf4CKNwADn",
        "outputId": "2dafa4a9-eac8-40cd-d0bd-1de385d940ff"
      },
      "source": [
        "#primera comparacion\n",
        "  #que es mayor\n",
        "  #if p[39] > p[36]:\n",
        "if q[45] ==1:\n",
        "  print(\"Node 45\")\n",
        "  if p[39] > p[36]:\n",
        "    if q[39] == 1:\n",
        "      print(\"Nodo 39\")\n",
        "      node1()\n",
        "    #Llama ala funcion del nodo 1\n",
        "      #break \n",
        "  else:\n",
        "    if q[36] == 1:\n",
        "      print(\"Node 36\")\n",
        "      if q[35] > q[29]:\n",
        "        if q[35] == 1:\n",
        "          print(\"Node 35\")\n",
        "          node2()\n",
        "      else:\n",
        "        if q[29] == 1:\n",
        "          print(\"Node 29\")\n",
        "          if p[28]> p[21]:\n",
        "            if q[28] == 1:\n",
        "              #llama a la funcion\n",
        "              print(\"node 28\")\n",
        "              node3()\n",
        "          else:\n",
        "            if q[21] == 1:\n",
        "              print(\"node 21\")\n",
        "              if p[20] > p[6]:\n",
        "                if q[20] ==1:\n",
        "                  print(\"Node 20\")\n",
        "                  node4()\n",
        "              else:\n",
        "                if q[6] == 1:\n",
        "                  print(\"Node 6\")\n",
        "                  node5()\n",
        "\n",
        "\n",
        "\n",
        "      #\n",
        "\n",
        "\n",
        "\n"
      ],
      "execution_count": null,
      "outputs": [
        {
          "output_type": "stream",
          "name": "stdout",
          "text": [
            "Node 45\n",
            "Node 36\n",
            "Node 29\n"
          ]
        }
      ]
    },
    {
      "cell_type": "code",
      "metadata": {
        "id": "KLjJrRBEA_TA"
      },
      "source": [
        "def ctn(a,b):\n",
        "  "
      ],
      "execution_count": null,
      "outputs": []
    },
    {
      "cell_type": "code",
      "metadata": {
        "id": "hfZgiG1z_Sk5"
      },
      "source": [
        "#primera comparacion\n",
        "  #que es mayor\n",
        "  #if p[39] > p[36]:\n",
        "if q[45] ==1:\n",
        "  print(\"Node 45\")\n",
        "  if p[39] > p[36]:\n",
        "    if q[39] == 1:\n",
        "      print(\"Nodo 39\")\n",
        "      node1()   \n",
        "    if q[36] == 1:\n",
        "      if p[35] > p[29]:\n",
        "        if q[35] == 1:\n",
        "          print(\"Node 35\")\n",
        "          node2()\n",
        "        if q[29] == 1:\n",
        "          if p[28] > p[21]:\n",
        "            if q[28] == 1:\n",
        "              print(\"Node 28\")\n",
        "              node3()\n",
        "            if q[21] == 1:\n",
        "              if p[20] > p[6]:\n",
        "                if q[20] == 1:\n",
        "                  print(\"Node 20\")\n",
        "                  node4()\n",
        "                if q[6] == 1:\n",
        "                  print(\"Node 6\")\n",
        "                  node5()  \n",
        "              \n",
        "              \n",
        "              else:\n",
        "                if q[6] == 1:\n",
        "                  print(\"Donde 6\")\n",
        "                  node5()       \n",
        "                if q[20] == 1:\n",
        "                  print(\"Node 20\")\n",
        "                  node4()\n",
        "          \n",
        "          else:\n",
        "            if q[21] == 1:\n",
        "              #Hacer segunda comparativa\n",
        "            if q[28] == 1:\n",
        "              print(\"Node 28\")\n",
        "              node3()  \n",
        "\n",
        "      \n",
        "      \n",
        "      else:\n",
        "        if q[29] == 1:\n",
        "          #Hacer segunda comparativa\n",
        "        if q[35] == 1:\n",
        "          print(\"Node 35\")\n",
        "          node2() \n",
        "  else:\n",
        "    if q[36] == 1:\n",
        "      if p[35] > p[29]:\n",
        "        if q[35] ==1:\n",
        "          print(\"Node 35\")\n",
        "          node2()\n",
        "        if q[29] == 1:\n",
        "          print(\"Node 29\")\n",
        "          \n",
        "\n",
        "\n",
        "      else()\n",
        "\n",
        "\n",
        "      #Hacer la segunda comparativa\n",
        "    if q[39] == 1:\n",
        "      print(\"Nodo 39\")\n",
        "      node1()   \n",
        "      \n",
        "\n",
        "\n",
        "\n",
        "\n",
        "\n",
        "\n",
        "'''\n",
        "    #Llama ala funcion del nodo 1\n",
        "\n",
        "      #break \n",
        "  else:\n",
        "    if q[36] == 1:\n",
        "      print(\"Node 36\")\n",
        "      if q[35] > q[29]:\n",
        "        if q[35] == 1:\n",
        "          print(\"Node 35\")\n",
        "          node2()\n",
        "      else:\n",
        "        if q[29] == 1:\n",
        "          print(\"Node 29\")\n",
        "          if p[28]> p[21]:\n",
        "            if q[28] == 1:\n",
        "              #llama a la funcion\n",
        "              print(\"node 28\")\n",
        "              node3()\n",
        "          else:\n",
        "            if q[21] == 1:\n",
        "              print(\"node 21\")\n",
        "              if p[20] > p[6]:\n",
        "                if q[20] ==1:\n",
        "                  print(\"Node 20\")\n",
        "                  node4()\n",
        "              else:\n",
        "                if q[6] == 1:\n",
        "                  print(\"Node 6\")\n",
        "                  node5()\n",
        "\n",
        "\n",
        "\n",
        "      #\n",
        "\n",
        "'''\n",
        "\n"
      ],
      "execution_count": null,
      "outputs": []
    },
    {
      "cell_type": "code",
      "metadata": {
        "colab": {
          "base_uri": "https://localhost:8080/"
        },
        "id": "NjebDooOFlUU",
        "outputId": "6f36af7e-648b-486f-d281-01b44c2b10ee"
      },
      "source": [
        "if q[39] == 1:\n",
        "  print(\"Node 39\")\n",
        "  node1()\n",
        "if q[35] == 1:\n",
        "  print(\"Node 35\")\n",
        "  node2()\n",
        "if q[28] == 1:\n",
        "  print(\"node 28\")\n",
        "  node3()\n",
        "if q[20] == 1:\n",
        "  print(\"node 20\")\n",
        "  node4()\n",
        "if q[6] == 1:\n",
        "  print(\"node 6\")\n",
        "  node5()  "
      ],
      "execution_count": null,
      "outputs": [
        {
          "output_type": "stream",
          "name": "stdout",
          "text": [
            "node 28\n",
            "node 27\n"
          ]
        }
      ]
    },
    {
      "cell_type": "code",
      "metadata": {
        "id": "UPfCIfqyGU_1"
      },
      "source": [
        "def node1a():\n",
        "  if q[39] == 1:\n",
        "    print(\"node 39\")\n",
        "  if q[38] == 1:\n",
        "      \n"
      ],
      "execution_count": null,
      "outputs": []
    },
    {
      "cell_type": "code",
      "metadata": {
        "id": "GMzPn4zHyNLR"
      },
      "source": [
        "def node1():\n",
        "  if p[38] > p[43]:\n",
        "    if q[38] == 1 :\n",
        "      if q[37] == 1:\n",
        "        print(\"Node 37\")\n",
        "        #break\n",
        "      else:\n",
        "        print(\"Node 38\")  \n",
        "    elif q[43] == 1:\n",
        "      if q[44] == 1:\n",
        "        print(\"Node 44\")\n",
        "      else:\n",
        "        if q[41] == 1:\n",
        "          if p[40] > p[42]:\n",
        "            if q[40] == 1 :\n",
        "              print(\"Node 40\")\n",
        "            else:\n",
        "              if q[42] == 1:\n",
        "                print(\"Node 42\")     \n",
        "    else:\n",
        "      Print(\"Node 39\")  \n",
        "\n",
        "node2()"
      ],
      "execution_count": null,
      "outputs": []
    },
    {
      "cell_type": "code",
      "metadata": {
        "id": "xlVdEG9-5URO"
      },
      "source": [
        "def node2():\n",
        "  if q[34] == 1:\n",
        "    print(\"Node 34\")\n",
        "    if q[33] == 1:\n",
        "      print(\"Node 33\")\n",
        "      if q[31] == 1:\n",
        "        print(\"Node 31\")\n",
        "        if p[30] > p[32]:\n",
        "          if q[30] == 1:\n",
        "            print(\"Node 30\")\n",
        "          else:\n",
        "            if q[32] == 1:\n",
        "              print(\"Node 32\")  \n",
        "node2()"
      ],
      "execution_count": null,
      "outputs": []
    },
    {
      "cell_type": "code",
      "metadata": {
        "colab": {
          "base_uri": "https://localhost:8080/"
        },
        "id": "2XghDYmt4J-9",
        "outputId": "610d5cb9-59d0-4eb4-fa41-d6128c5fd373"
      },
      "source": [
        "def node3():\n",
        "  if q[27] == 1:\n",
        "    print(\"node 27\")\n",
        "    if q[26] == 1:\n",
        "      print(\"node 26\")\n",
        "      if q[24] == 1:\n",
        "        if p[23] > p[25]:\n",
        "          if q[23] == 1:\n",
        "            print(\"Node 23\")\n",
        "            if q[22] == 1 :\n",
        "              print(\"Node 22\")\n",
        "        else:\n",
        "          if q[25] == 1:\n",
        "            print(\"Node 25\")      \n",
        "\n",
        "  else:\n",
        "    print(\"node28\")\n",
        "\n",
        "node3()"
      ],
      "execution_count": null,
      "outputs": [
        {
          "output_type": "stream",
          "name": "stdout",
          "text": [
            "node 27\n"
          ]
        }
      ]
    },
    {
      "cell_type": "code",
      "metadata": {
        "id": "WLNbgJdu5HMy"
      },
      "source": [
        "def node4():\n",
        "  if q[18] == 1:\n",
        "    print(\"Node 18\")\n",
        "    if p[19] > p[16]:\n",
        "      if q[19] == 1:\n",
        "        print(\"Node 19\")\n",
        "    else:\n",
        "      if p[17] > p[15] :\n",
        "        if q[17] == 1:\n",
        "          print(\"Node 17\")\n",
        "      else:\n",
        "        if q[15] == 1:\n",
        "          print(\"Node 15\")\n",
        "          if q[14] == 1:\n",
        "            print(\"Node 14\")\n",
        "            if q[13] == 1:\n",
        "              print(\"Node 13\") \n",
        "\n",
        "\n",
        "node4()                     "
      ],
      "execution_count": null,
      "outputs": []
    },
    {
      "cell_type": "code",
      "metadata": {
        "id": "e6-SKL7C7JcN"
      },
      "source": [
        "def node5():\n",
        "  if q[4] == 1:\n",
        "    print(\"Node 4\")\n",
        "    if p[5]> p[3]:\n",
        "      if q[5] == 1:\n",
        "        print(\"Node 5\")\n",
        "    else:\n",
        "      if q[3] == 1:\n",
        "        print(\"Node 3\")\n",
        "        if q[2] == 1:\n",
        "          print(\"Node 2\")\n",
        "          if q[1] == 1:\n",
        "            print(\"Node 1\")\n",
        "  else:\n",
        "    if q[9] == 1:\n",
        "      if p[8]>p[11]:\n",
        "        if q[8] == 1:\n",
        "          print(\"Done 8\")\n",
        "          if q[7] == 1:\n",
        "            print(\"Done 7\")\n",
        "      else:\n",
        "        if q[11] == 1:\n",
        "          print(\"Done 11\")\n",
        "          if q[10] > q[12]:\n",
        "            if q[10]==1:\n",
        "              print(\"Node 10\")\n",
        "            else:\n",
        "              if q[12]==1:\n",
        "                print(\"Node 12\")        \n",
        "node5()"
      ],
      "execution_count": null,
      "outputs": []
    }
  ]
}