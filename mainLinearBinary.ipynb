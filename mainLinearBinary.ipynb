{
  "nbformat": 4,
  "nbformat_minor": 0,
  "metadata": {
    "colab": {
      "name": "mainLinearBinary.ipynb",
      "provenance": [],
      "authorship_tag": "ABX9TyPUewFVKn+ORvZJCESCAGDK",
      "include_colab_link": true
    },
    "kernelspec": {
      "name": "python3",
      "display_name": "Python 3"
    },
    "language_info": {
      "name": "python"
    }
  },
  "cells": [
    {
      "cell_type": "markdown",
      "metadata": {
        "id": "view-in-github",
        "colab_type": "text"
      },
      "source": [
        "<a href=\"https://colab.research.google.com/github/sisifo3/P_T_1/blob/main/mainLinearBinary.ipynb\" target=\"_parent\"><img src=\"https://colab.research.google.com/assets/colab-badge.svg\" alt=\"Open In Colab\"/></a>"
      ]
    },
    {
      "cell_type": "code",
      "metadata": {
        "colab": {
          "base_uri": "https://localhost:8080/"
        },
        "id": "5QXgm8pFVkxt",
        "outputId": "98c1bba1-b2bb-4592-a448-0f5b4e092321"
      },
      "source": [
        "t = [0] * 46\n",
        "t[45] = 1\n",
        "t[36] = 1\n",
        "t[29] = 1\n",
        "t[21] = 1\n",
        "t[20] = 1\n",
        "t[18] = 1\n",
        "t[16] = 1\n",
        "t[15] = 1\n",
        "t[14] = 1\n",
        "t[13] = 1\n",
        "\n",
        "n1,d1 = LinearSearchColector(t)\n",
        "n2,d2  = callNode(t,n1)   \n",
        "\n",
        "print(n1,n2)\n",
        "print(d1,d2)"
      ],
      "execution_count": 36,
      "outputs": [
        {
          "output_type": "stream",
          "name": "stdout",
          "text": [
            "21 13\n",
            "[45, 36, 29, 21, 6] [16, 13]\n"
          ]
        }
      ]
    },
    {
      "cell_type": "code",
      "metadata": {
        "colab": {
          "base_uri": "https://localhost:8080/"
        },
        "id": "9Wo3YmduWCZZ",
        "outputId": "86e631af-c22b-4557-dab6-c6928ffed259"
      },
      "source": [
        "def callNode(t,n):\n",
        "  if n == 45:\n",
        "    n , d = node1LinearSearch(t)\n",
        "  elif n == 36:\n",
        "    n, d =  node2LinearSearch(t)  \n",
        "  elif n == 29:\n",
        "    n, d =  node3LinearSearch(t)  \n",
        "  elif n == 21:\n",
        "    n,d = node4LinearSearch(t)\n",
        "  elif n == 6:      \n",
        "    n , d = node5LinearSearch(t)\n",
        "  return n, d   \n",
        "\n",
        "n = 6\n",
        "\n",
        "n,d  = callNode(t,n)   \n",
        "print(n)\n",
        "print(d)"
      ],
      "execution_count": 28,
      "outputs": [
        {
          "output_type": "stream",
          "name": "stdout",
          "text": [
            "node 4\n",
            "node 9\n",
            "6\n",
            "[4, 9]\n"
          ]
        }
      ]
    },
    {
      "cell_type": "code",
      "metadata": {
        "colab": {
          "base_uri": "https://localhost:8080/"
        },
        "id": "ZZpu8-h9U8of",
        "outputId": "7d3fd3d9-21c1-4a54-e218-b9a72269e6e0"
      },
      "source": [
        "# esta es la version estable para una busqueda lineal de colector \n",
        "def LinearSearchColector(t):\n",
        "  sortCheck = [45,36,29,21,6]\n",
        "\n",
        "  n = 0\n",
        "  j = 0\n",
        "  nodesvisited = []\n",
        "  for i in sortCheck: \n",
        "    #print(\"j\",j)\n",
        "    nodesvisited.append(i)\n",
        "    tl = sortCheck[j-1]\n",
        "    if (t[45] == 0):\n",
        "      print(\"No Node to call\") \n",
        "      break\n",
        "    if ((t[i] == 0) and (t[tl] == 1)):\n",
        "      n = tl\n",
        "      break\n",
        "    if ((t[i] == 1) and (j == 4)):\n",
        "      n = sortCheck[j]\n",
        "      break\n",
        "      \n",
        "    j = j+1  \n",
        "  #print(t[45])  \n",
        "  #print(\"node to call \", n)\n",
        "  return n, nodesvisited\n",
        "#Revisa el vector de infectados \n",
        "#y listo simple es una busqueda lineal \n",
        "# Esta version ya esta estable\n",
        "\n",
        "t = [0] * 46\n",
        "t[45] = 0\n",
        "t[36] = 0\n",
        "t[29] = 0\n",
        "t[21] = 0\n",
        "t[6] = 0\n",
        "sortCheck = [45,36,29,21,6]\n",
        "n, nodesvisited = LinearSearchColector(t)\n",
        "print(n)\n",
        "print(nodesvisited)"
      ],
      "execution_count": 7,
      "outputs": [
        {
          "output_type": "stream",
          "name": "stdout",
          "text": [
            "No Node to call\n",
            "0\n",
            "[45]\n"
          ]
        }
      ]
    },
    {
      "cell_type": "code",
      "metadata": {
        "colab": {
          "base_uri": "https://localhost:8080/"
        },
        "id": "1li-8hQIWIqh",
        "outputId": "1240f5cc-f010-4c36-f01d-8db210fd7d37"
      },
      "source": [
        "#esta ya es una version estable del nodo 1\n",
        "# es la que vamos a usar. \n",
        "#sortCheck = [39,38,43,41]\n",
        "\n",
        "\n",
        "def node1LinearSearch(t):\n",
        "    \n",
        "  sortCheck = [39,38,43,41]\n",
        "\n",
        "  nodesvisited = [] \n",
        "\n",
        "  if t[39] == 0:\n",
        "    print(\"no nodes\")\n",
        "    nodesvisited.append(39)\n",
        "    n = 45\n",
        "\n",
        "  elif t[39] == 1:\n",
        "    print(\"node 39\")\n",
        "    nodesvisited.append(39)\n",
        "    if t[38] == 1:\n",
        "      print(\"node 38\")\n",
        "      nodesvisited.append(38)\n",
        "      n = 38\n",
        "    elif t[38] == 0:\n",
        "      print(\"node 38\")\n",
        "      nodesvisited.append(38)\n",
        "      if t[43] == 1:\n",
        "        print(\"node 43\")\n",
        "        nodesvisited.append(43)\n",
        "        n = 43\n",
        "      elif t[43] == 0:\n",
        "        print(\"node 43\")\n",
        "        nodesvisited.append(43)\n",
        "        n = 39\n",
        "  return n, nodesvisited\n",
        "\n",
        "\n",
        "t= [0] * 46\n",
        "t[39] = 0\n",
        "t[38] = 0\n",
        "t[43] = 0\n",
        "\n",
        "n , nodesvisited = node1LinearSearch(t)\n",
        "print(n)\n",
        "print(nodesvisited)"
      ],
      "execution_count": 11,
      "outputs": [
        {
          "output_type": "stream",
          "name": "stdout",
          "text": [
            "no nodes\n",
            "45\n",
            "[39]\n"
          ]
        }
      ]
    },
    {
      "cell_type": "code",
      "metadata": {
        "colab": {
          "base_uri": "https://localhost:8080/"
        },
        "id": "aszSP-ScWVtU",
        "outputId": "6d76f69e-7657-4cc5-dbec-9aaf26bacfa5"
      },
      "source": [
        "#Version estable de nodo2 usando busqueda lineal pero de saltos.\n",
        " \n",
        "def node2LinearSearch(t):\n",
        "\n",
        "  sortCheck = [30,31,33,34,35]\n",
        "  nodesvisited = [] \n",
        "\n",
        "  if t[33] == 0:\n",
        "    print(\"node 33\")\n",
        "    nodesvisited.append(33)\n",
        "    n = 36\n",
        "    if t[35] == 1:\n",
        "      print(\"node 35\")\n",
        "      nodesvisited.append(35)\n",
        "      if t[34] == 1:\n",
        "        print(\"node 34\")\n",
        "        nodesvisited.append(34)\n",
        "        n = 34\n",
        "      elif t[34] ==0:\n",
        "        print(\"node 34\")\n",
        "        nodesvisited.append(34)\n",
        "        n = 35  \n",
        "    elif t[35] == 0:\n",
        "      print(\"node 35\")\n",
        "      nodesvisited.append(35)\n",
        "      n = 36\n",
        "  elif t[33] == 1:\n",
        "    print(\"nodes 33\")\n",
        "    nodesvisited.append(33)\n",
        "    if t[30] == 0:\n",
        "      print(\"nodes 30\")\n",
        "      nodesvisited.append(30)\n",
        "      if t[31] == 0:\n",
        "        print(\"node 30\")\n",
        "        nodesvisited.append(31)\n",
        "        n = 33\n",
        "      elif t[31] == 1:\n",
        "        print(\"node 31\")\n",
        "        nodesvisited.append(31)\n",
        "        n = 31  \n",
        "    if t[30] == 1:\n",
        "      print(\"node 30\")\n",
        "      nodesvisited.append(30)  \n",
        "      n = 30\n",
        "  return n, nodesvisited\n",
        "\n",
        "\n",
        "\n",
        "t= [0] * 46\n",
        "t[30] = 0\n",
        "t[31] = 0\n",
        "t[33] = 0\n",
        "t[34] = 0\n",
        "t[35] = 0\n",
        "\n",
        "n, nodesvisited =  node2LinearSearch(t)  \n",
        "print(n)\n",
        "print(nodesvisited)\n",
        " "
      ],
      "execution_count": 12,
      "outputs": [
        {
          "output_type": "stream",
          "name": "stdout",
          "text": [
            "node 33\n",
            "node 35\n",
            "36\n",
            "[33, 35]\n"
          ]
        }
      ]
    },
    {
      "cell_type": "code",
      "metadata": {
        "colab": {
          "base_uri": "https://localhost:8080/"
        },
        "id": "OknJODsGWebF",
        "outputId": "acb220a3-d21c-41ea-f806-de90ac3c70e3"
      },
      "source": [
        "#Version estable de nodo2 usando busqueda lineal pero de saltos.\n",
        " \n",
        "def node3LinearSearch(t):\n",
        "\n",
        "  #sortCheck = [30,31,33,34,35]\n",
        "  sortCheck = [25,24,26,27,28]\n",
        "\n",
        "  nodesvisited = [] \n",
        "\n",
        "  if t[26] == 0:\n",
        "    print(\"node 26\")\n",
        "    nodesvisited.append(26)\n",
        "    n = 29\n",
        "    if t[28] == 1:\n",
        "      print(\"node 28\")\n",
        "      nodesvisited.append(28)\n",
        "      if t[27] == 1:\n",
        "        print(\"node 27\")\n",
        "        nodesvisited.append(27)\n",
        "        n = 27\n",
        "      elif t[27] ==0:\n",
        "        print(\"node 27\")\n",
        "        nodesvisited.append(27)\n",
        "        n = 28  \n",
        "    elif t[28] == 0:\n",
        "      print(\"node 28\")\n",
        "      nodesvisited.append(28)\n",
        "      n = 29\n",
        "  elif t[26] == 1:\n",
        "    print(\"nodes 26\")\n",
        "    nodesvisited.append(26)\n",
        "    if t[25] == 0:\n",
        "      print(\"nodes 25\")\n",
        "      nodesvisited.append(25)\n",
        "      if t[24] == 0:\n",
        "        print(\"node 24\")\n",
        "        nodesvisited.append(24)\n",
        "        n = 26\n",
        "      elif t[24] == 1:\n",
        "        print(\"node 24\")\n",
        "        nodesvisited.append(24)\n",
        "        n = 24 \n",
        "    if t[25] == 1:\n",
        "      print(\"node 25\")\n",
        "      nodesvisited.append(25)  \n",
        "      n = 25\n",
        "  return n, nodesvisited\n",
        "\n",
        "\n",
        "\n",
        "t= [0] * 46\n",
        "t[25] = 1\n",
        "t[24] = 1\n",
        "t[26] = 1\n",
        "t[27] = 1\n",
        "t[28] = 1\n",
        "\n",
        "n, nodesvisited =  node3LinearSearch(t)  \n",
        "print(n)\n",
        "print(nodesvisited)\n",
        " "
      ],
      "execution_count": 13,
      "outputs": [
        {
          "output_type": "stream",
          "name": "stdout",
          "text": [
            "nodes 26\n",
            "node 25\n",
            "25\n",
            "[26, 25]\n"
          ]
        }
      ]
    },
    {
      "cell_type": "code",
      "metadata": {
        "colab": {
          "base_uri": "https://localhost:8080/"
        },
        "id": "oDvzpJZlW4Ge",
        "outputId": "bd55607b-f0a3-4624-b88b-94443948a522"
      },
      "source": [
        "#estable nodo 4\n",
        "def node4LinearSearch(t):\n",
        "\n",
        "  sortCheck = [13,14,15,16,18,20]\n",
        "  d = [] \n",
        "\n",
        "  if t[16] == 0:\n",
        "    print(\"node 16\")\n",
        "    d.append(16)\n",
        "    \n",
        "    if t[20] == 0:\n",
        "      print(\"node 20\")\n",
        "      d.append(20)\n",
        "      n = 21\n",
        "    \n",
        "    elif t[20] == 1:\n",
        "      print(\"node 201\")\n",
        "      d.append(20)\n",
        "      if t[18] == 0:\n",
        "        print(\"node 18\")\n",
        "        d.append(18)\n",
        "        n = 20\n",
        "      elif t[18] == 1:\n",
        "        print(\"node 18\")\n",
        "        d.append(18)\n",
        "        n = 18    \n",
        "\n",
        "\n",
        "  elif t[16] ==1 :\n",
        "    d.append(16)\n",
        "    n = 16\n",
        "    if t[13] == 1:\n",
        "      d.append(13)\n",
        "      n = 13\n",
        "    elif t[13] == 0:\n",
        "      d.append(13)\n",
        "      if t[15] == 0:\n",
        "        d.append(15)\n",
        "        n = 16 \n",
        "      elif t[15] == 1:\n",
        "        d.append(15)\n",
        "        if t[14] == 1:\n",
        "          d.append(14)\n",
        "          n= 14\n",
        "        elif t[14] == 0:\n",
        "          d.append(14)\n",
        "          n = 15    \n",
        "  return n,d\n",
        "\n",
        "t= [0] * 46\n",
        "t[13] = 0\n",
        "t[14] = 0\n",
        "t[15] = 0\n",
        "t[16] = 0\n",
        "t[18] = 0\n",
        "t[20] = 0\n",
        "\n",
        "n,d = node4LinearSearch(t)\n",
        "print(n)\n",
        "print(d)\n"
      ],
      "execution_count": 14,
      "outputs": [
        {
          "output_type": "stream",
          "name": "stdout",
          "text": [
            "node 16\n",
            "node 20\n",
            "21\n",
            "[16, 20]\n"
          ]
        }
      ]
    },
    {
      "cell_type": "code",
      "metadata": {
        "colab": {
          "base_uri": "https://localhost:8080/"
        },
        "id": "nPXxFLW_XE5T",
        "outputId": "04b9fc21-2bef-480b-f0cf-804480f0f188"
      },
      "source": [
        "\n",
        "\n",
        "def node5LinearSearch(t):\n",
        "  sortCheck = [4,3,9,5,8,11]\n",
        "\n",
        "\n",
        "  d = []\n",
        "  n = 0\n",
        "\n",
        "  if t[4] == 1:\n",
        "    print(\"Node 4\")\n",
        "    d.append(4)\n",
        "    if t[3] == 1:\n",
        "      print(\"node 3\")\n",
        "      d.append(3)\n",
        "      n=3\n",
        "    elif t[3] == 0:\n",
        "      print(\"node 3\")\n",
        "      d.append(3)\n",
        "      if t[5] == 1:\n",
        "        print(\"node 5\")\n",
        "        d.append(5)\n",
        "        n = 5\n",
        "      elif t[5] == 0:\n",
        "        print(\"node 5\")\n",
        "        d.append(5)\n",
        "        n = 5  \n",
        "  elif t[4] == 0:\n",
        "    print(\"node 4\")\n",
        "    d.append(4)\n",
        "    if t[9] == 0:\n",
        "      print(\"node 9\")\n",
        "      d.append(9)\n",
        "      n = 6\n",
        "    elif t[9] ==1:\n",
        "      print(\"node 9\")\n",
        "      d.append(9)\n",
        "      if t[8] == 1:\n",
        "        print(\"node 8\")\n",
        "        d.append(8)\n",
        "        n = 8\n",
        "      elif t[8] == 0:\n",
        "        if t[11] == 0:\n",
        "          print(\"node 11\")\n",
        "          d.append(11)\n",
        "          n = 9\n",
        "        elif t[11] == 1:\n",
        "          print(\"node 11\")\n",
        "          d.append(11)\n",
        "          n =11\n",
        "  return n,d\n",
        "\n",
        "t= [0] * 46\n",
        "t[4] = 0\n",
        "t[3] = 0\n",
        "t[9] = 0\n",
        "t[5] = 0\n",
        "t[8] = 0\n",
        "t[11] = 0\n",
        "\n",
        "n , d = node5LinearSearch(t)\n",
        "\n",
        "print(n)\n",
        "print(d)           \n",
        "\n",
        "\n"
      ],
      "execution_count": 26,
      "outputs": [
        {
          "output_type": "stream",
          "name": "stdout",
          "text": [
            "node 4\n",
            "node 9\n",
            "6\n",
            "[4, 9]\n"
          ]
        }
      ]
    }
  ]
}