{
  "nbformat": 4,
  "nbformat_minor": 0,
  "metadata": {
    "colab": {
      "name": "LinearSearchCaballeriaPesada.ipynb",
      "provenance": [],
      "authorship_tag": "ABX9TyN+08XIYhIoJ8zXZKPzG9qU",
      "include_colab_link": true
    },
    "kernelspec": {
      "name": "python3",
      "display_name": "Python 3"
    },
    "language_info": {
      "name": "python"
    }
  },
  "cells": [
    {
      "cell_type": "markdown",
      "metadata": {
        "id": "view-in-github",
        "colab_type": "text"
      },
      "source": [
        "<a href=\"https://colab.research.google.com/github/sisifo3/P_T_1/blob/main/LinearSearchCaballeriaPesada.ipynb\" target=\"_parent\"><img src=\"https://colab.research.google.com/assets/colab-badge.svg\" alt=\"Open In Colab\"/></a>"
      ]
    },
    {
      "cell_type": "code",
      "metadata": {
        "colab": {
          "base_uri": "https://localhost:8080/"
        },
        "id": "MM_3JaG_UoZU",
        "outputId": "f0d8d478-b34e-4247-8b5c-a69c47c91c3c"
      },
      "source": [
        "def LinearSearchALLnodes4(t):\n",
        "  A = [18,19,16,17,15,14,13]\n",
        "  d = []\n",
        "  m = []\n",
        "  n = 0\n",
        "  j = 0\n",
        "\n",
        "  for i in A:\n",
        "    d.append(i)\n",
        "    print(\"i\",i)\n",
        "    if t[i]  == 1:\n",
        "      m.append(i) \n",
        "    if (i==19 and t[i]==1)or (i == 17 and t[i] == 1):\n",
        "      break\n",
        "    if ((t[i] == 0) and (i != 19 and i != 17)and (t[j] == 1)):\n",
        "      break\n",
        "    j = i\n",
        "\n",
        "  print(\"m\" , m)\n",
        "  if 19 in m:\n",
        "    n = 19\n",
        "  elif 17 in m:\n",
        "    n = 17\n",
        "  elif 19 or 17 not in m:\n",
        "    if m != []:\n",
        "      n = m[-1]\n",
        "    else:\n",
        "      n = 0  \n",
        "    print(\"n-1\" ,n)\n",
        "  return n,d         \n",
        "\n",
        "t = [0] * 46\n",
        "t[18] = 1\n",
        "t[19] = 0\n",
        "t[16] = 0\n",
        "t[17] = 0\n",
        "t[15] = 0\n",
        "t[14] = 0\n",
        "t[13] = 0\n",
        "n,d = LinearSearchALLnodes4(t)\n",
        "print(\"n\",n)\n",
        "print(\"d\",d)"
      ],
      "execution_count": null,
      "outputs": [
        {
          "output_type": "stream",
          "name": "stdout",
          "text": [
            "i 18\n",
            "i 19\n",
            "i 16\n",
            "i 17\n",
            "i 15\n",
            "i 14\n",
            "i 13\n",
            "m [18]\n",
            "n-1 18\n",
            "n 18\n",
            "d [18, 19, 16, 17, 15, 14, 13]\n"
          ]
        }
      ]
    },
    {
      "cell_type": "code",
      "metadata": {
        "colab": {
          "base_uri": "https://localhost:8080/"
        },
        "id": "EsB3TobjbRn1",
        "outputId": "e6030978-9080-4bd3-81b7-7d7745a8b3e0"
      },
      "source": [
        "def LinearSearchALLnodes2(t):\n",
        "  A = [34,33,31,32,30]\n",
        "  d = []\n",
        "  m = []\n",
        "  n = 0\n",
        "  j = 0\n",
        "  for i in A:\n",
        "    d.append(i)\n",
        "    print(\"i\",i)\n",
        "    if t[i]  == 1:\n",
        "      m.append(i) \n",
        "    if (i==32 and t[i]==1):\n",
        "      break\n",
        "    if ((t[i] == 0) and (i != 32)and (t[j] == 1)):\n",
        "      break\n",
        "    j = i\n",
        "\n",
        "  print(\"m\" , m)\n",
        "  if 32 in m:\n",
        "    n = 32\n",
        "  #elif 17 in m:\n",
        "  #  n = 17\n",
        "  elif 32 not in m:\n",
        "    if m != []:\n",
        "      n = m[-1]\n",
        "    else:\n",
        "      n = 0\n",
        "    print(\"n-1\" ,n)\n",
        "  return n,d         \n",
        "\n",
        "t = [0] * 46\n",
        "\n",
        "t[30] = 0\n",
        "t[32] = 0\n",
        "t[31] = 0\n",
        "t[33] = 0\n",
        "t[34] = 0\n",
        "n,d = LinearSearchALLnodes2(t)\n",
        "print(\"n\",n)\n",
        "print(\"d\",d)"
      ],
      "execution_count": null,
      "outputs": [
        {
          "output_type": "stream",
          "name": "stdout",
          "text": [
            "i 34\n",
            "i 33\n",
            "i 31\n",
            "i 32\n",
            "i 30\n",
            "m []\n",
            "n-1 0\n",
            "n 0\n",
            "d [34, 33, 31, 32, 30]\n"
          ]
        }
      ]
    },
    {
      "cell_type": "code",
      "metadata": {
        "colab": {
          "base_uri": "https://localhost:8080/"
        },
        "id": "x12sVvwZeLv4",
        "outputId": "78989dcd-1252-472d-9089-6228fc42d7c2"
      },
      "source": [
        "def LinearSearchALLnodes3(t):\n",
        "  A = [27,26,24,23,22,25]\n",
        "  d = []\n",
        "  m = []\n",
        "  n = 0\n",
        "  j = 0\n",
        "  for i in A:\n",
        "    d.append(i)\n",
        "    print(\"i\",i)\n",
        "    if t[i]  == 1:\n",
        "      m.append(i) \n",
        "    if (i==22 and t[i]==1)or(i == 25 and t[i] == 1):\n",
        "      break\n",
        "    if ((t[i] == 0) and (i != 22 and i != 25 and i != 23)and (t[j] == 1)):\n",
        "      break\n",
        "    j = i\n",
        "\n",
        "  print(\"m\" , m)\n",
        "  if 22 in m:\n",
        "    n = 32\n",
        "  elif 25 in m:\n",
        "    n = 25\n",
        "  elif 32 not in m:\n",
        "    if m != []:\n",
        "      n = m[-1]\n",
        "    else:\n",
        "      n = 0\n",
        "    print(\"n-1\" ,n)\n",
        "  return n,d         \n",
        "\n",
        "t = [0] * 46\n",
        "\n",
        "t[27] = 0\n",
        "t[26] = 0\n",
        "t[24] = 0\n",
        "t[23] = 0\n",
        "t[22] = 0\n",
        "t[25] = 0\n",
        "n,d = LinearSearchALLnodes3(t)\n",
        "print(\"n\",n)\n",
        "print(\"d\",d)"
      ],
      "execution_count": null,
      "outputs": [
        {
          "output_type": "stream",
          "name": "stdout",
          "text": [
            "i 27\n",
            "i 26\n",
            "i 24\n",
            "i 23\n",
            "i 22\n",
            "i 25\n",
            "m []\n",
            "n-1 0\n",
            "n 0\n",
            "d [27, 26, 24, 23, 22, 25]\n"
          ]
        }
      ]
    },
    {
      "cell_type": "code",
      "metadata": {
        "colab": {
          "base_uri": "https://localhost:8080/"
        },
        "id": "6DeAzHOmgSfa",
        "outputId": "2bcdbb82-b37d-494a-cba9-e64740fce9bd"
      },
      "source": [
        "def LinearSearchALLnodes5A(t):\n",
        "  A = [5,3,2,1]\n",
        "  d = []\n",
        "  m = []\n",
        "  n = 0\n",
        "  j = 0\n",
        "  for i in A:\n",
        "    d.append(i)\n",
        "    print(\"i\",i)\n",
        "    if t[i]  == 1:\n",
        "      m.append(i) \n",
        "    if (i==5 and t[i]==1)or(i == 1 and t[i] == 1):\n",
        "      break\n",
        "    if ((t[i] == 0) and (i != 5)and (t[j] == 1) ):\n",
        "      break\n",
        "    j = i\n",
        "\n",
        "  print(\"m\" , m)\n",
        "  if 5 in m:\n",
        "    n = 5\n",
        "  #elif 25 in m:\n",
        "  #  n = 25\n",
        "  elif 5 not in m:\n",
        "    if m != []:\n",
        "      n = m[-1]\n",
        "    else:\n",
        "      n = 0\n",
        "    print(\"n-1\" ,n)\n",
        "  return n,d         \n",
        "\n",
        "t = [0] * 46\n",
        "\n",
        "t[4] = 0\n",
        "t[5] = 0\n",
        "t[3] = 0\n",
        "t[2] = 0\n",
        "t[1] = 1\n",
        "n,d = LinearSearchALLnodes5A(t)\n",
        "print(\"n\",n)\n",
        "print(\"d\",d)"
      ],
      "execution_count": null,
      "outputs": [
        {
          "output_type": "stream",
          "name": "stdout",
          "text": [
            "i 5\n",
            "i 3\n",
            "i 2\n",
            "i 1\n",
            "m [1]\n",
            "n-1 1\n",
            "n 1\n",
            "d [5, 3, 2, 1]\n"
          ]
        }
      ]
    },
    {
      "cell_type": "code",
      "metadata": {
        "colab": {
          "base_uri": "https://localhost:8080/"
        },
        "id": "x9Ytv4_Uhi8R",
        "outputId": "1837653d-27c1-4f9c-eb04-cc928094994f"
      },
      "source": [
        "def LinearSearchALLnodes5B(t):\n",
        "  A = [8,7,11,10,12]\n",
        "  d = []\n",
        "  m = []\n",
        "  n = 0\n",
        "  j = 0\n",
        "  for i in A:\n",
        "    d.append(i)\n",
        "    print(\"i\",i)\n",
        "    if t[i]  == 1:\n",
        "      m.append(i) \n",
        "    if (i==7 and t[i]==1) or (i == 10 and t[i] == 1) or (i == 12 and t[i] == 1):\n",
        "      break\n",
        "    if ((t[i] == 0) and (i != 10 and i != 8) and (t[j] == 1) ):\n",
        "      break\n",
        "    j = i\n",
        "\n",
        "  print(\"m\" , m)\n",
        "  if 7 in m:\n",
        "    n = 7\n",
        "  elif 10 in m:\n",
        "    n = 10\n",
        "  \n",
        "  elif 7 or 10 not in m:\n",
        "    if m != []:\n",
        "      n = m[-1]\n",
        "    else:\n",
        "      n = 0\n",
        "    print(\"n-1\" ,n)\n",
        "  return n,d         \n",
        "\n",
        "t = [0] * 46\n",
        "\n",
        "t[9] = 0\n",
        "t[8] = 0\n",
        "t[7] = 0\n",
        "t[11] = 0\n",
        "t[10] = 0\n",
        "t[12] = 0\n",
        "n,d = LinearSearchALLnodes5B(t)\n",
        "print(\"n\",n)\n",
        "print(\"d\",d)"
      ],
      "execution_count": null,
      "outputs": [
        {
          "output_type": "stream",
          "name": "stdout",
          "text": [
            "i 8\n",
            "i 7\n",
            "i 11\n",
            "i 10\n",
            "i 12\n",
            "m []\n",
            "n-1 0\n",
            "n 0\n",
            "d [8, 7, 11, 10, 12]\n"
          ]
        }
      ]
    },
    {
      "cell_type": "code",
      "metadata": {
        "colab": {
          "base_uri": "https://localhost:8080/"
        },
        "id": "C3UJRY-hoIpx",
        "outputId": "33a7cd1f-cd1c-4cdf-eab7-bc2ae8430b00"
      },
      "source": [
        "def LinearSearchALLnodes1(t):\n",
        "  A = [38,37,43,44,41,40,42,]\n",
        "  d = []\n",
        "  m = []\n",
        "  n = 0\n",
        "  j = 0\n",
        "  for i in A:\n",
        "    d.append(i)\n",
        "    print(\"i\",i)\n",
        "    if t[i]  == 1:\n",
        "      m.append(i) \n",
        "    if (i == 37 and t[i]==1) or (i == 40 and t[i] == 1) or (i == 42 and t[i] == 1) or (i == 44 and t[i] == 1):\n",
        "      break\n",
        "    if ((t[i] == 0) and (i != 41  and i != 44 and i!= 40) and (t[j] == 1) ):\n",
        "      break\n",
        "    if (i == 41 and t[i] == 0) and (t[j] == 1):\n",
        "      break\n",
        "    if ((i == 41 and t[i] == 0) and (j == 44 and t[j] == 0) and (t[43] == 1) ):\n",
        "      break  \n",
        "    j = i\n",
        "\n",
        "  print(\"m\" , m)\n",
        "  if 7 in m:\n",
        "    n = 7\n",
        "  elif 10 in m:\n",
        "    n = 10\n",
        "  \n",
        "  elif 7 or 10 not in m:\n",
        "    if m != []:\n",
        "      n = m[-1]\n",
        "    else:\n",
        "      n = 0\n",
        "    print(\"n-1\" ,n)\n",
        "  return n,d         \n",
        "\n",
        "t = [0] * 46\n",
        "\n",
        "t[38] = 0\n",
        "t[37] = 0\n",
        "t[43] = 0\n",
        "t[41] = 0\n",
        "t[40] = 0\n",
        "t[42] = 0\n",
        "t[44] = 1\n",
        "n,d = LinearSearchALLnodes1(t)\n",
        "print(\"n\",n)\n",
        "print(\"d\",d)"
      ],
      "execution_count": null,
      "outputs": [
        {
          "output_type": "stream",
          "name": "stdout",
          "text": [
            "i 38\n",
            "i 37\n",
            "i 43\n",
            "i 44\n",
            "m [44]\n",
            "n-1 44\n",
            "n 44\n",
            "d [38, 37, 43, 44]\n"
          ]
        }
      ]
    }
  ]
}