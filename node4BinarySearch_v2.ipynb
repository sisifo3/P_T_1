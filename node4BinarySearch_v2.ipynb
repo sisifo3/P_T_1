{
  "nbformat": 4,
  "nbformat_minor": 0,
  "metadata": {
    "colab": {
      "name": "node4BinarySearch_v2.ipynb",
      "provenance": [],
      "authorship_tag": "ABX9TyPxSQpmCeLxl9m+BZYBjKCF",
      "include_colab_link": true
    },
    "kernelspec": {
      "name": "python3",
      "display_name": "Python 3"
    },
    "language_info": {
      "name": "python"
    }
  },
  "cells": [
    {
      "cell_type": "markdown",
      "metadata": {
        "id": "view-in-github",
        "colab_type": "text"
      },
      "source": [
        "<a href=\"https://colab.research.google.com/github/sisifo3/P_T_1/blob/main/node4BinarySearch_v2.ipynb\" target=\"_parent\"><img src=\"https://colab.research.google.com/assets/colab-badge.svg\" alt=\"Open In Colab\"/></a>"
      ]
    },
    {
      "cell_type": "code",
      "metadata": {
        "colab": {
          "base_uri": "https://localhost:8080/"
        },
        "id": "rQnAxToD4dIh",
        "outputId": "ca82b940-b219-45b6-eee5-36c52e38a561"
      },
      "source": [
        "#estable nodo 4\n",
        "#En esta funcion agregamos 17,19\n",
        "\n",
        "def node4BinarySearch(t):\n",
        "\n",
        "  sortCheck = [13,14,15,16,17,18,19,20]\n",
        "  d = [] \n",
        "\n",
        "  if t[16] == 0:\n",
        "    print(\"node 16\")\n",
        "    d.append(16)\n",
        "    \n",
        "    if t[20] == 0:\n",
        "      print(\"node 20\")\n",
        "      d.append(20)\n",
        "      n = 21\n",
        "    \n",
        "    elif t[20] == 1:\n",
        "      print(\"node 201\")\n",
        "      d.append(20)\n",
        "      if t[18] == 0:\n",
        "        print(\"node 18\")\n",
        "        d.append(18)\n",
        "        n = 20\n",
        "      elif t[18] == 1:\n",
        "        print(\"node 18\")\n",
        "        d.append(18)\n",
        "        n = 18\n",
        "        if t[19] == 1:\n",
        "          print(\"node 19\")  \n",
        "          d.append(19)\n",
        "          n = 19 \n",
        "\n",
        "\n",
        "\n",
        "  elif t[16] ==1 :\n",
        "    d.append(16)\n",
        "    n = 16\n",
        "    if t[13] == 1:\n",
        "      d.append(13)\n",
        "      n = 13\n",
        "    elif t[13] == 0:\n",
        "      d.append(13)\n",
        "      if t[15] == 0:\n",
        "        d.append(15)\n",
        "        n = 16\n",
        "        if t[17] == 1:\n",
        "          print(\"node 17\")\n",
        "          d.append(17)\n",
        "          n = 17 \n",
        "      elif t[15] == 1:\n",
        "        d.append(15)\n",
        "        if t[14] == 1:\n",
        "          d.append(14)\n",
        "          n= 14\n",
        "        elif t[14] == 0:\n",
        "          d.append(14)\n",
        "          n = 15    \n",
        "  return n,d\n",
        "\n",
        "t= [0] * 46\n",
        "t[13] = 1\n",
        "t[14] = 1\n",
        "t[15] = 1\n",
        "t[17] = 0\n",
        "t[16] = 1\n",
        "t[18] = 1\n",
        "t[19] = 0\n",
        "t[20] = 1\n",
        "\n",
        "n,d = node4BinarySearch(t)\n",
        "print(n)\n",
        "print(d)\n"
      ],
      "execution_count": 12,
      "outputs": [
        {
          "output_type": "stream",
          "name": "stdout",
          "text": [
            "13\n",
            "[16, 13]\n"
          ]
        }
      ]
    }
  ]
}