{
  "nbformat": 4,
  "nbformat_minor": 0,
  "metadata": {
    "colab": {
      "name": "BT_1.ipynb",
      "provenance": [],
      "authorship_tag": "ABX9TyPQCYzJXnGjV6fVNBnIQEcC",
      "include_colab_link": true
    },
    "kernelspec": {
      "name": "python3",
      "display_name": "Python 3"
    },
    "language_info": {
      "name": "python"
    }
  },
  "cells": [
    {
      "cell_type": "markdown",
      "metadata": {
        "id": "view-in-github",
        "colab_type": "text"
      },
      "source": [
        "<a href=\"https://colab.research.google.com/github/sisifo3/P_T_1/blob/main/BT_1.ipynb\" target=\"_parent\"><img src=\"https://colab.research.google.com/assets/colab-badge.svg\" alt=\"Open In Colab\"/></a>"
      ]
    },
    {
      "cell_type": "code",
      "metadata": {
        "id": "ypdsxoBWnnSj"
      },
      "source": [
        "from google.colab import files\n",
        "import pandas as pd\n",
        "import numpy as np\n",
        "\n",
        "import matplotlib.pyplot as plt\n",
        "import math\n",
        "import random\n"
      ],
      "execution_count": 12,
      "outputs": []
    },
    {
      "cell_type": "code",
      "metadata": {
        "colab": {
          "base_uri": "https://localhost:8080/"
        },
        "id": "iVb_6nIfoGev",
        "outputId": "6b76569e-804e-49f4-ce27-6dbc736fc1c7"
      },
      "source": [
        "m = [[8, 3, 1, 0], \n",
        "      [8, 3, 1], \n",
        "      [8, 3, 1, 2], \n",
        "      [8, 3], \n",
        "      [8, 3, 5, 4], \n",
        "      [8, 3, 5], \n",
        "      [8, 3, 5, 6], \n",
        "      [8, 3, 5, 6, 7], \n",
        "      [8], \n",
        "      [8, 13, 10, 9], \n",
        "      [8, 13, 10], \n",
        "      [8, 13, 10, 11], \n",
        "      [8, 13, 10, 11, 12], \n",
        "      [8, 13], \n",
        "      [8, 13, 15, 14], \n",
        "      [8, 13, 15], \n",
        "      [8, 13, 15, 16], \n",
        "      [8, 13, 15, 16, 17]]\n",
        "print(m)"
      ],
      "execution_count": 15,
      "outputs": [
        {
          "output_type": "stream",
          "name": "stdout",
          "text": [
            "[[8, 3, 1, 0], [8, 3, 1], [8, 3, 1, 2], [8, 3], [8, 3, 5, 4], [8, 3, 5], [8, 3, 5, 6], [8, 3, 5, 6, 7], [8], [8, 13, 10, 9], [8, 13, 10], [8, 13, 10, 11], [8, 13, 10, 11, 12], [8, 13], [8, 13, 15, 14], [8, 13, 15], [8, 13, 15, 16], [8, 13, 15, 16, 17]]\n"
          ]
        }
      ]
    },
    {
      "cell_type": "code",
      "metadata": {
        "id": "wYV7y-q_oI-d"
      },
      "source": [
        "#Metodologia del codigo \n",
        "\n",
        "# 8 <- Obtenemos los posibles siguientes nodos\n",
        "\n",
        "# Si el nodo da un test positivo:\n",
        "      #Lo retiramos de todos los arrays \n",
        "\n",
        "# Si el nodo es Negativo en el test \n",
        "      #Quitamos los arrays que lo contengan        "
      ],
      "execution_count": null,
      "outputs": []
    },
    {
      "cell_type": "markdown",
      "metadata": {
        "id": "ALdkdXRtonWH"
      },
      "source": [
        "Metodologia del codigo \n",
        "  \n",
        "    8 <- Obtenemos los posibles siguientes nodos\n",
        "\n",
        "    Si el nodo da un test positivo:\n",
        "\n",
        "        Lo retiramos de todos los arrays \n",
        "\n",
        "    Si el nodo es Negativo en el test \n",
        "\n",
        "        Quitamos los arrays que lo contengan "
      ]
    },
    {
      "cell_type": "code",
      "metadata": {
        "colab": {
          "base_uri": "https://localhost:8080/"
        },
        "id": "7YJa9quOpKM5",
        "outputId": "c95684f6-71e3-4cdf-87b1-8a0fe9b8f97e"
      },
      "source": [
        "\n",
        "M = m\n",
        "a = OnlyValues(M)\n",
        "n = 1\n",
        "\n",
        "while (n != 0):\n",
        "  n = len(a)\n",
        "  #print(a)\n",
        "  b = rand_n(n)\n",
        "  print(M)\n",
        "  if n > 1:\n",
        "    cpa, cpb  = Conditionalprobability(M)\n",
        "    a = OrderDecisions(cpa,cpb,a)\n",
        "    #print(cpa,cpb)\n",
        "    #print(a)\n",
        "  for i in range(n):\n",
        "    c = b[i]\n",
        "    d = a[i]\n",
        "    X = M\n",
        "    if c != 0:\n",
        "      X = DeletedNodes(M,d)\n",
        "    M = DeletedNode(X,d)\n",
        "  a = OnlyValues(M)\n",
        "  n = len(a)\n",
        "\n",
        "\n",
        "  \n",
        "\n",
        "\n"
      ],
      "execution_count": 51,
      "outputs": [
        {
          "output_type": "stream",
          "name": "stdout",
          "text": [
            "[[8, 3, 1, 0], [8, 3, 1], [8, 3, 1, 2], [8, 3], [8, 3, 5, 4], [8, 3, 5], [8, 3, 5, 6], [8, 3, 5, 6, 7], [8], [8, 13, 10, 9], [8, 13, 10], [8, 13, 10, 11], [8, 13, 10, 11, 12], [8, 13], [8, 13, 15, 14], [8, 13, 15], [8, 13, 15, 16], [8, 13, 15, 16, 17]]\n",
            "[[3, 1, 0], [3, 1], [3, 1, 2], [3], [3, 5, 4], [3, 5], [3, 5, 6], [3, 5, 6, 7], [13, 10, 9], [13, 10], [13, 10, 11], [13, 10, 11, 12], [13], [13, 15, 14], [13, 15], [13, 15, 16], [13, 15, 16, 17]]\n",
            "[0.2222222222222222, 0.28125]\n",
            "[3, 13]\n",
            "[[10, 9], [10], [10, 11], [10, 11, 12], [15, 14], [15], [15, 16], [15, 16, 17]]\n",
            "[0.25, 0.25]\n",
            "[10, 15]\n",
            "[[14], [16], [16, 17]]\n",
            "[0.5, 0.125]\n",
            "[16, 14]\n",
            "[[17]]\n"
          ]
        }
      ]
    },
    {
      "cell_type": "code",
      "metadata": {
        "colab": {
          "base_uri": "https://localhost:8080/"
        },
        "id": "jVkLsbUjntEh",
        "outputId": "29ef573b-23af-4140-fa5b-979ebd995280"
      },
      "source": [
        "# En esta funcion extraemos los posibles siguientes nodos\n",
        "def OnlyValues(m):\n",
        "  z = []\n",
        "  for n in m:\n",
        "    r =  n[0]\n",
        "    z.append(r) \n",
        "#  print(z)  \n",
        "  Z = list(set(z))\n",
        "  return Z\n",
        "#  print(Z)\n",
        "\n",
        "Z = OnlyValues(m)\n",
        "print(Z)"
      ],
      "execution_count": 8,
      "outputs": [
        {
          "output_type": "stream",
          "name": "stdout",
          "text": [
            "[1, 5]\n"
          ]
        }
      ]
    },
    {
      "cell_type": "code",
      "metadata": {
        "id": "_h6UZsxLpI9c"
      },
      "source": [
        ""
      ],
      "execution_count": null,
      "outputs": []
    },
    {
      "cell_type": "code",
      "metadata": {
        "colab": {
          "base_uri": "https://localhost:8080/"
        },
        "id": "9QS6HPO7n6eP",
        "outputId": "13f6bd84-0f55-4957-be73-8efcdad09e69"
      },
      "source": [
        "#eliminar los arrays que ya son zero\n",
        "\n",
        "def DeletedNodes(m,z):\n",
        "  x = []\n",
        "  for n in m:\n",
        "    #print(n)\n",
        "    if z in n:\n",
        "      x.append(n)\n",
        "      #print(n)\n",
        "  return x\n",
        "\n",
        "z = 3\n",
        "X = DeletedNodes(m,z)\n",
        "print(X)"
      ],
      "execution_count": 9,
      "outputs": [
        {
          "output_type": "stream",
          "name": "stdout",
          "text": [
            "[]\n"
          ]
        }
      ]
    },
    {
      "cell_type": "code",
      "metadata": {
        "colab": {
          "base_uri": "https://localhost:8080/"
        },
        "id": "_DaT-dUNn9Ah",
        "outputId": "b1950a99-e956-41cb-a1e7-0b8bfc504e6a"
      },
      "source": [
        "#Eliminar el nodo que testeamos\n",
        "def DeletedNode(m,z):\n",
        "  M = []\n",
        "  for n in m:\n",
        "    x = []\n",
        "    for y in n:\n",
        "      #print(y)\n",
        "      if y != z:\n",
        "        x.append(y)\n",
        "    #print(x)\n",
        "    M.append(x)\n",
        "\n",
        "  lM = [x for x in M if x != []]  \n",
        "  return lM    \n",
        "\n",
        "z = 8\n",
        "M = DeletedNode(m,z)\n",
        "print(M)"
      ],
      "execution_count": 10,
      "outputs": [
        {
          "output_type": "stream",
          "name": "stdout",
          "text": [
            "[[1, 0], [1], [1, 2], [5, 4], [5], [5, 6], [5, 6, 7]]\n"
          ]
        }
      ]
    },
    {
      "cell_type": "code",
      "metadata": {
        "colab": {
          "base_uri": "https://localhost:8080/"
        },
        "id": "qjtDD8tXxHM4",
        "outputId": "dd2afeb1-6920-432f-a7fb-ecdde87adc2d"
      },
      "source": [
        "'''\n",
        "def rand_n(n):\n",
        "  a = []\n",
        "  #print('done')\n",
        "  for i in range(n):\n",
        "    t = random.randint(0,1)  \n",
        "    a.append(t)\n",
        "    #print(t)\n",
        "  return a\n",
        "\n",
        "n = 7\n",
        "a = rand_n(n)\n",
        "print(a)\n",
        "'''"
      ],
      "execution_count": null,
      "outputs": [
        {
          "output_type": "stream",
          "name": "stdout",
          "text": [
            "[0, 0, 0, 0, 0, 1, 1]\n"
          ]
        }
      ]
    },
    {
      "cell_type": "code",
      "metadata": {
        "colab": {
          "base_uri": "https://localhost:8080/"
        },
        "id": "-Qno4AV62xG0",
        "outputId": "217ef6a0-998e-48f2-fdd0-5040ac922587"
      },
      "source": [
        "\n",
        "def rand_n(n):\n",
        "  a = [0] * n\n",
        "  r = n - 1\n",
        "  t = random.randint(0,r)  \n",
        "  a[t] = 1\n",
        "  return a\n",
        "\n",
        "n = 7\n",
        "a = rand_n(n)\n",
        "print(a)\n"
      ],
      "execution_count": 13,
      "outputs": [
        {
          "output_type": "stream",
          "name": "stdout",
          "text": [
            "[0, 1, 0, 0, 0, 0, 0]\n"
          ]
        }
      ]
    },
    {
      "cell_type": "code",
      "metadata": {
        "colab": {
          "base_uri": "https://localhost:8080/"
        },
        "id": "U__AazaMFcKi",
        "outputId": "04ff91f1-0676-4fe8-89f9-4dffab00a320"
      },
      "source": [
        "def OrderDecisions(cpa,cpb,a):\n",
        "  l = []\n",
        "  c = [0]*2\n",
        "  b = [0]*2\n",
        "  b[0] = cpa\n",
        "  b[1] = cpb\n",
        "  print(b)\n",
        "  print(a)\n",
        "  #l.append(b)\n",
        "  #l.append(a)\n",
        "  #c = a\n",
        "  #print(l)\n",
        "  if b[1] > b[0]:\n",
        "    c[0] = a[1]\n",
        "    c[1] = a[0]\n",
        "  else:\n",
        "    c = a   \n",
        "  #l.sort(key = lambda row: row[0])\n",
        "  #print(l)\n",
        "  return c\n",
        "\n",
        "\n",
        "\n",
        "\n",
        "\n",
        "a = [13,3]\n",
        "cpa = 0.2222222222222222 \n",
        "cpb = 0.28125\n",
        "c = OrderDecisions(cpa,cpb,a)\n",
        "print(c)"
      ],
      "execution_count": 50,
      "outputs": [
        {
          "output_type": "stream",
          "name": "stdout",
          "text": [
            "[0.2222222222222222, 0.28125]\n",
            "[13, 3]\n",
            "[3, 13]\n"
          ]
        }
      ]
    },
    {
      "cell_type": "code",
      "metadata": {
        "colab": {
          "base_uri": "https://localhost:8080/"
        },
        "id": "gkkBNk1q3D7e",
        "outputId": "7cc6bb4e-1900-4c0a-e734-d1a6ac4e6687"
      },
      "source": [
        "'''\n",
        "n = 2\n",
        "r = n - 1\n",
        "t = random.randint(0,r)  \n",
        "print(t)\n",
        "'''"
      ],
      "execution_count": null,
      "outputs": [
        {
          "output_type": "stream",
          "name": "stdout",
          "text": [
            "0\n"
          ]
        }
      ]
    },
    {
      "cell_type": "code",
      "metadata": {
        "id": "KeKp-mHM87xh"
      },
      "source": [
        "#\n",
        "#\n",
        "#\n",
        "#"
      ],
      "execution_count": 1,
      "outputs": []
    },
    {
      "cell_type": "code",
      "metadata": {
        "colab": {
          "base_uri": "https://localhost:8080/"
        },
        "id": "YW_Ay2Xx8_rK",
        "outputId": "48612d4a-765f-4f0a-9038-c94f280c7be9"
      },
      "source": [
        "def Conditionalprobability(m):\n",
        "  prior = PriorProbabilitie(m)\n",
        "  pa = prior[0]\n",
        "  pb = prior[1]\n",
        "\n",
        "  ba = BayesTheorem(pa,pb)\n",
        "  bb = BayesTheorem(pb,pa)\n",
        "\n",
        "  return ba, bb\n",
        "\n",
        "cpa, cpb  = Conditionalprobability(m)\n",
        "print(cpa,cpb)"
      ],
      "execution_count": 6,
      "outputs": [
        {
          "output_type": "stream",
          "name": "stdout",
          "text": [
            "0.1875 0.3333333333333333\n"
          ]
        }
      ]
    },
    {
      "cell_type": "code",
      "metadata": {
        "colab": {
          "base_uri": "https://localhost:8080/"
        },
        "id": "2EDGHYrL9Gvl",
        "outputId": "27abe901-a37d-4a80-8beb-592af3f00336"
      },
      "source": [
        "def BayesTheorem(pa,pb):\n",
        "  pba = .25\n",
        "  #p(a|b) = (P(B|A) * P(A)) / (P(B))\n",
        "  pab = (pba * pa) / pb\n",
        "  return pab\n",
        "\n",
        "\n",
        "pa = .4\n",
        "pb = .6\n",
        "bt = BayesTheorem(pa,pb)\n",
        "print(bt)"
      ],
      "execution_count": 5,
      "outputs": [
        {
          "output_type": "stream",
          "name": "stdout",
          "text": [
            "0.16666666666666669\n"
          ]
        }
      ]
    },
    {
      "cell_type": "code",
      "metadata": {
        "colab": {
          "base_uri": "https://localhost:8080/"
        },
        "id": "z8KyHdEv9KaT",
        "outputId": "607d3790-4769-46ae-c9be-0a19ef18ee0f"
      },
      "source": [
        "#p = El numero de arrays / el numero de arrays en el que aparece.\n",
        "\n",
        "def PriorProbabilitie(m):\n",
        "  prior = []\n",
        "  l = len(m)\n",
        "  c = WF(m)\n",
        "  co = countF(m,c)\n",
        "  for val in co:\n",
        "    p = val/l\n",
        "    prior.append(p)\n",
        "  return prior  \n",
        "\n",
        "\n",
        "m = [[1, 0], \n",
        "      [1], \n",
        "      [1, 2], \n",
        "      [5, 4], \n",
        "      [5], \n",
        "      [5, 6], \n",
        "      [5, 6, 7]]\n",
        "#print(m)\n",
        "\n",
        "\n",
        "prior = PriorProbabilitie(m)\n",
        "print(prior)"
      ],
      "execution_count": 4,
      "outputs": [
        {
          "output_type": "stream",
          "name": "stdout",
          "text": [
            "[0.42857142857142855, 0.5714285714285714]\n"
          ]
        }
      ]
    },
    {
      "cell_type": "code",
      "metadata": {
        "colab": {
          "base_uri": "https://localhost:8080/",
          "height": 219
        },
        "id": "32b5b5c69Nqk",
        "outputId": "4085950f-e009-47e2-d915-f83ca798e1c1"
      },
      "source": [
        "#primero necesito saber cuales son los numeros individuales \n",
        "\n",
        "def WF(m):\n",
        "  o = []\n",
        "  for n in m :\n",
        "    #print(n)\n",
        "    z = n[0]\n",
        "    o.append(z)  \n",
        "  #print(o)\n",
        "  O = list(set(o))\n",
        "  #print(O)\n",
        "  return O\n",
        "\n",
        "c = WF(m)\n",
        "print(c)"
      ],
      "execution_count": 3,
      "outputs": [
        {
          "output_type": "error",
          "ename": "NameError",
          "evalue": "ignored",
          "traceback": [
            "\u001b[0;31m---------------------------------------------------------------------------\u001b[0m",
            "\u001b[0;31mNameError\u001b[0m                                 Traceback (most recent call last)",
            "\u001b[0;32m<ipython-input-3-e9354b4ae198>\u001b[0m in \u001b[0;36m<module>\u001b[0;34m()\u001b[0m\n\u001b[1;32m     12\u001b[0m   \u001b[0;32mreturn\u001b[0m \u001b[0mO\u001b[0m\u001b[0;34m\u001b[0m\u001b[0;34m\u001b[0m\u001b[0m\n\u001b[1;32m     13\u001b[0m \u001b[0;34m\u001b[0m\u001b[0m\n\u001b[0;32m---> 14\u001b[0;31m \u001b[0mc\u001b[0m \u001b[0;34m=\u001b[0m \u001b[0mWF\u001b[0m\u001b[0;34m(\u001b[0m\u001b[0mm\u001b[0m\u001b[0;34m)\u001b[0m\u001b[0;34m\u001b[0m\u001b[0;34m\u001b[0m\u001b[0m\n\u001b[0m\u001b[1;32m     15\u001b[0m \u001b[0mprint\u001b[0m\u001b[0;34m(\u001b[0m\u001b[0mc\u001b[0m\u001b[0;34m)\u001b[0m\u001b[0;34m\u001b[0m\u001b[0;34m\u001b[0m\u001b[0m\n",
            "\u001b[0;31mNameError\u001b[0m: name 'm' is not defined"
          ]
        }
      ]
    },
    {
      "cell_type": "code",
      "metadata": {
        "colab": {
          "base_uri": "https://localhost:8080/",
          "height": 219
        },
        "id": "pzNHIQFg9Q8O",
        "outputId": "82e5fa01-d865-46e9-8ae6-125bb23fe5d4"
      },
      "source": [
        "#aqui contamos cuantas veces aparacen \n",
        "def countF(m,c):\n",
        "  count = []\n",
        "  i = 0\n",
        "  for v in c:\n",
        "    c1 = 0\n",
        "    for n in m:\n",
        "      if v in n:\n",
        "        c1 = c1 + 1 \n",
        "    count.append(c1)     \n",
        "    i = i + 1\n",
        "  return count  \n",
        "\n",
        "c = [1,5]\n",
        "co = countF(m,c)\n",
        "print(co)"
      ],
      "execution_count": 2,
      "outputs": [
        {
          "output_type": "error",
          "ename": "NameError",
          "evalue": "ignored",
          "traceback": [
            "\u001b[0;31m---------------------------------------------------------------------------\u001b[0m",
            "\u001b[0;31mNameError\u001b[0m                                 Traceback (most recent call last)",
            "\u001b[0;32m<ipython-input-2-7ce91aac11e9>\u001b[0m in \u001b[0;36m<module>\u001b[0;34m()\u001b[0m\n\u001b[1;32m     13\u001b[0m \u001b[0;34m\u001b[0m\u001b[0m\n\u001b[1;32m     14\u001b[0m \u001b[0mc\u001b[0m \u001b[0;34m=\u001b[0m \u001b[0;34m[\u001b[0m\u001b[0;36m1\u001b[0m\u001b[0;34m,\u001b[0m\u001b[0;36m5\u001b[0m\u001b[0;34m]\u001b[0m\u001b[0;34m\u001b[0m\u001b[0;34m\u001b[0m\u001b[0m\n\u001b[0;32m---> 15\u001b[0;31m \u001b[0mco\u001b[0m \u001b[0;34m=\u001b[0m \u001b[0mcountF\u001b[0m\u001b[0;34m(\u001b[0m\u001b[0mm\u001b[0m\u001b[0;34m,\u001b[0m\u001b[0mc\u001b[0m\u001b[0;34m)\u001b[0m\u001b[0;34m\u001b[0m\u001b[0;34m\u001b[0m\u001b[0m\n\u001b[0m\u001b[1;32m     16\u001b[0m \u001b[0mprint\u001b[0m\u001b[0;34m(\u001b[0m\u001b[0mco\u001b[0m\u001b[0;34m)\u001b[0m\u001b[0;34m\u001b[0m\u001b[0;34m\u001b[0m\u001b[0m\n",
            "\u001b[0;31mNameError\u001b[0m: name 'm' is not defined"
          ]
        }
      ]
    }
  ]
}