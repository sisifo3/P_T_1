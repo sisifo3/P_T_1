{
  "nbformat": 4,
  "nbformat_minor": 0,
  "metadata": {
    "colab": {
      "name": "BT_1.ipynb",
      "provenance": [],
      "authorship_tag": "ABX9TyPZA2SucALkI3sfoNj9uJ1a",
      "include_colab_link": true
    },
    "kernelspec": {
      "name": "python3",
      "display_name": "Python 3"
    },
    "language_info": {
      "name": "python"
    }
  },
  "cells": [
    {
      "cell_type": "markdown",
      "metadata": {
        "id": "view-in-github",
        "colab_type": "text"
      },
      "source": [
        "<a href=\"https://colab.research.google.com/github/sisifo3/P_T_1/blob/main/BT_1.ipynb\" target=\"_parent\"><img src=\"https://colab.research.google.com/assets/colab-badge.svg\" alt=\"Open In Colab\"/></a>"
      ]
    },
    {
      "cell_type": "code",
      "metadata": {
        "id": "ypdsxoBWnnSj"
      },
      "source": [
        "from google.colab import files\n",
        "import pandas as pd\n",
        "import numpy as np\n",
        "\n",
        "import matplotlib.pyplot as plt\n",
        "import math\n",
        "import random\n"
      ],
      "execution_count": 7,
      "outputs": []
    },
    {
      "cell_type": "code",
      "metadata": {
        "colab": {
          "base_uri": "https://localhost:8080/"
        },
        "id": "iVb_6nIfoGev",
        "outputId": "d9f7902a-9b0b-41e7-b240-95b8d737f749"
      },
      "source": [
        "m = [[8, 3, 1, 0], \n",
        "      [8, 3, 1], \n",
        "      [8, 3, 1, 2], \n",
        "      [8, 3], \n",
        "      [8, 3, 5, 4], \n",
        "      [8, 3, 5], \n",
        "      [8, 3, 5, 6], \n",
        "      [8, 3, 5, 6, 7], \n",
        "      [8], \n",
        "      [8, 13, 10, 9], \n",
        "      [8, 13, 10], \n",
        "      [8, 13, 10, 11], \n",
        "      [8, 13, 10, 11, 12], \n",
        "      [8, 13], \n",
        "      [8, 13, 15, 14], \n",
        "      [8, 13, 15], \n",
        "      [8, 13, 15, 16], \n",
        "      [8, 13, 15, 16, 17]]\n",
        "print(m)"
      ],
      "execution_count": 136,
      "outputs": [
        {
          "output_type": "stream",
          "name": "stdout",
          "text": [
            "[[8, 3, 1, 0], [8, 3, 1], [8, 3, 1, 2], [8, 3], [8, 3, 5, 4], [8, 3, 5], [8, 3, 5, 6], [8, 3, 5, 6, 7], [8], [8, 13, 10, 9], [8, 13, 10], [8, 13, 10, 11], [8, 13, 10, 11, 12], [8, 13], [8, 13, 15, 14], [8, 13, 15], [8, 13, 15, 16], [8, 13, 15, 16, 17]]\n"
          ]
        }
      ]
    },
    {
      "cell_type": "code",
      "metadata": {
        "id": "wYV7y-q_oI-d"
      },
      "source": [
        "#Metodologia del codigo \n",
        "\n",
        "# 8 <- Obtenemos los posibles siguientes nodos\n",
        "\n",
        "# Si el nodo da un test positivo:\n",
        "      #Lo retiramos de todos los arrays \n",
        "\n",
        "# Si el nodo es Negativo en el test \n",
        "      #Quitamos los arrays que lo contengan        "
      ],
      "execution_count": null,
      "outputs": []
    },
    {
      "cell_type": "markdown",
      "metadata": {
        "id": "ALdkdXRtonWH"
      },
      "source": [
        "Metodologia del codigo \n",
        "  \n",
        "    8 <- Obtenemos los posibles siguientes nodos\n",
        "\n",
        "    Si el nodo da un test positivo:\n",
        "\n",
        "        Lo retiramos de todos los arrays \n",
        "\n",
        "    Si el nodo es Negativo en el test \n",
        "\n",
        "        Quitamos los arrays que lo contengan "
      ]
    },
    {
      "cell_type": "code",
      "metadata": {
        "colab": {
          "base_uri": "https://localhost:8080/"
        },
        "id": "7YJa9quOpKM5",
        "outputId": "14469135-d151-4fbe-d89a-ad460ee8208c"
      },
      "source": [
        "\n",
        "M = m\n",
        "a = OnlyValues(M)\n",
        "n = 1\n",
        "\n",
        "while (n != 0):\n",
        "  n = len(a)\n",
        "  print(n)\n",
        "  b = rand_n(n)\n",
        "  print(M)\n",
        "\n",
        "  for i in range(n):\n",
        "    c = b[i]\n",
        "    d = a[i]\n",
        "    X = M\n",
        "    if c != 0:\n",
        "      X = DeletedNodes(M,d)\n",
        "    M = DeletedNode(X,d)\n",
        "  a = OnlyValues(M)\n",
        "  n = len(a)\n",
        "\n",
        "\n",
        "  \n",
        "\n",
        "\n"
      ],
      "execution_count": 171,
      "outputs": [
        {
          "output_type": "stream",
          "name": "stdout",
          "text": [
            "1\n",
            "[[8, 3, 1, 0], [8, 3, 1], [8, 3, 1, 2], [8, 3], [8, 3, 5, 4], [8, 3, 5], [8, 3, 5, 6], [8, 3, 5, 6, 7], [8], [8, 13, 10, 9], [8, 13, 10], [8, 13, 10, 11], [8, 13, 10, 11, 12], [8, 13], [8, 13, 15, 14], [8, 13, 15], [8, 13, 15, 16], [8, 13, 15, 16, 17]]\n",
            "2\n",
            "[[3, 1, 0], [3, 1], [3, 1, 2], [3], [3, 5, 4], [3, 5], [3, 5, 6], [3, 5, 6, 7], [13, 10, 9], [13, 10], [13, 10, 11], [13, 10, 11, 12], [13], [13, 15, 14], [13, 15], [13, 15, 16], [13, 15, 16, 17]]\n",
            "2\n",
            "[[1, 0], [1], [1, 2], [5, 4], [5], [5, 6], [5, 6, 7]]\n",
            "2\n",
            "[[4], [6], [6, 7]]\n",
            "1\n",
            "[[7]]\n"
          ]
        }
      ]
    },
    {
      "cell_type": "code",
      "metadata": {
        "colab": {
          "base_uri": "https://localhost:8080/"
        },
        "id": "jVkLsbUjntEh",
        "outputId": "95b80e9e-2c5d-4a58-d80e-16eab468790d"
      },
      "source": [
        "# En esta funcion extraemos los posibles siguientes nodos\n",
        "def OnlyValues(m):\n",
        "  z = []\n",
        "  for n in m:\n",
        "    r =  n[0]\n",
        "    z.append(r) \n",
        "#  print(z)  \n",
        "  Z = list(set(z))\n",
        "  return Z\n",
        "#  print(Z)\n",
        "\n",
        "Z = OnlyValues(m)\n",
        "print(Z)"
      ],
      "execution_count": 3,
      "outputs": [
        {
          "output_type": "stream",
          "name": "stdout",
          "text": [
            "[8]\n"
          ]
        }
      ]
    },
    {
      "cell_type": "code",
      "metadata": {
        "id": "_h6UZsxLpI9c"
      },
      "source": [
        ""
      ],
      "execution_count": null,
      "outputs": []
    },
    {
      "cell_type": "code",
      "metadata": {
        "colab": {
          "base_uri": "https://localhost:8080/"
        },
        "id": "9QS6HPO7n6eP",
        "outputId": "29d84abc-8cda-48d7-d7be-b63a3bf1bc87"
      },
      "source": [
        "#eliminar los arrays que ya son zero\n",
        "\n",
        "def DeletedNodes(m,z):\n",
        "  x = []\n",
        "  for n in m:\n",
        "    #print(n)\n",
        "    if z in n:\n",
        "      x.append(n)\n",
        "      #print(n)\n",
        "  return x\n",
        "\n",
        "z = 3\n",
        "X = DeletedNodes(m,z)\n",
        "print(X)"
      ],
      "execution_count": 5,
      "outputs": [
        {
          "output_type": "stream",
          "name": "stdout",
          "text": [
            "[[8, 3, 1, 0], [8, 3, 1], [8, 3, 1, 2], [8, 3], [8, 3, 5, 4], [8, 3, 5], [8, 3, 5, 6], [8, 3, 5, 6, 7]]\n"
          ]
        }
      ]
    },
    {
      "cell_type": "code",
      "metadata": {
        "colab": {
          "base_uri": "https://localhost:8080/"
        },
        "id": "_DaT-dUNn9Ah",
        "outputId": "aaf7c07c-72b8-4a74-82cc-9bae2044a714"
      },
      "source": [
        "#Eliminar el nodo que testeamos\n",
        "def DeletedNode(m,z):\n",
        "  M = []\n",
        "  for n in m:\n",
        "    x = []\n",
        "    for y in n:\n",
        "      #print(y)\n",
        "      if y != z:\n",
        "        x.append(y)\n",
        "    #print(x)\n",
        "    M.append(x)\n",
        "\n",
        "  lM = [x for x in M if x != []]  \n",
        "  return lM    \n",
        "\n",
        "z = 8\n",
        "M = DeletedNode(m,z)\n",
        "print(M)"
      ],
      "execution_count": 88,
      "outputs": [
        {
          "output_type": "stream",
          "name": "stdout",
          "text": [
            "[[3, 1, 0], [3, 1], [3, 1, 2], [3], [3, 5, 4], [3, 5], [3, 5, 6], [3, 5, 6, 7], [13, 10, 9], [13, 10], [13, 10, 11], [13, 10, 11, 12], [13], [13, 15, 14], [13, 15], [13, 15, 16], [13, 15, 16, 17]]\n"
          ]
        }
      ]
    },
    {
      "cell_type": "code",
      "metadata": {
        "colab": {
          "base_uri": "https://localhost:8080/"
        },
        "id": "qjtDD8tXxHM4",
        "outputId": "dd2afeb1-6920-432f-a7fb-ecdde87adc2d"
      },
      "source": [
        "'''\n",
        "def rand_n(n):\n",
        "  a = []\n",
        "  #print('done')\n",
        "  for i in range(n):\n",
        "    t = random.randint(0,1)  \n",
        "    a.append(t)\n",
        "    #print(t)\n",
        "  return a\n",
        "\n",
        "n = 7\n",
        "a = rand_n(n)\n",
        "print(a)\n",
        "'''"
      ],
      "execution_count": 30,
      "outputs": [
        {
          "output_type": "stream",
          "name": "stdout",
          "text": [
            "[0, 0, 0, 0, 0, 1, 1]\n"
          ]
        }
      ]
    },
    {
      "cell_type": "code",
      "metadata": {
        "colab": {
          "base_uri": "https://localhost:8080/"
        },
        "id": "-Qno4AV62xG0",
        "outputId": "e886b5ee-46dd-40a5-8539-3dfb5c25e985"
      },
      "source": [
        "\n",
        "def rand_n(n):\n",
        "  a = [0] * n\n",
        "  r = n - 1\n",
        "  t = random.randint(0,r)  \n",
        "  a[t] = 1\n",
        "  return a\n",
        "\n",
        "n = 7\n",
        "a = rand_n(n)\n",
        "print(a)\n"
      ],
      "execution_count": 72,
      "outputs": [
        {
          "output_type": "stream",
          "name": "stdout",
          "text": [
            "[0, 1, 0, 0, 0, 0, 0]\n"
          ]
        }
      ]
    },
    {
      "cell_type": "code",
      "metadata": {
        "colab": {
          "base_uri": "https://localhost:8080/"
        },
        "id": "gkkBNk1q3D7e",
        "outputId": "7cc6bb4e-1900-4c0a-e734-d1a6ac4e6687"
      },
      "source": [
        "n = 2\n",
        "r = n - 1\n",
        "t = random.randint(0,r)  \n",
        "print(t)"
      ],
      "execution_count": 59,
      "outputs": [
        {
          "output_type": "stream",
          "name": "stdout",
          "text": [
            "0\n"
          ]
        }
      ]
    }
  ]
}