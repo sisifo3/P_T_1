{
  "nbformat": 4,
  "nbformat_minor": 0,
  "metadata": {
    "colab": {
      "name": "node2LinearSearch.ipynb",
      "provenance": [],
      "authorship_tag": "ABX9TyOLOfk88s40jPUU51r6tIJH",
      "include_colab_link": true
    },
    "kernelspec": {
      "name": "python3",
      "display_name": "Python 3"
    },
    "language_info": {
      "name": "python"
    }
  },
  "cells": [
    {
      "cell_type": "markdown",
      "metadata": {
        "id": "view-in-github",
        "colab_type": "text"
      },
      "source": [
        "<a href=\"https://colab.research.google.com/github/sisifo3/P_T_1/blob/main/node2LinearSearch.ipynb\" target=\"_parent\"><img src=\"https://colab.research.google.com/assets/colab-badge.svg\" alt=\"Open In Colab\"/></a>"
      ]
    },
    {
      "cell_type": "code",
      "metadata": {
        "colab": {
          "base_uri": "https://localhost:8080/"
        },
        "id": "Ye_ESf-7aJG8",
        "outputId": "5fc67703-55ba-419b-84f8-9db9c9595bdf"
      },
      "source": [
        "t= [0] * 46\n",
        "t[30] = 0\n",
        "t[31] = 0\n",
        "t[33] = 0\n",
        "t[34] = 0\n",
        "t[35] = 0\n",
        "\n",
        "\n",
        "sortCheck = [30,31,33,34,35]\n",
        "nodesvisited = [] \n",
        "\n",
        "if t[33] == 0:\n",
        "  print(\"node 33\")\n",
        "  nodesvisited.append(33)\n",
        "  n = 36\n",
        "  if t[35] == 1:\n",
        "    print(\"node 35\")\n",
        "    nodesvisited.append(35)\n",
        "    if t[34] == 1:\n",
        "      print(\"node 34\")\n",
        "      nodesvisited.append(34)\n",
        "      n = 34\n",
        "    elif t[34] ==0:\n",
        "      print(\"node 34\")\n",
        "      nodesvisited.append(34)\n",
        "      n = 35  \n",
        "  elif t[35] == 0:\n",
        "    print(\"node 35\")\n",
        "    nodesvisited.append(35)\n",
        "    n = 36\n",
        "elif t[33] == 1:\n",
        "  print(\"nodes 33\")\n",
        "  nodesvisited.append(33)\n",
        "  if t[30] == 0:\n",
        "    print(\"nodes 30\")\n",
        "    nodesvisited.append(30)\n",
        "    if t[31] == 0:\n",
        "      print(\"node 30\")\n",
        "      nodesvisited.append(31)\n",
        "      n = 33\n",
        "    elif t[31] == 1:\n",
        "      print(\"node 31\")\n",
        "      nodesvisited.append(31)\n",
        "      n = 31  \n",
        "  if t[30] == 1:\n",
        "    print(\"node 30\")\n",
        "    nodesvisited.append(30)  \n",
        "    n = 30\n",
        "\n",
        "print(n)\n",
        "print(nodesvisited)\n",
        " "
      ],
      "execution_count": 9,
      "outputs": [
        {
          "output_type": "stream",
          "name": "stdout",
          "text": [
            "node 33\n",
            "node 35\n",
            "36\n",
            "[33, 35]\n"
          ]
        }
      ]
    },
    {
      "cell_type": "code",
      "metadata": {
        "colab": {
          "base_uri": "https://localhost:8080/"
        },
        "id": "4qQ5BGzJaXsP",
        "outputId": "824b9ae8-9b29-4d3c-91cd-b90a837e8003"
      },
      "source": [
        "#Version estable de nodo2 usando busqueda lineal pero de saltos.\n",
        " \n",
        "def node2LinearSearch(t):\n",
        "\n",
        "  sortCheck = [30,31,33,34,35]\n",
        "  nodesvisited = [] \n",
        "\n",
        "  if t[33] == 0:\n",
        "    print(\"node 33\")\n",
        "    nodesvisited.append(33)\n",
        "    n = 36\n",
        "    if t[35] == 1:\n",
        "      print(\"node 35\")\n",
        "      nodesvisited.append(35)\n",
        "      if t[34] == 1:\n",
        "        print(\"node 34\")\n",
        "        nodesvisited.append(34)\n",
        "        n = 34\n",
        "      elif t[34] ==0:\n",
        "        print(\"node 34\")\n",
        "        nodesvisited.append(34)\n",
        "        n = 35  \n",
        "    elif t[35] == 0:\n",
        "      print(\"node 35\")\n",
        "      nodesvisited.append(35)\n",
        "      n = 36\n",
        "  elif t[33] == 1:\n",
        "    print(\"nodes 33\")\n",
        "    nodesvisited.append(33)\n",
        "    if t[30] == 0:\n",
        "      print(\"nodes 30\")\n",
        "      nodesvisited.append(30)\n",
        "      if t[31] == 0:\n",
        "        print(\"node 30\")\n",
        "        nodesvisited.append(31)\n",
        "        n = 33\n",
        "      elif t[31] == 1:\n",
        "        print(\"node 31\")\n",
        "        nodesvisited.append(31)\n",
        "        n = 31  \n",
        "    if t[30] == 1:\n",
        "      print(\"node 30\")\n",
        "      nodesvisited.append(30)  \n",
        "      n = 30\n",
        "  return n, nodesvisited\n",
        "\n",
        "\n",
        "\n",
        "t= [0] * 46\n",
        "t[30] = 0\n",
        "t[31] = 0\n",
        "t[33] = 0\n",
        "t[34] = 0\n",
        "t[35] = 0\n",
        "\n",
        "n, nodesvisited =  node2LinearSearch(t)  \n",
        "print(n)\n",
        "print(nodesvisited)\n",
        " "
      ],
      "execution_count": 20,
      "outputs": [
        {
          "output_type": "stream",
          "name": "stdout",
          "text": [
            "node 33\n",
            "node 35\n",
            "36\n",
            "[33, 35]\n"
          ]
        }
      ]
    }
  ]
}