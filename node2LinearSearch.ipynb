{
  "nbformat": 4,
  "nbformat_minor": 0,
  "metadata": {
    "colab": {
      "name": "node2LinearSearch.ipynb",
      "provenance": [],
      "authorship_tag": "ABX9TyPHWtSzM9f2yRVTKAgsGr6M",
      "include_colab_link": true
    },
    "kernelspec": {
      "name": "python3",
      "display_name": "Python 3"
    },
    "language_info": {
      "name": "python"
    }
  },
  "cells": [
    {
      "cell_type": "markdown",
      "metadata": {
        "id": "view-in-github",
        "colab_type": "text"
      },
      "source": [
        "<a href=\"https://colab.research.google.com/github/sisifo3/P_T_1/blob/main/node2LinearSearch.ipynb\" target=\"_parent\"><img src=\"https://colab.research.google.com/assets/colab-badge.svg\" alt=\"Open In Colab\"/></a>"
      ]
    },
    {
      "cell_type": "code",
      "metadata": {
        "colab": {
          "base_uri": "https://localhost:8080/"
        },
        "id": "aMlG7oc8hlXu",
        "outputId": "91d81184-f4d4-4cc9-ccb8-469f6c937fea"
      },
      "source": [
        "#Version estable de nodo2 usando busqueda lineal pero de saltos.\n",
        " \n",
        "def node2LinearSearch(t):\n",
        "\n",
        "  #sortCheck = [30,31,33,34,35]\n",
        "  sortCheck = [25,24,26,27,28]\n",
        "\n",
        "  nodesvisited = [] \n",
        "\n",
        "  if t[26] == 0:\n",
        "    print(\"node 26\")\n",
        "    nodesvisited.append(26)\n",
        "    n = 29\n",
        "    if t[28] == 1:\n",
        "      print(\"node 28\")\n",
        "      nodesvisited.append(28)\n",
        "      if t[27] == 1:\n",
        "        print(\"node 27\")\n",
        "        nodesvisited.append(27)\n",
        "        n = 27\n",
        "      elif t[27] ==0:\n",
        "        print(\"node 27\")\n",
        "        nodesvisited.append(27)\n",
        "        n = 28  \n",
        "    elif t[28] == 0:\n",
        "      print(\"node 28\")\n",
        "      nodesvisited.append(28)\n",
        "      n = 29\n",
        "  elif t[26] == 1:\n",
        "    print(\"nodes 26\")\n",
        "    nodesvisited.append(26)\n",
        "    if t[25] == 0:\n",
        "      print(\"nodes 25\")\n",
        "      nodesvisited.append(25)\n",
        "      if t[24] == 0:\n",
        "        print(\"node 24\")\n",
        "        nodesvisited.append(24)\n",
        "        n = 26\n",
        "      elif t[24] == 1:\n",
        "        print(\"node 24\")\n",
        "        nodesvisited.append(24)\n",
        "        n = 24 \n",
        "    if t[25] == 1:\n",
        "      print(\"node 25\")\n",
        "      nodesvisited.append(25)  \n",
        "      n = 25\n",
        "  return n, nodesvisited\n",
        "\n",
        "\n",
        "\n",
        "t= [0] * 46\n",
        "t[25] = 1\n",
        "t[24] = 1\n",
        "t[26] = 1\n",
        "t[27] = 1\n",
        "t[28] = 1\n",
        "\n",
        "n, nodesvisited =  node2LinearSearch(t)  \n",
        "print(n)\n",
        "print(nodesvisited)\n",
        " "
      ],
      "execution_count": 6,
      "outputs": [
        {
          "output_type": "stream",
          "name": "stdout",
          "text": [
            "nodes 26\n",
            "node 25\n",
            "25\n",
            "[26, 25]\n"
          ]
        }
      ]
    }
  ]
}