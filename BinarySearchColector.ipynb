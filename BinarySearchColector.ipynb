{
  "nbformat": 4,
  "nbformat_minor": 0,
  "metadata": {
    "colab": {
      "name": "BinarySearchColector.ipynb",
      "provenance": [],
      "authorship_tag": "ABX9TyPPWjl93SAFv8GD7mt7ARYL",
      "include_colab_link": true
    },
    "kernelspec": {
      "name": "python3",
      "display_name": "Python 3"
    },
    "language_info": {
      "name": "python"
    }
  },
  "cells": [
    {
      "cell_type": "markdown",
      "metadata": {
        "id": "view-in-github",
        "colab_type": "text"
      },
      "source": [
        "<a href=\"https://colab.research.google.com/github/sisifo3/P_T_1/blob/main/BinarySearchColector.ipynb\" target=\"_parent\"><img src=\"https://colab.research.google.com/assets/colab-badge.svg\" alt=\"Open In Colab\"/></a>"
      ]
    },
    {
      "cell_type": "code",
      "metadata": {
        "colab": {
          "base_uri": "https://localhost:8080/"
        },
        "id": "ZfK2r4Fjw2Ha",
        "outputId": "d0dbfe92-074d-4c46-f4bc-6443fa25986c"
      },
      "source": [
        "t = [0] * 46\n",
        "t[45] =1\n",
        "t[36] = 1\n",
        "t[29] = 1\n",
        "t[21] = 1\n",
        "t[6] = 1\n",
        "\n",
        "sortCheck = [45,36,29,21,6]\n",
        "d = []\n",
        "n = 0\n",
        "\n",
        "if t[29] == 1:\n",
        "  print(\"node 29\")\n",
        "  d.append(29)\n",
        "  if t[6] == 1:\n",
        "    print(\"node 6\")\n",
        "    d.append(6) \n",
        "    n = 6\n",
        "  elif t[6] == 0:\n",
        "    print(\"node 6\")\n",
        "    d.append(6)\n",
        "    if t[21] == 0:\n",
        "      print(\"node 6\")\n",
        "      d.append(21)\n",
        "      n = 29\n",
        "    elif t[21] ==1:\n",
        "      print(\"node 6\")\n",
        "      d.append(21)\n",
        "      n = 21\n",
        "\n",
        "elif t[29] == 0:\n",
        "  if t[45] == 0:\n",
        "    print(\"node 45\")\n",
        "    d.append(45)\n",
        "    n = 46\n",
        "  elif t[45] == 1:\n",
        "    print(\"node 45\")\n",
        "    d.append(45)\n",
        "    if t[36] == 0:\n",
        "      print(\"node 36\")\n",
        "      d.append(36) \n",
        "      n = 45\n",
        "    elif t[36] == 1:\n",
        "      print(\"node 36\")\n",
        "      d.append(36)\n",
        "      n = 36   \n",
        "\n",
        "\n",
        "print(n)\n",
        "print(d)      "
      ],
      "execution_count": 5,
      "outputs": [
        {
          "output_type": "stream",
          "name": "stdout",
          "text": [
            "node 29\n",
            "node 6\n",
            "6\n",
            "[29, 6]\n"
          ]
        }
      ]
    },
    {
      "cell_type": "code",
      "metadata": {
        "colab": {
          "base_uri": "https://localhost:8080/"
        },
        "id": "BtYytkxg0JGj",
        "outputId": "33ffef3a-0bf8-4567-ce07-447b009e3693"
      },
      "source": [
        "def BinarySearchColector(t):\n",
        "    \n",
        "  sortCheck = [45,36,29,21,6]\n",
        "  d = []\n",
        "  n = 0\n",
        "\n",
        "  if t[29] == 1:\n",
        "    print(\"node 29\")\n",
        "    d.append(29)\n",
        "    if t[6] == 1:\n",
        "      print(\"node 6\")\n",
        "      d.append(6) \n",
        "      n = 6\n",
        "    elif t[6] == 0:\n",
        "      print(\"node 6\")\n",
        "      d.append(6)\n",
        "      if t[21] == 0:\n",
        "        print(\"node 6\")\n",
        "        d.append(21)\n",
        "        n = 29\n",
        "      elif t[21] ==1:\n",
        "        print(\"node 6\")\n",
        "        d.append(21)\n",
        "        n = 21\n",
        "\n",
        "  elif t[29] == 0:\n",
        "    if t[45] == 0:\n",
        "      print(\"node 45\")\n",
        "      d.append(45)\n",
        "      n = 46\n",
        "    elif t[45] == 1:\n",
        "      print(\"node 45\")\n",
        "      d.append(45)\n",
        "      if t[36] == 0:\n",
        "        print(\"node 36\")\n",
        "        d.append(36) \n",
        "        n = 45\n",
        "      elif t[36] == 1:\n",
        "        print(\"node 36\")\n",
        "        d.append(36)\n",
        "        n = 36   \n",
        "\n",
        "  return n,d\n",
        "\n",
        "\n",
        "t = [0] * 46\n",
        "t[45] = 0\n",
        "t[36] = 0\n",
        "t[29] = 0\n",
        "t[21] = 0\n",
        "t[6] = 0\n",
        "\n",
        "\n",
        "n,d = BinarySearchColector(t)\n",
        "print(n)\n",
        "print(d)      "
      ],
      "execution_count": 10,
      "outputs": [
        {
          "output_type": "stream",
          "name": "stdout",
          "text": [
            "node 45\n",
            "46\n",
            "[45]\n"
          ]
        }
      ]
    }
  ]
}