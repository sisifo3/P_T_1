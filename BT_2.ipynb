{
  "nbformat": 4,
  "nbformat_minor": 0,
  "metadata": {
    "colab": {
      "name": "BT_2.ipynb",
      "provenance": [],
      "authorship_tag": "ABX9TyNz1arW4sg4BTY7yYxs5o2M",
      "include_colab_link": true
    },
    "kernelspec": {
      "name": "python3",
      "display_name": "Python 3"
    },
    "language_info": {
      "name": "python"
    }
  },
  "cells": [
    {
      "cell_type": "markdown",
      "metadata": {
        "id": "view-in-github",
        "colab_type": "text"
      },
      "source": [
        "<a href=\"https://colab.research.google.com/github/sisifo3/P_T_1/blob/main/BT_2.ipynb\" target=\"_parent\"><img src=\"https://colab.research.google.com/assets/colab-badge.svg\" alt=\"Open In Colab\"/></a>"
      ]
    },
    {
      "cell_type": "code",
      "metadata": {
        "id": "ZvgJA0tSStaG"
      },
      "source": [
        "from google.colab import files\n",
        "import pandas as pd\n",
        "import numpy as np\n",
        "\n",
        "import matplotlib.pyplot as plt\n",
        "import math\n",
        "import random\n"
      ],
      "execution_count": null,
      "outputs": []
    },
    {
      "cell_type": "code",
      "metadata": {
        "id": "KECRsZb1VWtr"
      },
      "source": [
        "'''\n",
        "def PriorProbabilitie():  \n",
        "  #if Ns != 0 :\n",
        "  N4 = 1   \n",
        "  S1 = N4 * (1/2)\n",
        "  S14 = S1\n",
        "  S12 = S14 * (1/2)\n",
        "  S13 = S12\n",
        "  S11  = S12 * (1/2)\n",
        "  S10 = S11\n",
        "  S9 = S8\n",
        "  S8 = S11 * (1/2)\n",
        "    \n",
        "  #if Ns2 != 0 :\n",
        "  S2 = N4 * (1/2)\n",
        "  S4 = S2 * (1/2)\n",
        "  N1 = S4\n",
        "  S6 = N1 * (1/2)\n",
        "  S7 = S6\n",
        "\n",
        "  S3 = S2 * (1/2)\n",
        "  N3 = S3\n",
        "  S5 = N3 * (1/20\n",
        "  N2 = S5\n",
        "'''\n"
      ],
      "execution_count": null,
      "outputs": []
    },
    {
      "cell_type": "code",
      "metadata": {
        "colab": {
          "base_uri": "https://localhost:8080/"
        },
        "id": "8CgH7PldTHpa",
        "outputId": "02af8463-526b-416e-95a3-73a977718310"
      },
      "source": [
        "#p = El numero de arrays / el numero de arrays en el que aparece.\n",
        "\n",
        "def PriorProbabilitie(m):\n",
        "  prior = []\n",
        "  l = len(m)\n",
        "  c = WF(m)\n",
        "  co = countF(m,c)\n",
        "  for val in co:\n",
        "    p = val/l\n",
        "    prior.append(p)\n",
        "  return prior  \n",
        "\n",
        "\n",
        "m = [[1, 0], \n",
        "      [1], \n",
        "      [1, 2], \n",
        "      [5, 4], \n",
        "      [5], \n",
        "      [5, 6], \n",
        "      [5, 6, 7]]\n",
        "#print(m)\n",
        "\n",
        "\n",
        "prior = PriorProbabilitie(m)\n",
        "print(prior)"
      ],
      "execution_count": 20,
      "outputs": [
        {
          "output_type": "stream",
          "name": "stdout",
          "text": [
            "[0.42857142857142855, 0.5714285714285714]\n"
          ]
        }
      ]
    },
    {
      "cell_type": "code",
      "metadata": {
        "colab": {
          "base_uri": "https://localhost:8080/"
        },
        "id": "8hSfKlD5WH5p",
        "outputId": "fb21bbf0-a489-4d0f-d5ef-508065d67253"
      },
      "source": [
        "#primero necesito saber cuales son los numeros individuales \n",
        "\n",
        "def WF(m):\n",
        "  o = []\n",
        "  for n in m :\n",
        "    #print(n)\n",
        "    z = n[0]\n",
        "    o.append(z)  \n",
        "  #print(o)\n",
        "  O = list(set(o))\n",
        "  #print(O)\n",
        "  return O\n",
        "\n",
        "c = WF(m)\n",
        "print(c)"
      ],
      "execution_count": 16,
      "outputs": [
        {
          "output_type": "stream",
          "name": "stdout",
          "text": [
            "[1, 5]\n"
          ]
        }
      ]
    },
    {
      "cell_type": "code",
      "metadata": {
        "colab": {
          "base_uri": "https://localhost:8080/"
        },
        "id": "E82cKOZUYlNd",
        "outputId": "f5659024-34bc-4d4c-c3a4-f0240ee2d247"
      },
      "source": [
        "#aqui contamos cuantas veces aparacen \n",
        "def countF(m,c):\n",
        "  count = []\n",
        "  i = 0\n",
        "  for v in c:\n",
        "    c1 = 0\n",
        "    for n in m:\n",
        "      if v in n:\n",
        "        c1 = c1 + 1 \n",
        "    count.append(c1)     \n",
        "    i = i + 1\n",
        "  return count  \n",
        "\n",
        "c = [1,5]\n",
        "co = countF(m,c)\n",
        "print(co)"
      ],
      "execution_count": 14,
      "outputs": [
        {
          "output_type": "stream",
          "name": "stdout",
          "text": [
            "[3, 4]\n"
          ]
        }
      ]
    }
  ]
}