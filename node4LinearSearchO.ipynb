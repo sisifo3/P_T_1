{
  "nbformat": 4,
  "nbformat_minor": 0,
  "metadata": {
    "colab": {
      "name": "node4LinearSearchO.ipynb",
      "provenance": [],
      "authorship_tag": "ABX9TyOv1lxYXslrWsnlGSLHz8U9",
      "include_colab_link": true
    },
    "kernelspec": {
      "name": "python3",
      "display_name": "Python 3"
    },
    "language_info": {
      "name": "python"
    }
  },
  "cells": [
    {
      "cell_type": "markdown",
      "metadata": {
        "id": "view-in-github",
        "colab_type": "text"
      },
      "source": [
        "<a href=\"https://colab.research.google.com/github/sisifo3/P_T_1/blob/main/node4LinearSearchO.ipynb\" target=\"_parent\"><img src=\"https://colab.research.google.com/assets/colab-badge.svg\" alt=\"Open In Colab\"/></a>"
      ]
    },
    {
      "cell_type": "code",
      "metadata": {
        "colab": {
          "base_uri": "https://localhost:8080/"
        },
        "id": "khH0tCbgTNJ2",
        "outputId": "34c94bf5-eb59-488a-eac7-03fdd06345ce"
      },
      "source": [
        "t= [0] * 46\n",
        "t[13] = 1\n",
        "t[14] = 1\n",
        "t[15] = 1\n",
        "t[16] = 1\n",
        "t[18] = 1\n",
        "t[20] = 1\n",
        "t[21] = 1\n",
        "#sortCheck = [13,14,15,16,18,20]\n",
        "\n",
        "sortCheck = [21,20,18,16,15,14,13]\n",
        "val_l = 20\n",
        "d = []\n",
        "n = 0\n",
        "\n",
        "for val in sortCheck:\n",
        "  if t[val] == 0:\n",
        "    d.append(val)\n",
        "    n = val_l\n",
        "    break\n",
        "  else:\n",
        "    d.append(val)\n",
        "    n = val\n",
        "\n",
        "  val_l = val  \n",
        "\n",
        "print(\"n\",n)\n",
        "print(\"d\", d) "
      ],
      "execution_count": 9,
      "outputs": [
        {
          "output_type": "stream",
          "name": "stdout",
          "text": [
            "n 13\n",
            "d [21, 20, 18, 16, 15, 14, 13]\n"
          ]
        }
      ]
    },
    {
      "cell_type": "code",
      "metadata": {
        "colab": {
          "base_uri": "https://localhost:8080/"
        },
        "id": "sLh9NEi9UW1V",
        "outputId": "29a001d4-5451-4c8b-b1fc-db0dd1a6ffd5"
      },
      "source": [
        "def node4LinearSearchO(t):\n",
        "  #Esta funcion es busqueda lineal \n",
        "  sortCheck = [21,20,18,16,15,14,13]\n",
        "  val_l = 20\n",
        "  d = []\n",
        "  n = 0\n",
        "\n",
        "  for val in sortCheck:\n",
        "    if t[val] == 0:\n",
        "      d.append(val)\n",
        "      n = val_l\n",
        "      break\n",
        "    else:\n",
        "      d.append(val)\n",
        "      n = val\n",
        "\n",
        "    val_l = val  \n",
        "\n",
        "  return n,d\n",
        "\n",
        "\n",
        "t= [0] * 46\n",
        "t[13] = 1\n",
        "t[14] = 1\n",
        "t[15] = 1\n",
        "t[16] = 1\n",
        "t[18] = 1\n",
        "t[20] = 1\n",
        "t[21] = 1\n",
        "#sortCheck = [13,14,15,16,18,20]\n",
        "n,d =  node4LinearSearchO(t)\n",
        "print(\"n\",n)\n",
        "print(\"d\", d) "
      ],
      "execution_count": 10,
      "outputs": [
        {
          "output_type": "stream",
          "name": "stdout",
          "text": [
            "n 13\n",
            "d [21, 20, 18, 16, 15, 14, 13]\n"
          ]
        }
      ]
    }
  ]
}