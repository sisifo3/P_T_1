{
  "nbformat": 4,
  "nbformat_minor": 0,
  "metadata": {
    "colab": {
      "name": "node1LinearSearch.ipynb",
      "provenance": [],
      "authorship_tag": "ABX9TyNovCbmWN7Xrz6oioUHlOt6",
      "include_colab_link": true
    },
    "kernelspec": {
      "name": "python3",
      "display_name": "Python 3"
    },
    "language_info": {
      "name": "python"
    }
  },
  "cells": [
    {
      "cell_type": "markdown",
      "metadata": {
        "id": "view-in-github",
        "colab_type": "text"
      },
      "source": [
        "<a href=\"https://colab.research.google.com/github/sisifo3/P_T_1/blob/main/node1LinearSearch.ipynb\" target=\"_parent\"><img src=\"https://colab.research.google.com/assets/colab-badge.svg\" alt=\"Open In Colab\"/></a>"
      ]
    },
    {
      "cell_type": "code",
      "metadata": {
        "id": "XsXdtf-uNRs4"
      },
      "source": [
        "'''\n",
        "\n",
        "# esta es la version estable para una busqueda lineal de colector \n",
        "def LinearSearchColector(t,sortCheck):\n",
        "  n = 0\n",
        "  j = 0\n",
        "  nodesvisited = []\n",
        "  for i in sortCheck: \n",
        "    #print(\"j\",j)\n",
        "    nodesvisited.append(i)\n",
        "    tl = sortCheck[j-1]\n",
        "    if (t[45] == 0):\n",
        "      print(\"No Node to call\") \n",
        "      break\n",
        "    if ((t[i] == 0) and (t[tl] == 1)):\n",
        "      n = tl\n",
        "      break\n",
        "    if ((t[i] == 1) and (j == 4)):\n",
        "      n = sortCheck[j]\n",
        "      break\n",
        "      \n",
        "    j = j+1  \n",
        "  #print(t[45])  \n",
        "  #print(\"node to call \", n)\n",
        "  return n, nodesvisited\n",
        "#Revisa el vector de infectados \n",
        "#y listo simple es una busqueda lineal \n",
        "# Esta version ya esta estable\n",
        "\n",
        "sortCheck = [45,36,29,21,6]\n",
        "\n",
        "t = [0] * 46\n",
        "t[45] = 0\n",
        "t[36] = 0\n",
        "t[29] = 0\n",
        "t[21] = 0\n",
        "t[6] = 0\n",
        "\n",
        "n, nodesvisited = LinearSearchColector(t,sortCheck)\n",
        "print(n)\n",
        "print(nodesvisited)\n",
        "'''"
      ],
      "execution_count": null,
      "outputs": []
    },
    {
      "cell_type": "code",
      "metadata": {
        "colab": {
          "base_uri": "https://localhost:8080/"
        },
        "id": "B39GLs9ZOyF9",
        "outputId": "5b7a4f7a-541e-423a-9bac-ac3a5d3e918a"
      },
      "source": [
        "'''\n",
        "t= [0] * 46\n",
        "t[39] = 1\n",
        "t[38] = 0\n",
        "t[43] = 1\n",
        "\n",
        "sortCheck = [39,38,43,41]\n",
        "nodesvisited = [] \n",
        "\n",
        "if t[39] == 0:\n",
        "  print(\"no nodes\")\n",
        "  nodesvisited.append(39)\n",
        "  n = 45\n",
        "\n",
        "elif t[39] == 1:\n",
        "  print(\"node 39\")\n",
        "  nodesvisited.append(39)\n",
        "  if t[38] == 1:\n",
        "    print(\"node 38\")\n",
        "    nodesvisited.append(38)\n",
        "    n = 38\n",
        "  elif t[38] == 0:\n",
        "    print(\"node 38\")\n",
        "    nodesvisited.append(38)\n",
        "    if t[43] == 1:\n",
        "      print(\"node 43\")\n",
        "      nodesvisited.append(43)\n",
        "      n = 43\n",
        "    elif t[43] == 0:\n",
        "      print(\"node 43\")\n",
        "      nodesvisited.append(43)\n",
        "      n = 39\n",
        "  \n",
        "print(n)\n",
        "print(nodesvisited)\n",
        "'''"
      ],
      "execution_count": 29,
      "outputs": [
        {
          "output_type": "stream",
          "name": "stdout",
          "text": [
            "node 39\n",
            "node 38\n",
            "node 43\n",
            "43\n",
            "[39, 38, 43]\n"
          ]
        }
      ]
    },
    {
      "cell_type": "code",
      "metadata": {
        "colab": {
          "base_uri": "https://localhost:8080/"
        },
        "id": "LV1jPwv5Vqe5",
        "outputId": "8bc4db99-1a58-4b9c-bf49-4066a3809a9b"
      },
      "source": [
        "#esta ya es una version estable del nodo 1\n",
        "# es la que vamos a usar. \n",
        "#sortCheck = [39,38,43,41]\n",
        "\n",
        "\n",
        "def node1LinearSearch(t):\n",
        "    \n",
        "  sortCheck = [39,38,43,41]\n",
        "\n",
        "  nodesvisited = [] \n",
        "\n",
        "  if t[39] == 0:\n",
        "    print(\"no nodes\")\n",
        "    nodesvisited.append(39)\n",
        "    n = 45\n",
        "\n",
        "  elif t[39] == 1:\n",
        "    print(\"node 39\")\n",
        "    nodesvisited.append(39)\n",
        "    if t[38] == 1:\n",
        "      print(\"node 38\")\n",
        "      nodesvisited.append(38)\n",
        "      n = 38\n",
        "    elif t[38] == 0:\n",
        "      print(\"node 38\")\n",
        "      nodesvisited.append(38)\n",
        "      if t[43] == 1:\n",
        "        print(\"node 43\")\n",
        "        nodesvisited.append(43)\n",
        "        n = 43\n",
        "      elif t[43] == 0:\n",
        "        print(\"node 43\")\n",
        "        nodesvisited.append(43)\n",
        "        n = 39\n",
        "  return n, nodesvisited\n",
        "\n",
        "\n",
        "t= [0] * 46\n",
        "t[39] = 0\n",
        "t[38] = 0\n",
        "t[43] = 0\n",
        "\n",
        "n , nodesvisited = node1LinearSearch(t)\n",
        "print(n)\n",
        "print(nodesvisited)"
      ],
      "execution_count": 34,
      "outputs": [
        {
          "output_type": "stream",
          "name": "stdout",
          "text": [
            "no nodes\n",
            "45\n",
            "[39]\n"
          ]
        }
      ]
    }
  ]
}