{
  "nbformat": 4,
  "nbformat_minor": 0,
  "metadata": {
    "colab": {
      "name": "node2LinearSearchO.ipynb",
      "provenance": [],
      "authorship_tag": "ABX9TyNjivQcTHNaLOmCVjP2MJoj",
      "include_colab_link": true
    },
    "kernelspec": {
      "name": "python3",
      "display_name": "Python 3"
    },
    "language_info": {
      "name": "python"
    }
  },
  "cells": [
    {
      "cell_type": "markdown",
      "metadata": {
        "id": "view-in-github",
        "colab_type": "text"
      },
      "source": [
        "<a href=\"https://colab.research.google.com/github/sisifo3/P_T_1/blob/main/node2LinearSearchO.ipynb\" target=\"_parent\"><img src=\"https://colab.research.google.com/assets/colab-badge.svg\" alt=\"Open In Colab\"/></a>"
      ]
    },
    {
      "cell_type": "code",
      "metadata": {
        "colab": {
          "base_uri": "https://localhost:8080/"
        },
        "id": "6a80zs85VWnl",
        "outputId": "b4c97b07-ae15-4ffa-f4f4-1cc2bbf4dc6f"
      },
      "source": [
        "def node2LinearSearchO(t):\n",
        "  #Esta funcion es busqueda lineal \n",
        "  sortCheck = [36,35,34,33,31,30]\n",
        "  val_l = 20\n",
        "  d = []\n",
        "  n = 0\n",
        "\n",
        "  for val in sortCheck:\n",
        "    if t[val] == 0:\n",
        "      d.append(val)\n",
        "      n = val_l\n",
        "      break\n",
        "    else:\n",
        "      d.append(val)\n",
        "      n = val\n",
        "\n",
        "    val_l = val  \n",
        "\n",
        "  return n,d\n",
        "\n",
        "\n",
        "t= [0] * 46\n",
        "t[30] = 1\n",
        "t[31] = 1\n",
        "t[33] = 1\n",
        "t[34] = 1\n",
        "t[35] = 1\n",
        "t[36] = 1\n",
        "\n",
        "\n",
        "#sortCheck = [13,14,15,16,18,20]\n",
        "n,d =  node2LinearSearchO(t)\n",
        "print(\"n\",n)\n",
        "print(\"d\", d) "
      ],
      "execution_count": 7,
      "outputs": [
        {
          "output_type": "stream",
          "name": "stdout",
          "text": [
            "n 30\n",
            "d [36, 35, 34, 33, 31, 30]\n"
          ]
        }
      ]
    }
  ]
}