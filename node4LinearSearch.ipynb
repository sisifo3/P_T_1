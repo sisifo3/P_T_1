{
  "nbformat": 4,
  "nbformat_minor": 0,
  "metadata": {
    "colab": {
      "name": "node4LinearSearch.ipynb",
      "provenance": [],
      "authorship_tag": "ABX9TyP6w9DKzugpzxj91mJu84vY",
      "include_colab_link": true
    },
    "kernelspec": {
      "name": "python3",
      "display_name": "Python 3"
    },
    "language_info": {
      "name": "python"
    }
  },
  "cells": [
    {
      "cell_type": "markdown",
      "metadata": {
        "id": "view-in-github",
        "colab_type": "text"
      },
      "source": [
        "<a href=\"https://colab.research.google.com/github/sisifo3/P_T_1/blob/main/node4LinearSearch.ipynb\" target=\"_parent\"><img src=\"https://colab.research.google.com/assets/colab-badge.svg\" alt=\"Open In Colab\"/></a>"
      ]
    },
    {
      "cell_type": "code",
      "metadata": {
        "colab": {
          "base_uri": "https://localhost:8080/"
        },
        "id": "raC_b0APtUgP",
        "outputId": "f3cd387c-1f62-418f-9f20-c0af9e30bf0d"
      },
      "source": [
        "t= [0] * 46\n",
        "t[13] = 0\n",
        "t[14] = 0\n",
        "t[15] = 0\n",
        "t[16] = 1\n",
        "t[18] = 1\n",
        "t[20] = 1\n",
        "\n",
        "sortCheck = [13,14,15,16,18,20]\n",
        "d = [] \n",
        "\n",
        "if t[16] == 0:\n",
        "  print(\"node 16\")\n",
        "  d.append(16)\n",
        "  \n",
        "  if t[20] == 0:\n",
        "    print(\"node 20\")\n",
        "    d.append(20)\n",
        "    n = 21\n",
        "  \n",
        "  elif t[20] == 1:\n",
        "    print(\"node 201\")\n",
        "    d.append(20)\n",
        "    if t[18] == 0:\n",
        "      print(\"node 18\")\n",
        "      d.append(18)\n",
        "      n = 20\n",
        "    elif t[18] == 1:\n",
        "      print(\"node 18\")\n",
        "      d.append(18)\n",
        "      n = 18    \n",
        "\n",
        "\n",
        "elif t[16] ==1 :\n",
        "  d.append(16)\n",
        "  n = 16\n",
        "  if t[13] == 1:\n",
        "    d.append(13)\n",
        "    n = 13\n",
        "  elif t[13] == 0:\n",
        "    d.append(13)\n",
        "    if t[15] == 0:\n",
        "      d.append(15)\n",
        "      n = 16 \n",
        "    elif t[15] == 1:\n",
        "      d.append(15)\n",
        "      if t[14] == 1:\n",
        "        d.append(14)\n",
        "        n= 14\n",
        "      elif t[14] == 0:\n",
        "        d.append(14)\n",
        "        n = 15    \n",
        "\n",
        "print(n)\n",
        "print(d)\n"
      ],
      "execution_count": 21,
      "outputs": [
        {
          "output_type": "stream",
          "name": "stdout",
          "text": [
            "16\n",
            "[16, 13, 15]\n"
          ]
        }
      ]
    },
    {
      "cell_type": "code",
      "metadata": {
        "colab": {
          "base_uri": "https://localhost:8080/"
        },
        "id": "WacJcbP7zTIS",
        "outputId": "06eab66c-027c-4183-f1b6-49c135b927e3"
      },
      "source": [
        "#estable nodo 4\n",
        "def node4LinearSearch(t):\n",
        "\n",
        "  sortCheck = [13,14,15,16,18,20]\n",
        "  d = [] \n",
        "\n",
        "  if t[16] == 0:\n",
        "    print(\"node 16\")\n",
        "    d.append(16)\n",
        "    \n",
        "    if t[20] == 0:\n",
        "      print(\"node 20\")\n",
        "      d.append(20)\n",
        "      n = 21\n",
        "    \n",
        "    elif t[20] == 1:\n",
        "      print(\"node 201\")\n",
        "      d.append(20)\n",
        "      if t[18] == 0:\n",
        "        print(\"node 18\")\n",
        "        d.append(18)\n",
        "        n = 20\n",
        "      elif t[18] == 1:\n",
        "        print(\"node 18\")\n",
        "        d.append(18)\n",
        "        n = 18    \n",
        "\n",
        "\n",
        "  elif t[16] ==1 :\n",
        "    d.append(16)\n",
        "    n = 16\n",
        "    if t[13] == 1:\n",
        "      d.append(13)\n",
        "      n = 13\n",
        "    elif t[13] == 0:\n",
        "      d.append(13)\n",
        "      if t[15] == 0:\n",
        "        d.append(15)\n",
        "        n = 16 \n",
        "      elif t[15] == 1:\n",
        "        d.append(15)\n",
        "        if t[14] == 1:\n",
        "          d.append(14)\n",
        "          n= 14\n",
        "        elif t[14] == 0:\n",
        "          d.append(14)\n",
        "          n = 15    \n",
        "  return n,d\n",
        "\n",
        "t= [0] * 46\n",
        "t[13] = 0\n",
        "t[14] = 0\n",
        "t[15] = 0\n",
        "t[16] = 0\n",
        "t[18] = 0\n",
        "t[20] = 0\n",
        "\n",
        "n,d = node4LinearSearch(t)\n",
        "print(n)\n",
        "print(d)\n"
      ],
      "execution_count": 29,
      "outputs": [
        {
          "output_type": "stream",
          "name": "stdout",
          "text": [
            "node 16\n",
            "node 20\n",
            "21\n",
            "[16, 20]\n"
          ]
        }
      ]
    }
  ]
}