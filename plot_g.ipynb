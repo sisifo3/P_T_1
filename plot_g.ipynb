{
  "nbformat": 4,
  "nbformat_minor": 0,
  "metadata": {
    "colab": {
      "name": "plot_g.ipynb",
      "provenance": [],
      "authorship_tag": "ABX9TyM05ahqh0f7DDI9z8pd2TYi",
      "include_colab_link": true
    },
    "kernelspec": {
      "name": "python3",
      "display_name": "Python 3"
    },
    "language_info": {
      "name": "python"
    }
  },
  "cells": [
    {
      "cell_type": "markdown",
      "metadata": {
        "id": "view-in-github",
        "colab_type": "text"
      },
      "source": [
        "<a href=\"https://colab.research.google.com/github/sisifo3/P_T_1/blob/main/plot_g.ipynb\" target=\"_parent\"><img src=\"https://colab.research.google.com/assets/colab-badge.svg\" alt=\"Open In Colab\"/></a>"
      ]
    },
    {
      "cell_type": "code",
      "metadata": {
        "id": "oQFcxdR92uwz"
      },
      "source": [
        "from google.colab import files\n",
        "import pandas as pd\n",
        "import numpy as np\n",
        "\n",
        "import matplotlib.pyplot as plt\n",
        "import math"
      ],
      "execution_count": 1,
      "outputs": []
    },
    {
      "cell_type": "code",
      "metadata": {
        "id": "Z90n1a3b2AU-"
      },
      "source": [
        "x1 = [1]\n",
        "x2 = [1]\n",
        "x3 = [1,2,3]\n",
        "x4 = [1]\n",
        "x5 = [1,2,3]\n",
        "x6 = [1]\n",
        "x7 = [1]\n",
        "x8 = [1]\n",
        "x9 = [1]\n",
        "x10 = [1,2,3,4,5,6,7,8,9,10,11,12]\n",
        "x11 = [1]\n",
        "x12 = [1]\n",
        "x13 = [1,2,3,4,5]\n",
        "x14 = [1,2]\n",
        "x15 = [1,2,3,4,5,6]\n",
        "x16 = [1,2,3]\n",
        "x17 = [1,2,3]\n",
        "\n",
        "S1 = [1]\n",
        "S2 = [9]\n",
        "S3 = [16, 30, 38]\n",
        "S4 = [10]\n",
        "S5 = [16, 30, 40]\n",
        "S6 = [16]\n",
        "S7 = [15]\n",
        "S8 = [13]\n",
        "S9 =  [14]\n",
        "S10 = [16, 30, 42, 56, 76, 89, 101, 114, 118, 138, 144, 150]\n",
        "S11 = [12]\n",
        "S12 = [11]\n",
        "S13 = [16, 30, 42, 56, 70]\n",
        "S14 = [16, 24]\n",
        "S15 = [16, 30, 42, 56, 76, 83]\n",
        "S16 = [16, 30, 41]\n",
        "S17 = [16, 30, 39]\n"
      ],
      "execution_count": 2,
      "outputs": []
    },
    {
      "cell_type": "code",
      "metadata": {
        "id": "0EPbqnBh2bEa"
      },
      "source": [
        "x1 = [1]\n",
        "x2 = [2]\n",
        "x3 = [3]\n",
        "x4 = [4]\n",
        "x5 = [5]\n",
        "x6 = [6]\n",
        "x7 = [7]\n",
        "x8 = [8]\n",
        "x9 = [9]\n",
        "x10 = [10]\n",
        "x11 = [11]\n",
        "x12 = [12]\n",
        "x13 = [13]\n",
        "x14 = [14]\n",
        "x15 = [15]\n",
        "x16 = [16]\n",
        "x17 = [17]\n",
        "\n",
        "S1 = [1]\n",
        "S2 = [9]\n",
        "S3 = [38]\n",
        "S4 = [10]\n",
        "S5 = [40]\n",
        "S6 = [16]\n",
        "S7 = [15]\n",
        "S8 = [13]\n",
        "S9 =  [14]\n",
        "S10 = [150]\n",
        "S11 = [12]\n",
        "S12 = [11]\n",
        "S13 = [70]\n",
        "S14 = [24]\n",
        "S15 = [83]\n",
        "S16 = [41]\n",
        "S17 = [39]\n"
      ],
      "execution_count": 3,
      "outputs": []
    },
    {
      "cell_type": "code",
      "metadata": {
        "colab": {
          "base_uri": "https://localhost:8080/",
          "height": 266
        },
        "id": "j3o95boz2eaI",
        "outputId": "9e5ba496-a0d2-4149-bc4a-2f618ad2d225"
      },
      "source": [
        "plt.scatter(x10,S10,s=100,color='red')\n",
        "plt.show()"
      ],
      "execution_count": 4,
      "outputs": [
        {
          "output_type": "display_data",
          "data": {
            "image/png": "[encoded data removed]",
            "text/plain": [
              "<Figure size 432x288 with 1 Axes>"
            ]
          },
          "metadata": {
            "needs_background": "light"
          }
        }
      ]
    },
    {
      "cell_type": "code",
      "metadata": {
        "colab": {
          "base_uri": "https://localhost:8080/",
          "height": 310
        },
        "id": "DUJhQZZH2g1V",
        "outputId": "d01a52fe-afa1-4210-ad70-ceca55e29251"
      },
      "source": [
        "  \n",
        "# Plotting both the curves simultaneously\n",
        "plt.scatter(x1, S1, color='r', label='S1')\n",
        "plt.scatter(x2, S2, color='b', label='S2')\n",
        "plt.scatter(x3, S3, color='g', label='S3')\n",
        "plt.scatter(x4, S4, color='orange', label='S4')\n",
        "plt.scatter(x5, S5, color='olive', label='S5')\n",
        "plt.scatter(x6, S6, color='maroon', label='S6')\n",
        "plt.scatter(x7, S7, color='navy', label='S7')\n",
        "plt.scatter(x8, S8, color='violet', label='S8')\n",
        "plt.scatter(x9, S9, color='purple', label='S9')\n",
        "plt.scatter(x10, S10, color='tomato', label='S10')\n",
        "plt.scatter(x11, S11, color='yellow', label='S11')\n",
        "plt.scatter(x12, S12, color='palegreen', label='S12')\n",
        "plt.scatter(x13, S13, color='teal', label='S13')\n",
        "plt.scatter(x14, S14, color='deeppink', label='S14')\n",
        "plt.scatter(x15, S15, color='black', label='S15')\n",
        "plt.scatter(x16, S16, color='lime', label='S16')\n",
        "plt.scatter(x17, S17, color='chocolate', label='S17')\n",
        "\n",
        "\n",
        "\n",
        "#plt.plot(x13, S13, color='g', label='cos')\n",
        "#plt.plot(x1, S1, color='b', label='cos')\n",
        "\n",
        "\n",
        "# Naming the x-axis, y-axis and the whole graph\n",
        "plt.xlabel(\"Angle\")\n",
        "plt.ylabel(\"Magnitude\")\n",
        "plt.title(\"Sine and Cosine functions\")\n",
        "  \n",
        "# Adding legend, which helps us recognize the curve according to it's color\n",
        "plt.legend()\n",
        "  \n",
        "# To load the display window\n",
        "plt.show()"
      ],
      "execution_count": 5,
      "outputs": [
        {
          "output_type": "display_data",
          "data": {
            "image/png": "[encoded data removed]",
            "text/plain": [
              "<Figure size 432x288 with 1 Axes>"
            ]
          },
          "metadata": {
            "needs_background": "light"
          }
        }
      ]
    },
    {
      "cell_type": "code",
      "metadata": {
        "colab": {
          "base_uri": "https://localhost:8080/",
          "height": 312
        },
        "id": "Ww-ENPZR2lUd",
        "outputId": "508dabef-da24-4d64-b000-e6242a2cab5c"
      },
      "source": [
        "  \n",
        "# Plotting both the curves simultaneously\n",
        "plt.scatter(x1, S1, color='r')\n",
        "plt.scatter(x2, S2, color='b')\n",
        "plt.scatter(x3, S3, color='g')\n",
        "plt.scatter(x4, S4, color='orange')\n",
        "plt.scatter(x5, S5, color='olive')\n",
        "plt.scatter(x6, S6, color='maroon')\n",
        "plt.scatter(x7, S7, color='navy')\n",
        "plt.scatter(x8, S8, color='violet')\n",
        "plt.scatter(x9, S9, color='purple')\n",
        "plt.scatter(x10, S10, color='tomato')\n",
        "plt.scatter(x11, S11, color='yellow')\n",
        "plt.scatter(x12, S12, color='palegreen')\n",
        "plt.scatter(x13, S13, color='teal')\n",
        "plt.scatter(x14, S14, color='deeppink')\n",
        "plt.scatter(x15, S15, color='black')\n",
        "plt.scatter(x16, S16, color='lime')\n",
        "plt.scatter(x17, S17, color='chocolate')\n",
        "\n",
        "\n",
        "\n",
        "#plt.plot(x13, S13, color='g', label='cos')\n",
        "#plt.plot(x1, S1, color='b', label='cos')\n",
        "\n",
        "\n",
        "# Naming the x-axis, y-axis and the whole graph\n",
        "plt.xlabel(\"Node (S)\")\n",
        "plt.ylabel(\"Number of Nodes \")\n",
        "plt.title(\"Visited nodes \")\n",
        "  \n",
        "# Adding legend, which helps us recognize the curve according to it's color\n",
        "plt.legend()\n",
        "  \n",
        "# To load the display window\n",
        "plt.show()"
      ],
      "execution_count": 6,
      "outputs": [
        {
          "output_type": "stream",
          "text": [
            "No handles with labels found to put in legend.\n"
          ],
          "name": "stderr"
        },
        {
          "output_type": "display_data",
          "data": {
            "image/png": "[encoded data removed]",
            "text/plain": [
              "<Figure size 432x288 with 1 Axes>"
            ]
          },
          "metadata": {
            "needs_background": "light"
          }
        }
      ]
    }
  ]
}