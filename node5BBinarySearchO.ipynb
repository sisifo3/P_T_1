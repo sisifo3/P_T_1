{
  "nbformat": 4,
  "nbformat_minor": 0,
  "metadata": {
    "colab": {
      "name": "node5BBinarySearchO.ipynb",
      "provenance": [],
      "authorship_tag": "ABX9TyPWBGaYzd0sgEfr6n9Nk57J",
      "include_colab_link": true
    },
    "kernelspec": {
      "name": "python3",
      "display_name": "Python 3"
    },
    "language_info": {
      "name": "python"
    }
  },
  "cells": [
    {
      "cell_type": "markdown",
      "metadata": {
        "id": "view-in-github",
        "colab_type": "text"
      },
      "source": [
        "<a href=\"https://colab.research.google.com/github/sisifo3/P_T_1/blob/main/node5BBinarySearchO.ipynb\" target=\"_parent\"><img src=\"https://colab.research.google.com/assets/colab-badge.svg\" alt=\"Open In Colab\"/></a>"
      ]
    },
    {
      "cell_type": "code",
      "metadata": {
        "colab": {
          "base_uri": "https://localhost:8080/"
        },
        "id": "T-qBoXIyPvx5",
        "outputId": "e00816f8-cd23-4c50-b872-bf403e95aa29"
      },
      "source": [
        "def node5BBinarySearchO(t):\n",
        "  #Esta funcion es busqueda lineal \n",
        "  sortCheck = [9,11,12]\n",
        "  val_l = 6\n",
        "  d = []\n",
        "  n = 0\n",
        "\n",
        "\n",
        "  if t[11] == 0:\n",
        "    print(\"node 1\")\n",
        "    d.append(11)\n",
        "    if t[9] == 0:\n",
        "      print(\"node 9\")\n",
        "      d.append(9)\n",
        "      n = 6\n",
        "    elif t[9] == 1:\n",
        "      print(\"node 9\")\n",
        "      d.append(9)\n",
        "      n = 9\n",
        "   \n",
        "  elif t[11] == 1:\n",
        "    print(\"node 11\")\n",
        "    d.append(11)\n",
        "    if t[12] == 1:\n",
        "      print(\"node 12\")\n",
        "      d.append(12)\n",
        "      n = 12\n",
        "    elif t[12] == 0:\n",
        "      print(\"node 12\")\n",
        "      d.append(12)\n",
        "      n = 11\n",
        "\n",
        "  return n,d\n",
        "\n",
        "\n",
        "t= [0] * 46\n",
        "t[9] = 0\n",
        "t[11] = 0\n",
        "t[12] = 0\n",
        "#sortCheck = [13,14,15,16,18,20]\n",
        "n,d =  node5BBinarySearchO(t)\n",
        "print(\"n\",n)\n",
        "print(\"d\", d)"
      ],
      "execution_count": 6,
      "outputs": [
        {
          "output_type": "stream",
          "name": "stdout",
          "text": [
            "node 1\n",
            "node 9\n",
            "n 6\n",
            "d [11, 9]\n"
          ]
        }
      ]
    }
  ]
}