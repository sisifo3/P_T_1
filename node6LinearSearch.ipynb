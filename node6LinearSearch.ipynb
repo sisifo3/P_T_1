{
  "nbformat": 4,
  "nbformat_minor": 0,
  "metadata": {
    "colab": {
      "name": "node6LinearSearch.ipynb",
      "provenance": [],
      "authorship_tag": "ABX9TyMWRHzHauEz5LT3h+o3iBCu",
      "include_colab_link": true
    },
    "kernelspec": {
      "name": "python3",
      "display_name": "Python 3"
    },
    "language_info": {
      "name": "python"
    }
  },
  "cells": [
    {
      "cell_type": "markdown",
      "metadata": {
        "id": "view-in-github",
        "colab_type": "text"
      },
      "source": [
        "<a href=\"https://colab.research.google.com/github/sisifo3/P_T_1/blob/main/node6LinearSearch.ipynb\" target=\"_parent\"><img src=\"https://colab.research.google.com/assets/colab-badge.svg\" alt=\"Open In Colab\"/></a>"
      ]
    },
    {
      "cell_type": "code",
      "metadata": {
        "colab": {
          "base_uri": "https://localhost:8080/"
        },
        "id": "iU9x92-hNd2R",
        "outputId": "d97c4a92-531f-49cf-ec4e-b5fa2f410126"
      },
      "source": [
        "sortCheck = [4,3,9,5,8,11]\n",
        "\n",
        "t= [0] * 46\n",
        "t[4] = 1\n",
        "t[3] = 1\n",
        "t[9] = 0\n",
        "t[5] = 0\n",
        "t[8] = 0\n",
        "t[11] = 0\n",
        "\n",
        "d = []\n",
        "n = 0\n",
        "\n",
        "if t[4] == 1:\n",
        "  print(\"Node 4\")\n",
        "  d.append(4)\n",
        "  if t[3] == 1:\n",
        "    print(\"node 3\")\n",
        "    d.append(3)\n",
        "    n=3\n",
        "  elif t[3] == 0:\n",
        "    print(\"node 3\")\n",
        "    d.append(3)\n",
        "    if t[5] == 1:\n",
        "      print(\"node 5\")\n",
        "      d.append(5)\n",
        "      n = 5\n",
        "    elif t[5] == 0:\n",
        "      print(\"node 5\")\n",
        "      d.append(5)\n",
        "      n = 5  \n",
        "elif t[4] == 0:\n",
        "  print(\"node 4\")\n",
        "  d.append(4)\n",
        "  if t[9] == 0:\n",
        "    print(\"node 9\")\n",
        "    d.append(9)\n",
        "    n = 6\n",
        "  elif t[9] ==1:\n",
        "    print(\"node 9\")\n",
        "    d.append(9)\n",
        "    if t[8] == 1:\n",
        "      print(\"node 8\")\n",
        "      d.append(8)\n",
        "      n = 8\n",
        "    elif t[8] == 0:\n",
        "      if t[11] == 0:\n",
        "        print(\"node 11\")\n",
        "        d.append(11)\n",
        "        n = 9\n",
        "      elif t[11] == 1:\n",
        "        print(\"node 11\")\n",
        "        d.append(11)\n",
        "        n =11\n",
        "\n",
        "print(n)\n",
        "print(d)           \n",
        "\n",
        "\n",
        "\n"
      ],
      "execution_count": 5,
      "outputs": [
        {
          "output_type": "stream",
          "name": "stdout",
          "text": [
            "Node 4\n",
            "node 3\n",
            "3\n",
            "[4, 3]\n"
          ]
        }
      ]
    },
    {
      "cell_type": "code",
      "metadata": {
        "colab": {
          "base_uri": "https://localhost:8080/"
        },
        "id": "-tj0PzXMRytO",
        "outputId": "775a0e45-a289-4e0b-e299-e8e40e910b3e"
      },
      "source": [
        "\n",
        "\n",
        "def node6LinearSearch(t):\n",
        "  sortCheck = [4,3,9,5,8,11]\n",
        "\n",
        "\n",
        "  d = []\n",
        "  n = 0\n",
        "\n",
        "  if t[4] == 1:\n",
        "    print(\"Node 4\")\n",
        "    d.append(4)\n",
        "    if t[3] == 1:\n",
        "      print(\"node 3\")\n",
        "      d.append(3)\n",
        "      n=3\n",
        "    elif t[3] == 0:\n",
        "      print(\"node 3\")\n",
        "      d.append(3)\n",
        "      if t[5] == 1:\n",
        "        print(\"node 5\")\n",
        "        d.append(5)\n",
        "        n = 5\n",
        "      elif t[5] == 0:\n",
        "        print(\"node 5\")\n",
        "        d.append(5)\n",
        "        n = 5  \n",
        "  elif t[4] == 0:\n",
        "    print(\"node 4\")\n",
        "    d.append(4)\n",
        "    if t[9] == 0:\n",
        "      print(\"node 9\")\n",
        "      d.append(9)\n",
        "      n = 6\n",
        "    elif t[9] ==1:\n",
        "      print(\"node 9\")\n",
        "      d.append(9)\n",
        "      if t[8] == 1:\n",
        "        print(\"node 8\")\n",
        "        d.append(8)\n",
        "        n = 8\n",
        "      elif t[8] == 0:\n",
        "        if t[11] == 0:\n",
        "          print(\"node 11\")\n",
        "          d.append(11)\n",
        "          n = 9\n",
        "        elif t[11] == 1:\n",
        "          print(\"node 11\")\n",
        "          d.append(11)\n",
        "          n =11\n",
        "  return n,d\n",
        "\n",
        "t= [0] * 46\n",
        "t[4] = 1\n",
        "t[3] = 1\n",
        "t[9] = 0\n",
        "t[5] = 0\n",
        "t[8] = 0\n",
        "t[11] = 0\n",
        "\n",
        "n , d = node6LinearSearch(t)\n",
        "\n",
        "print(n)\n",
        "print(d)           \n",
        "\n",
        "\n"
      ],
      "execution_count": 6,
      "outputs": [
        {
          "output_type": "stream",
          "name": "stdout",
          "text": [
            "Node 4\n",
            "node 3\n",
            "3\n",
            "[4, 3]\n"
          ]
        }
      ]
    }
  ]
}