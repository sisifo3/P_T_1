{
  "nbformat": 4,
  "nbformat_minor": 0,
  "metadata": {
    "colab": {
      "name": "BreadthFirstSearch.ipynb",
      "provenance": [],
      "authorship_tag": "ABX9TyMbG7tjGExU+WXA89bWvye4",
      "include_colab_link": true
    },
    "kernelspec": {
      "name": "python3",
      "display_name": "Python 3"
    },
    "language_info": {
      "name": "python"
    }
  },
  "cells": [
    {
      "cell_type": "markdown",
      "metadata": {
        "id": "view-in-github",
        "colab_type": "text"
      },
      "source": [
        "<a href=\"https://colab.research.google.com/github/sisifo3/P_T_1/blob/main/BreadthFirstSearch.ipynb\" target=\"_parent\"><img src=\"https://colab.research.google.com/assets/colab-badge.svg\" alt=\"Open In Colab\"/></a>"
      ]
    },
    {
      "cell_type": "code",
      "metadata": {
        "id": "sZh4nbpNC8b8"
      },
      "source": [
        "from google.colab import files\n",
        "import pandas as pd\n",
        "import numpy as np\n",
        "\n",
        "import matplotlib.pyplot as plt\n",
        "import math"
      ],
      "execution_count": null,
      "outputs": []
    },
    {
      "cell_type": "code",
      "metadata": {
        "colab": {
          "resources": {
            "http://localhost:8080/nbextensions/google.colab/files.js": {
              "data": "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",
              "ok": true,
              "headers": [
                [
                  "content-type",
                  "application/javascript"
                ]
              ],
              "status": 200,
              "status_text": "OK"
            }
          },
          "base_uri": "https://localhost:8080/",
          "height": 75
        },
        "id": "SQG7L4k5C_UT",
        "outputId": "3fbe657b-e399-4247-d9af-ac05f536a630"
      },
      "source": [
        "uploaded = files.upload()"
      ],
      "execution_count": null,
      "outputs": [
        {
          "output_type": "display_data",
          "data": {
            "text/html": [
              "\n",
              "     <input type=\"file\" id=\"files-3e3bc739-dae6-4d76-bd42-b5459a646b0d\" name=\"files[]\" multiple disabled\n",
              "        style=\"border:none\" />\n",
              "     <output id=\"result-3e3bc739-dae6-4d76-bd42-b5459a646b0d\">\n",
              "      Upload widget is only available when the cell has been executed in the\n",
              "      current browser session. Please rerun this cell to enable.\n",
              "      </output>\n",
              "      <script src=\"/nbextensions/google.colab/files.js\"></script> "
            ],
            "text/plain": [
              "<IPython.core.display.HTML object>"
            ]
          },
          "metadata": {}
        },
        {
          "output_type": "stream",
          "text": [
            "Saving Prob_f.csv to Prob_f.csv\n"
          ],
          "name": "stdout"
        }
      ]
    },
    {
      "cell_type": "code",
      "metadata": {
        "id": "xpi3QNeEDp_6"
      },
      "source": [
        "df1 = pd.read_csv('NodeContact_2.csv')\n",
        "df2 = pd.read_csv('Prob_f.csv')"
      ],
      "execution_count": null,
      "outputs": []
    },
    {
      "cell_type": "code",
      "metadata": {
        "colab": {
          "base_uri": "https://localhost:8080/",
          "height": 206
        },
        "id": "4vEIL3JOIo3g",
        "outputId": "2ba53165-e596-4efe-c0ae-57f701ad28b6"
      },
      "source": [
        "df1.head()"
      ],
      "execution_count": null,
      "outputs": [
        {
          "output_type": "execute_result",
          "data": {
            "text/html": [
              "<div>\n",
              "<style scoped>\n",
              "    .dataframe tbody tr th:only-of-type {\n",
              "        vertical-align: middle;\n",
              "    }\n",
              "\n",
              "    .dataframe tbody tr th {\n",
              "        vertical-align: top;\n",
              "    }\n",
              "\n",
              "    .dataframe thead th {\n",
              "        text-align: right;\n",
              "    }\n",
              "</style>\n",
              "<table border=\"1\" class=\"dataframe\">\n",
              "  <thead>\n",
              "    <tr style=\"text-align: right;\">\n",
              "      <th></th>\n",
              "      <th>a</th>\n",
              "      <th>b</th>\n",
              "      <th>c</th>\n",
              "      <th>d</th>\n",
              "    </tr>\n",
              "  </thead>\n",
              "  <tbody>\n",
              "    <tr>\n",
              "      <th>0</th>\n",
              "      <td>1</td>\n",
              "      <td>1</td>\n",
              "      <td>1</td>\n",
              "      <td>1</td>\n",
              "    </tr>\n",
              "    <tr>\n",
              "      <th>1</th>\n",
              "      <td>1</td>\n",
              "      <td>14</td>\n",
              "      <td>4</td>\n",
              "      <td>0</td>\n",
              "    </tr>\n",
              "    <tr>\n",
              "      <th>2</th>\n",
              "      <td>2</td>\n",
              "      <td>4</td>\n",
              "      <td>3</td>\n",
              "      <td>0</td>\n",
              "    </tr>\n",
              "    <tr>\n",
              "      <th>3</th>\n",
              "      <td>3</td>\n",
              "      <td>17</td>\n",
              "      <td>0</td>\n",
              "      <td>0</td>\n",
              "    </tr>\n",
              "    <tr>\n",
              "      <th>4</th>\n",
              "      <td>4</td>\n",
              "      <td>12</td>\n",
              "      <td>15</td>\n",
              "      <td>17</td>\n",
              "    </tr>\n",
              "  </tbody>\n",
              "</table>\n",
              "</div>"
            ],
            "text/plain": [
              "   a   b   c   d\n",
              "0  1   1   1   1\n",
              "1  1  14   4   0\n",
              "2  2   4   3   0\n",
              "3  3  17   0   0\n",
              "4  4  12  15  17"
            ]
          },
          "metadata": {},
          "execution_count": 5
        }
      ]
    },
    {
      "cell_type": "code",
      "metadata": {
        "colab": {
          "base_uri": "https://localhost:8080/",
          "height": 206
        },
        "id": "Mn8-Ww4o4mYc",
        "outputId": "52c49b02-eea3-471d-9ea0-cce81504d1c7"
      },
      "source": [
        "df2.head()"
      ],
      "execution_count": null,
      "outputs": [
        {
          "output_type": "execute_result",
          "data": {
            "text/html": [
              "<div>\n",
              "<style scoped>\n",
              "    .dataframe tbody tr th:only-of-type {\n",
              "        vertical-align: middle;\n",
              "    }\n",
              "\n",
              "    .dataframe tbody tr th {\n",
              "        vertical-align: top;\n",
              "    }\n",
              "\n",
              "    .dataframe thead th {\n",
              "        text-align: right;\n",
              "    }\n",
              "</style>\n",
              "<table border=\"1\" class=\"dataframe\">\n",
              "  <thead>\n",
              "    <tr style=\"text-align: right;\">\n",
              "      <th></th>\n",
              "      <th>S</th>\n",
              "      <th>P</th>\n",
              "    </tr>\n",
              "  </thead>\n",
              "  <tbody>\n",
              "    <tr>\n",
              "      <th>0</th>\n",
              "      <td>S1</td>\n",
              "      <td>0.97</td>\n",
              "    </tr>\n",
              "    <tr>\n",
              "      <th>1</th>\n",
              "      <td>S2</td>\n",
              "      <td>0.86</td>\n",
              "    </tr>\n",
              "    <tr>\n",
              "      <th>2</th>\n",
              "      <td>S3</td>\n",
              "      <td>0.13</td>\n",
              "    </tr>\n",
              "    <tr>\n",
              "      <th>3</th>\n",
              "      <td>S4</td>\n",
              "      <td>0.60</td>\n",
              "    </tr>\n",
              "    <tr>\n",
              "      <th>4</th>\n",
              "      <td>S5</td>\n",
              "      <td>0.89</td>\n",
              "    </tr>\n",
              "  </tbody>\n",
              "</table>\n",
              "</div>"
            ],
            "text/plain": [
              "    S     P\n",
              "0  S1  0.97\n",
              "1  S2  0.86\n",
              "2  S3  0.13\n",
              "3  S4  0.60\n",
              "4  S5  0.89"
            ]
          },
          "metadata": {},
          "execution_count": 6
        }
      ]
    },
    {
      "cell_type": "code",
      "metadata": {
        "id": "eX5skCMiw_FZ"
      },
      "source": [
        "#Node N4 is equal to 18\n",
        "#fn = 18 "
      ],
      "execution_count": null,
      "outputs": []
    },
    {
      "cell_type": "code",
      "metadata": {
        "id": "sTdBCZW-C7TJ"
      },
      "source": [
        "dfA = df1.to_numpy()"
      ],
      "execution_count": null,
      "outputs": []
    },
    {
      "cell_type": "code",
      "metadata": {
        "colab": {
          "base_uri": "https://localhost:8080/"
        },
        "id": "oHJY-vkZFYOm",
        "outputId": "cc0b4842-8441-4aaf-d007-0bb0b2729d0e"
      },
      "source": [
        "print(dfA)"
      ],
      "execution_count": null,
      "outputs": [
        {
          "output_type": "stream",
          "text": [
            "[[ 1  1  1  1]\n",
            " [ 1 14  4  0]\n",
            " [ 2  4  3  0]\n",
            " [ 3 17  0  0]\n",
            " [ 4 12 15 17]\n",
            " [ 5 16  0  0]\n",
            " [ 6  0  0  0]\n",
            " [ 7  6  0  0]\n",
            " [ 8  9  0  0]\n",
            " [ 9  7  0  0]\n",
            " [10  9  0  0]\n",
            " [11  8  0  0]\n",
            " [12 11 10  0]\n",
            " [13 12  0  0]\n",
            " [14 13 12  4]\n",
            " [15  7  6 16]\n",
            " [16  6  0  0]\n",
            " [17  5  0  0]\n",
            " [18  1  2  0]]\n"
          ],
          "name": "stdout"
        }
      ]
    },
    {
      "cell_type": "code",
      "metadata": {
        "colab": {
          "base_uri": "https://localhost:8080/"
        },
        "id": "M-q7hXokp1Z8",
        "outputId": "861edc2f-02e1-46fa-f427-4558579fa345"
      },
      "source": [
        "#Esta parte manda cada posible nodo y el algoritmo busca en todos \n",
        "#los posibles siguientes nodos\n",
        "\n",
        "#[1, 14, 4, 0]\n",
        "#[[4, 12, 11, 8, 9, 7, 6], [14, 12, 11, 8, 9, 7, 6]]\n",
        "\n",
        "Nz = [[1,1,1,1],\n",
        " [ 1, 14,  4,  0],\n",
        " [ 2,  4,  3,  0],\n",
        " [ 3, 17,  0,  0],\n",
        " [ 4, 12, 15, 17],\n",
        " [ 5, 16,  0,  0],\n",
        " [ 6,  0,  0,  0],\n",
        " [ 7,  6,  0,  0],\n",
        " [ 8,  9,  0,  0],\n",
        " [ 9,  7,  0,  0],\n",
        " [10,  9,  0,  0],\n",
        " [11,  8,  0,  0],\n",
        " [12, 11, 10,  0],\n",
        " [13, 12,  0,  0],\n",
        " [14, 13, 12,  4],\n",
        " [15,  7,  6, 16],\n",
        " [16,  6,  0,  0],\n",
        " [17,  5,  0,  0],\n",
        " [18,  1,  2,  0]]\n",
        "\n",
        "Nz1 = [[1,1,1,1],\n",
        "      [18,  1,  2,  0],\n",
        "      [ 1, 14,  4,  0],\n",
        "      [ 2,  4,  3,  0], \n",
        "      [14, 13, 12,  4],\n",
        "      [ 4, 12, 15, 17],\n",
        "      [ 3, 17,  0,  0],\n",
        "      [12, 11, 10,  0],\n",
        "      [13, 12,  0,  0],\n",
        "      [15,  7,  6, 16],\n",
        "      [17,  5,  0,  0],\n",
        "      [10,  9,  0,  0],\n",
        "      [11,  8,  0,  0],\n",
        "      [ 6,  0,  0,  0],\n",
        "      [ 7,  6,  0,  0],\n",
        "      [ 5, 16,  0,  0],\n",
        "      [16,  6,  0,  0],\n",
        "      [ 8,  9,  0,  0],\n",
        "      [ 9,  7,  0,  0]]\n",
        "\n",
        "pN = 17\n",
        "zi = 0\n",
        "found = 0\n",
        "count = 0\n",
        "cp = []\n",
        "\n",
        "while (found != 1):\n",
        "  if found == 1:\n",
        "    break\n",
        "  for z in Nz1:\n",
        "    if found == 1:\n",
        "      break  \n",
        "    print(z)\n",
        "    if (zi != 0):\n",
        "      if found == 1:\n",
        "        break\n",
        "      #z = [18,1,2,0]\n",
        "      N = []\n",
        "      NextNodes = []\n",
        "      for n in z:\n",
        "        #print(n)\n",
        "        if found == 1:\n",
        "          break\n",
        "        if n != 0:\n",
        "          #print(n)\n",
        "          x = Nz[n][:]\n",
        "          #print(x)\n",
        "          mf = searchVector(x)\n",
        "          print(mf)\n",
        "          #print(pN)\n",
        "          found,count2 = foundPositive(mf,pN)\n",
        "          #print(found)\n",
        "          #print(count2)\n",
        "          count = count + count2 \n",
        "          cp.append(count)\n",
        "          if found == 1:\n",
        "            break\n",
        "    zi = zi + 1\n",
        "\n",
        "print(count)    \n",
        "print(cp)"
      ],
      "execution_count": null,
      "outputs": [
        {
          "output_type": "stream",
          "text": [
            "[1, 1, 1, 1]\n",
            "[18, 1, 2, 0]\n",
            "[[1, 4, 12, 11, 8, 9, 7, 6], [2, 4, 12, 11, 8, 9, 7, 6]]\n",
            "[[4, 12, 11, 8, 9, 7, 6], [14, 12, 11, 8, 9, 7, 6]]\n",
            "[[4, 12, 11, 8, 9, 7, 6], [3, 17, 5, 16, 6]]\n",
            "39\n",
            "[16, 30, 39]\n"
          ],
          "name": "stdout"
        }
      ]
    },
    {
      "cell_type": "code",
      "metadata": {
        "colab": {
          "base_uri": "https://localhost:8080/"
        },
        "id": "4U4hTusYJOAJ",
        "outputId": "c629f0fe-49ab-4aa8-8d40-d41872ea30e8"
      },
      "source": [
        "#Vamos a hacer un test a el algoritmo \n",
        "#poniendo un posible caso positivo\n",
        "#se evalua con cuantos posibles nodos visita \n",
        "#Antes de encontrar el posible caso positivo.\n",
        "#el mejor caso, el pero caso. \n",
        "#menor probabilidad - menor probabilidad.  \n",
        "\n",
        "def foundPositive(N,pN):\n",
        "  a = 0\n",
        "  count = 0\n",
        "  countEnd = 0 \n",
        "\n",
        "  for m in N:\n",
        "    for n in m:\n",
        "      count = count + 1\n",
        "      if (n == pN):\n",
        "        a = 1\n",
        "        countEnd = count\n",
        "      \n",
        "  if (a == 1):\n",
        "    count = countEnd\n",
        "  \n",
        "  return a, count\n",
        "\n",
        "\n",
        "\n",
        "#N = [[10, 12, 11, 8, 9, 7, 4], [14, 12, 11, 8, 9, 7, 6]]\n",
        "N = [[1, 4, 12, 11, 8, 9, 7, 6], [2, 4, 12, 11, 8, 9, 7, 6]]\n",
        "positiveNode = 1\n",
        "\n",
        "a,c = foundPositive(N,positiveNode)\n",
        "print(a)\n",
        "print(c)"
      ],
      "execution_count": null,
      "outputs": [
        {
          "output_type": "stream",
          "text": [
            "1\n",
            "1\n"
          ],
          "name": "stdout"
        }
      ]
    },
    {
      "cell_type": "code",
      "metadata": {
        "colab": {
          "base_uri": "https://localhost:8080/"
        },
        "id": "OWdTag0DJGOJ",
        "outputId": "e28b927a-7235-4bd0-d820-7e27481d5d9a"
      },
      "source": [
        "#para cualquier vector del  tipo\n",
        "#x = [18,1,2,0]\n",
        "#Te regresa el camino de nodos de tipo\n",
        "#[1, 4, 12, 11, 8, 9, 7, 6]\n",
        "#[2, 4, 12, 11, 8, 9, 7, 6] \n",
        "\n",
        "def searchVector(x):\n",
        "  #x = [18,1,2,0]\n",
        "  x2 = x\n",
        "  w = 0\n",
        "  m = []\n",
        "\n",
        "  while (w != 30):\n",
        "    w = w + 1\n",
        "    n = searchNodo(x)  \n",
        "    m.append(n)\n",
        "    a = n[0]\n",
        "\n",
        "    ww = 0\n",
        "    for v in x:\n",
        "      if v == a:\n",
        "        x2[ww] = 0\n",
        "      ww = ww + 1    \n",
        "    \n",
        "    x = x2\n",
        "    if (x[1]==0 and x[2]==0  and x[3] == 0):\n",
        "      break\n",
        "\n",
        "  return m\n",
        "\n",
        "\n",
        "x = [18,1,2,0]\n",
        "mf = searchVector(x)\n",
        "print(mf)"
      ],
      "execution_count": null,
      "outputs": [
        {
          "output_type": "stream",
          "text": [
            "[[1, 4, 12, 11, 8, 9, 7, 6], [2, 4, 12, 11, 8, 9, 7, 6]]\n"
          ],
          "name": "stdout"
        }
      ]
    },
    {
      "cell_type": "code",
      "metadata": {
        "colab": {
          "base_uri": "https://localhost:8080/"
        },
        "id": "MyTOLI0bbVH2",
        "outputId": "2b5f7e75-3111-4bf4-ac44-af8b00c7fdb2"
      },
      "source": [
        "#Para cualquier \n",
        "#x = [18,1,2,0]\n",
        "#a = 1\n",
        "#Entrega\n",
        "#n = [1, 4, 12, 11, 8, 9, 7, 6]\n",
        "\n",
        "#Para cualquier \n",
        "#x = [18,0,2,0]\n",
        "#a = 2\n",
        "#Entrega\n",
        "#n = [2, 4, 12, 11, 8, 9, 7, 6]\n",
        "\n",
        "\n",
        "def searchNodo(fo):\n",
        "  ns =[]\n",
        "  ii = 0\n",
        "\n",
        "  \n",
        "  while (ii != 50):\n",
        "    nf = getOderM(fo)\n",
        "    #print(nf)\n",
        "    \n",
        "    a = nf[3]\n",
        "    a = a[0]\n",
        "    a = int(a)\n",
        "    #print('a')\n",
        "    #print(a)\n",
        "    \n",
        "    ns.append(a)\n",
        "    fo = dfA[a]\n",
        "    #print(fo)\n",
        "\n",
        "    if fo[1] == 0 & fo[2] == 0 & fo[3] == 0 :\n",
        "      break\n",
        "    ii = ii + 1\n",
        "    \n",
        "  return ns\n",
        "\n",
        "x = [18,1,2,0]\n",
        "n = searchNodo(x)\n",
        "print('n')\n",
        "print(n)"
      ],
      "execution_count": null,
      "outputs": [
        {
          "output_type": "stream",
          "text": [
            "n\n",
            "[1, 4, 12, 11, 8, 9, 7, 6]\n"
          ],
          "name": "stdout"
        }
      ]
    },
    {
      "cell_type": "code",
      "metadata": {
        "id": "8s92Q3tsSaUg",
        "colab": {
          "base_uri": "https://localhost:8080/"
        },
        "outputId": "f40b1a04-2bf5-4fcd-f37d-6ec32b633e07"
      },
      "source": [
        "#Para cada entrada tipo x\n",
        "#x : [18, 1, 2, 0]\n",
        "#Regresa una salida tipo: \n",
        "#[[0.   0.  ]\n",
        "# [0.   0.  ]\n",
        "# [2.   0.86]\n",
        "# [1.   0.97]]\n",
        "\n",
        "\n",
        "def getOderM(N):\n",
        "  valPN = np.zeros([4,2])\n",
        "  i = 0\n",
        "\n",
        "  for val in N:\n",
        "    if i != 0:\n",
        "      valT = evalNode(val)\n",
        "      valPN[i,0] = val\n",
        "      valPN[i,1] = valT\n",
        "    i = i + 1\n",
        "\n",
        "  #print(valPN)\n",
        "  #El valor mayor es el ultimo de la Matriz\n",
        "  valS = valPN[valPN[:,1].argsort()] \n",
        "  #print(valS)\n",
        "  return valS\n",
        "\n",
        "\n",
        "\n",
        "x =  [18,1,2,0]\n",
        "print(x)\n",
        "\n",
        "da = getOderM(x)\n",
        "print(da)"
      ],
      "execution_count": null,
      "outputs": [
        {
          "output_type": "stream",
          "text": [
            "[18, 1, 2, 0]\n",
            "[[0.   0.  ]\n",
            " [0.   0.  ]\n",
            " [2.   0.86]\n",
            " [1.   0.97]]\n"
          ],
          "name": "stdout"
        }
      ]
    },
    {
      "cell_type": "code",
      "metadata": {
        "colab": {
          "base_uri": "https://localhost:8080/"
        },
        "id": "YR5hTbowI5E-",
        "outputId": "d126bffd-79a4-4559-8790-e5d0fa78eec1"
      },
      "source": [
        "#esta funcion encuentra la probabilidad para un nodo dado \n",
        "\n",
        "def evalNode(a):\n",
        "  p = df2['P']\n",
        "  pn = p.to_numpy()\n",
        "  p1 = 0\n",
        "\n",
        "  if a != 0:\n",
        "    p1 = pn[a - 1]\n",
        "\n",
        "  return p1\n",
        "\n",
        "a = 1\n",
        "r = evalNode(a)\n",
        "print(r)\n"
      ],
      "execution_count": null,
      "outputs": [
        {
          "output_type": "stream",
          "text": [
            "0.97\n"
          ],
          "name": "stdout"
        }
      ]
    }
  ]
}