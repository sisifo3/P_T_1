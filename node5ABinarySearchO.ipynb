{
  "nbformat": 4,
  "nbformat_minor": 0,
  "metadata": {
    "colab": {
      "name": "node5ABinarySearchO.ipynb",
      "provenance": [],
      "authorship_tag": "ABX9TyP+3A7uE2/LfNRizVjfngsn",
      "include_colab_link": true
    },
    "kernelspec": {
      "name": "python3",
      "display_name": "Python 3"
    },
    "language_info": {
      "name": "python"
    }
  },
  "cells": [
    {
      "cell_type": "markdown",
      "metadata": {
        "id": "view-in-github",
        "colab_type": "text"
      },
      "source": [
        "<a href=\"https://colab.research.google.com/github/sisifo3/P_T_1/blob/main/node5ABinarySearchO.ipynb\" target=\"_parent\"><img src=\"https://colab.research.google.com/assets/colab-badge.svg\" alt=\"Open In Colab\"/></a>"
      ]
    },
    {
      "cell_type": "code",
      "metadata": {
        "colab": {
          "base_uri": "https://localhost:8080/"
        },
        "id": "Io9GoqHttYFY",
        "outputId": "b6c0232a-420c-45b8-a154-d37929f7606f"
      },
      "source": [
        "def node5ABinarySearchO(t):\n",
        "  #Esta funcion es busqueda lineal \n",
        "  sortCheck = [4,3,2,1]\n",
        "  val_l = 6\n",
        "  d = []\n",
        "  n = 0\n",
        "\n",
        "  if t[3] == 0 :\n",
        "    print(\"node 3\")\n",
        "    d.append(3)\n",
        "    if t[4] == 0:\n",
        "      print(\"node 4\")\n",
        "      d.append(4)\n",
        "      n=6\n",
        "    elif t[4] == 1:\n",
        "      print(\"node 4\")\n",
        "      d.append(4)\n",
        "      n = 4 \n",
        "  elif t[3] == 1:\n",
        "    print(\"node 3\")\n",
        "    d.append(3)\n",
        "    if t[1] == 1:\n",
        "      print(\"node 1\")\n",
        "      d.append(1)\n",
        "      n = 1\n",
        "    elif t[1] == 0:\n",
        "      print(\"node 1\")\n",
        "      d.append(1)\n",
        "      if t[2] == 0:\n",
        "        print(\"node 2\")\n",
        "        d.append(2)\n",
        "        n = 6\n",
        "      if t[2] == 1:\n",
        "        print(\"node 2\")\n",
        "        d.append(2)\n",
        "        n = 2\n",
        "\n",
        "\n",
        "  return n,d\n",
        "\n",
        "\n",
        "t= [0] * 46\n",
        "t[1] = 0\n",
        "t[2] = 0\n",
        "t[3] = 0\n",
        "t[4] = 0\n",
        "#sortCheck = [13,14,15,16,18,20]\n",
        "n,d =  node5ABinarySearchO(t)\n",
        "print(\"n\",n)\n",
        "print(\"d\", d)"
      ],
      "execution_count": 7,
      "outputs": [
        {
          "output_type": "stream",
          "name": "stdout",
          "text": [
            "node 3\n",
            "node 4\n",
            "n 6\n",
            "d [3, 4]\n"
          ]
        }
      ]
    }
  ]
}