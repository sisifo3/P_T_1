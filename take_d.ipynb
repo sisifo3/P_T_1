{
  "nbformat": 4,
  "nbformat_minor": 0,
  "metadata": {
    "colab": {
      "name": "take_d.ipynb",
      "provenance": [],
      "authorship_tag": "ABX9TyPbNmUd24wPMbUgqBHrx/hO",
      "include_colab_link": true
    },
    "kernelspec": {
      "name": "python3",
      "display_name": "Python 3"
    },
    "language_info": {
      "name": "python"
    }
  },
  "cells": [
    {
      "cell_type": "markdown",
      "metadata": {
        "id": "view-in-github",
        "colab_type": "text"
      },
      "source": [
        "<a href=\"https://colab.research.google.com/github/sisifo3/P_T_1/blob/main/take_d.ipynb\" target=\"_parent\"><img src=\"https://colab.research.google.com/assets/colab-badge.svg\" alt=\"Open In Colab\"/></a>"
      ]
    },
    {
      "cell_type": "code",
      "metadata": {
        "colab": {
          "base_uri": "https://localhost:8080/"
        },
        "id": "vf_AVhVQrQJL",
        "outputId": "b09dc4e9-ce31-4385-d6a5-2fa9c5d2f591"
      },
      "source": [
        "from google.colab import files\n",
        "import pandas as pd\n",
        "import numpy as np\n",
        "\n",
        "import matplotlib.pyplot as plt\n",
        "import math\n",
        "import random\n",
        "\n",
        "\n",
        "m = [[8, 3, 1, 0], \n",
        "      [8, 3, 1], \n",
        "      [8, 3, 1, 2], \n",
        "      [8, 3], \n",
        "      [8, 3, 5, 4], \n",
        "      [8, 3, 5], \n",
        "      [8, 3, 5, 6], \n",
        "      [8, 3, 5, 6, 7], \n",
        "      [8], \n",
        "      [8, 13, 10, 9], \n",
        "      [8, 13, 10], \n",
        "      [8, 13, 10, 11], \n",
        "      [8, 13, 10, 11, 12], \n",
        "      [8, 13], \n",
        "      [8, 13, 15, 14], \n",
        "      [8, 13, 15], \n",
        "      [8, 13, 15, 16], \n",
        "      [8, 13, 15, 16, 17]]\n",
        "print(m)\n",
        "\n",
        "\n",
        "\n",
        "# En esta funcion extraemos los posibles siguientes nodos\n",
        "def OnlyValues(m):\n",
        "  z = []\n",
        "  for n in m:\n",
        "    r =  n[0]\n",
        "    z.append(r) \n",
        "#  print(z)  \n",
        "  Z = list(set(z))\n",
        "  return Z\n",
        "#  print(Z)\n",
        "\n",
        "Z = OnlyValues(m)\n",
        "print(Z)\n",
        "\n",
        "\n",
        "#eliminar los arrays que ya son zero\n",
        "\n",
        "def DeletedNodes(m,z):\n",
        "  x = []\n",
        "  for n in m:\n",
        "    #print(n)\n",
        "    if z in n:\n",
        "      x.append(n)\n",
        "      #print(n)\n",
        "  return x\n",
        "\n",
        "z = 3\n",
        "X = DeletedNodes(m,z)\n",
        "print(X)\n",
        "\n",
        "\n",
        "#Eliminar el nodo que testeamos\n",
        "def DeletedNode(m,z):\n",
        "  M = []\n",
        "  for n in m:\n",
        "    x = []\n",
        "    for y in n:\n",
        "      #print(y)\n",
        "      if y != z:\n",
        "        x.append(y)\n",
        "    #print(x)\n",
        "    M.append(x)\n",
        "\n",
        "  lM = [x for x in M if x != []]  \n",
        "  return lM    \n",
        "\n",
        "z = 8\n",
        "M = DeletedNode(m,z)\n",
        "print(M)\n",
        "\n",
        "\n",
        "\n",
        "\n",
        "def rand_n(n):\n",
        "  a = [0] * n\n",
        "  r = n - 1\n",
        "  t = random.randint(0,r)  \n",
        "  a[t] = 1\n",
        "  return a\n",
        "\n",
        "n = 7\n",
        "a = rand_n(n)\n",
        "print(a)\n"
      ],
      "execution_count": 3,
      "outputs": [
        {
          "output_type": "stream",
          "name": "stdout",
          "text": [
            "[[8, 3, 1, 0], [8, 3, 1], [8, 3, 1, 2], [8, 3], [8, 3, 5, 4], [8, 3, 5], [8, 3, 5, 6], [8, 3, 5, 6, 7], [8], [8, 13, 10, 9], [8, 13, 10], [8, 13, 10, 11], [8, 13, 10, 11, 12], [8, 13], [8, 13, 15, 14], [8, 13, 15], [8, 13, 15, 16], [8, 13, 15, 16, 17]]\n",
            "[8]\n",
            "[[8, 3, 1, 0], [8, 3, 1], [8, 3, 1, 2], [8, 3], [8, 3, 5, 4], [8, 3, 5], [8, 3, 5, 6], [8, 3, 5, 6, 7]]\n",
            "[[3, 1, 0], [3, 1], [3, 1, 2], [3], [3, 5, 4], [3, 5], [3, 5, 6], [3, 5, 6, 7], [13, 10, 9], [13, 10], [13, 10, 11], [13, 10, 11, 12], [13], [13, 15, 14], [13, 15], [13, 15, 16], [13, 15, 16, 17]]\n",
            "[0, 1, 0, 0, 0, 0, 0]\n"
          ]
        }
      ]
    }
  ]
}