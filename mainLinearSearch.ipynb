{
  "nbformat": 4,
  "nbformat_minor": 0,
  "metadata": {
    "colab": {
      "name": "mainLinearSearch.ipynb",
      "provenance": [],
      "authorship_tag": "ABX9TyPHEjBZobb3GJmkW21Javer",
      "include_colab_link": true
    },
    "kernelspec": {
      "name": "python3",
      "display_name": "Python 3"
    },
    "language_info": {
      "name": "python"
    }
  },
  "cells": [
    {
      "cell_type": "markdown",
      "metadata": {
        "id": "view-in-github",
        "colab_type": "text"
      },
      "source": [
        "<a href=\"https://colab.research.google.com/github/sisifo3/P_T_1/blob/main/mainLinearSearch.ipynb\" target=\"_parent\"><img src=\"https://colab.research.google.com/assets/colab-badge.svg\" alt=\"Open In Colab\"/></a>"
      ]
    },
    {
      "cell_type": "code",
      "metadata": {
        "colab": {
          "base_uri": "https://localhost:8080/"
        },
        "id": "gfmG6lFsXMZ3",
        "outputId": "a9a6cf0e-91a6-4a88-8d79-a2acb1ab54a3"
      },
      "source": [
        "t = [0] * 46\n",
        "t[1] = 1\n",
        "t[2] = 1\n",
        "t[3] = 1\n",
        "t[4] = 1\n",
        "t[6] = 1\n",
        "t[21] = 1\n",
        "t[29] = 1\n",
        "t[36] = 1\n",
        "t[45] = 1\n",
        "\n",
        "n1,d1 = LinearSearchColector(t)\n",
        "n2,d2  = callNode(t,n1)   \n",
        "\n",
        "print(n1,n2)\n",
        "print(d1,d2)"
      ],
      "execution_count": null,
      "outputs": [
        {
          "output_type": "stream",
          "name": "stdout",
          "text": [
            "Node 4\n",
            "node 3\n",
            "6 3\n",
            "[45, 36, 29, 21, 6] [4, 3]\n"
          ]
        }
      ]
    },
    {
      "cell_type": "code",
      "metadata": {
        "colab": {
          "base_uri": "https://localhost:8080/"
        },
        "id": "X-7dmVOdXTId",
        "outputId": "b1bc8a6a-997a-4d79-b7fa-b0e770149e7e"
      },
      "source": [
        "def callNode(t,n):\n",
        "  if n == 45:\n",
        "    n,d = node1LinearSearch(t)\n",
        "  elif n == 36:\n",
        "    n,d =  node2LinearSearchO(t)  \n",
        "  elif n == 29:\n",
        "    n,d =  node3LinearSearchO(t)  \n",
        "  elif n == 21:\n",
        "    n,d = node4LinearSearchO(t)\n",
        "  elif n == 6:      \n",
        "    n,d = node5LinearSearch(t)\n",
        "  return n, d   \n",
        "\n",
        "n = 6\n",
        "\n",
        "n,d  = callNode(t,n)   \n",
        "print(n)\n",
        "print(d)"
      ],
      "execution_count": null,
      "outputs": [
        {
          "output_type": "stream",
          "name": "stdout",
          "text": [
            "node 4\n",
            "node 9\n",
            "6\n",
            "[4, 9]\n"
          ]
        }
      ]
    },
    {
      "cell_type": "code",
      "metadata": {
        "colab": {
          "base_uri": "https://localhost:8080/"
        },
        "id": "1u7KzpfFhuCd",
        "outputId": "01426a85-4c14-4e3a-84d8-77b78c0000d6"
      },
      "source": [
        "# esta es la version estable para una busqueda lineal de colector \n",
        "def LinearSearchColector(t):\n",
        "  sortCheck = [45,36,29,21,6]\n",
        "\n",
        "  n = 0\n",
        "  j = 0\n",
        "  nodesvisited = []\n",
        "  for i in sortCheck: \n",
        "    #print(\"j\",j)\n",
        "    nodesvisited.append(i)\n",
        "    tl = sortCheck[j-1]\n",
        "    if (t[45] == 0):\n",
        "      print(\"No Node to call\") \n",
        "      break\n",
        "    if ((t[i] == 0) and (t[tl] == 1)):\n",
        "      n = tl\n",
        "      break\n",
        "    if ((t[i] == 1) and (j == 4)):\n",
        "      n = sortCheck[j]\n",
        "      break\n",
        "      \n",
        "    j = j+1  \n",
        "  #print(t[45])  \n",
        "  #print(\"node to call \", n)\n",
        "  return n, nodesvisited\n",
        "#Revisa el vector de infectados \n",
        "#y listo simple es una busqueda lineal \n",
        "# Esta version ya esta estable\n",
        "\n",
        "t = [0] * 46\n",
        "t[45] = 0\n",
        "t[36] = 0\n",
        "t[29] = 0\n",
        "t[21] = 0\n",
        "t[6] = 1\n",
        "sortCheck = [45,36,29,21,6]\n",
        "n, nodesvisited = LinearSearchColector(t)\n",
        "print(n)\n",
        "print(nodesvisited)"
      ],
      "execution_count": null,
      "outputs": [
        {
          "output_type": "stream",
          "name": "stdout",
          "text": [
            "No Node to call\n",
            "0\n",
            "[45]\n"
          ]
        }
      ]
    },
    {
      "cell_type": "code",
      "metadata": {
        "colab": {
          "base_uri": "https://localhost:8080/"
        },
        "id": "z_R-KneIXXUe",
        "outputId": "9cdabfaa-f7a9-4cf7-e8f8-05bcee3c82ad"
      },
      "source": [
        "'''\n",
        "def BinarySearchColector(t):\n",
        "    \n",
        "  sortCheck = [45,36,29,21,6]\n",
        "  d = []\n",
        "  n = 0\n",
        "\n",
        "  if t[29] == 1:\n",
        "    print(\"node 29\")\n",
        "    d.append(29)\n",
        "    if t[6] == 1:\n",
        "      print(\"node 6\")\n",
        "      d.append(6) \n",
        "      n = 6\n",
        "    elif t[6] == 0:\n",
        "      print(\"node 6\")\n",
        "      d.append(6)\n",
        "      if t[21] == 0:\n",
        "        print(\"node 6\")\n",
        "        d.append(21)\n",
        "        n = 29\n",
        "      elif t[21] ==1:\n",
        "        print(\"node 6\")\n",
        "        d.append(21)\n",
        "        n = 21\n",
        "\n",
        "  elif t[29] == 0:\n",
        "    print(\"node 29\")\n",
        "    d.append(29)\n",
        "    \n",
        "    if t[45] == 0:\n",
        "      print(\"node 45\")\n",
        "      d.append(45)\n",
        "      n = 46\n",
        "    elif t[45] == 1:\n",
        "      print(\"node 45\")\n",
        "      d.append(45)\n",
        "      if t[36] == 0:\n",
        "        print(\"node 36\")\n",
        "        d.append(36) \n",
        "        n = 45\n",
        "      elif t[36] == 1:\n",
        "        print(\"node 36\")\n",
        "        d.append(36)\n",
        "        n = 36   \n",
        "\n",
        "  return n,d\n",
        "\n",
        "\n",
        "t = [0] * 46\n",
        "t[45] = 0\n",
        "t[36] = 0\n",
        "t[29] = 0\n",
        "t[21] = 0\n",
        "t[6] = 0\n",
        "\n",
        "\n",
        "n,d = BinarySearchColector(t)\n",
        "print(n)\n",
        "print(d)      \n",
        "'''"
      ],
      "execution_count": null,
      "outputs": [
        {
          "output_type": "stream",
          "name": "stdout",
          "text": [
            "node 29\n",
            "node 45\n",
            "46\n",
            "[29, 45]\n"
          ]
        }
      ]
    },
    {
      "cell_type": "code",
      "metadata": {
        "colab": {
          "base_uri": "https://localhost:8080/"
        },
        "id": "4zcpAnNifv1d",
        "outputId": "34a42932-6d54-4937-e985-31b9b5af0ea2"
      },
      "source": [
        "#esta ya es una version estable del nodo 1\n",
        "# es la que vamos a usar. \n",
        "#sortCheck = [39,38,43,41]\n",
        "\n",
        "\n",
        "def node1LinearSearch(t):\n",
        "    \n",
        "  sortCheck = [39,38,43,41]\n",
        "\n",
        "  nodesvisited = [] \n",
        "\n",
        "  if t[39] == 0:\n",
        "    print(\"no nodes\")\n",
        "    nodesvisited.append(39)\n",
        "    n = 45\n",
        "\n",
        "  elif t[39] == 1:\n",
        "    print(\"node 39\")\n",
        "    nodesvisited.append(39)\n",
        "    if t[38] == 1:\n",
        "      print(\"node 38\")\n",
        "      nodesvisited.append(38)\n",
        "      n = 38\n",
        "    elif t[38] == 0:\n",
        "      print(\"node 38\")\n",
        "      nodesvisited.append(38)\n",
        "      if t[43] == 1:\n",
        "        print(\"node 43\")\n",
        "        nodesvisited.append(43)\n",
        "        n = 43\n",
        "      elif t[43] == 0:\n",
        "        print(\"node 43\")\n",
        "        nodesvisited.append(43)\n",
        "        n = 39\n",
        "  return n, nodesvisited\n",
        "\n",
        "\n",
        "t= [0] * 46\n",
        "t[39] = 0\n",
        "t[38] = 0\n",
        "t[43] = 0\n",
        "\n",
        "n , nodesvisited = node1LinearSearch(t)\n",
        "print(n)\n",
        "print(nodesvisited)"
      ],
      "execution_count": null,
      "outputs": [
        {
          "output_type": "stream",
          "name": "stdout",
          "text": [
            "no nodes\n",
            "45\n",
            "[39]\n"
          ]
        }
      ]
    },
    {
      "cell_type": "code",
      "metadata": {
        "colab": {
          "base_uri": "https://localhost:8080/"
        },
        "id": "E5eupi0xXnjK",
        "outputId": "0c5ba4b5-081c-4478-9b0e-fe23d32b0592"
      },
      "source": [
        "def node2LinearSearchO(t):\n",
        "  #Esta funcion es busqueda lineal \n",
        "  sortCheck = [36,35,34,33,31,30]\n",
        "  val_l = 36\n",
        "  d = []\n",
        "  n = 0\n",
        "\n",
        "  for val in sortCheck:\n",
        "    if t[val] == 0:\n",
        "      d.append(val)\n",
        "      n = val_l\n",
        "      break\n",
        "    else:\n",
        "      d.append(val)\n",
        "      n = val\n",
        "\n",
        "    val_l = val  \n",
        "\n",
        "  return n,d\n",
        "\n",
        "\n",
        "t= [0] * 46\n",
        "t[30] = 0\n",
        "t[31] = 0\n",
        "t[33] = 0\n",
        "t[34] = 0\n",
        "t[35] = 0\n",
        "t[36] = 1\n",
        "\n",
        "\n",
        "#sortCheck = [13,14,15,16,18,20]\n",
        "n,d =  node2LinearSearchO(t)\n",
        "print(\"n\",n)\n",
        "print(\"d\", d) "
      ],
      "execution_count": null,
      "outputs": [
        {
          "output_type": "stream",
          "name": "stdout",
          "text": [
            "n 36\n",
            "d [36, 35]\n"
          ]
        }
      ]
    },
    {
      "cell_type": "code",
      "metadata": {
        "colab": {
          "base_uri": "https://localhost:8080/"
        },
        "id": "Y3bn35CqXsa7",
        "outputId": "a271dc89-2958-4fcb-cb3b-047681ef6838"
      },
      "source": [
        "def node3LinearSearchO(t):\n",
        "  #Esta funcion es busqueda lineal \n",
        "  sortCheck = [29,28,27,26,24,25]\n",
        "  val_l = 29\n",
        "  d = []\n",
        "  n = 0\n",
        "\n",
        "  for val in sortCheck:\n",
        "    if t[val] == 0:\n",
        "      d.append(val)\n",
        "      n = val_l\n",
        "      break\n",
        "    else:\n",
        "      d.append(val)\n",
        "      n = val\n",
        "\n",
        "    val_l = val  \n",
        "\n",
        "  return n,d\n",
        "\n",
        "\n",
        "t= [0] * 46\n",
        "t[25] = 0\n",
        "t[24] = 0\n",
        "t[26] = 0\n",
        "t[27] = 0\n",
        "t[28] = 0\n",
        "t[29] = 1\n",
        "\n",
        "\n",
        "#sortCheck = [13,14,15,16,18,20]\n",
        "n,d =  node3LinearSearchO(t)\n",
        "print(\"n\",n)\n",
        "print(\"d\", d) "
      ],
      "execution_count": null,
      "outputs": [
        {
          "output_type": "stream",
          "name": "stdout",
          "text": [
            "n 29\n",
            "d [29, 28]\n"
          ]
        }
      ]
    },
    {
      "cell_type": "code",
      "metadata": {
        "colab": {
          "base_uri": "https://localhost:8080/"
        },
        "id": "1fMBouHPXyz1",
        "outputId": "f3c09211-6909-457c-d1c2-06b7555acc8e"
      },
      "source": [
        "def node4LinearSearchO(t):\n",
        "  #Esta funcion es busqueda lineal \n",
        "  sortCheck = [21,20,18,16,15,14,13]\n",
        "  val_l = 20\n",
        "  d = []\n",
        "  n = 0\n",
        "\n",
        "  for val in sortCheck:\n",
        "    if t[val] == 0:\n",
        "      d.append(val)\n",
        "      n = val_l\n",
        "      break\n",
        "    else:\n",
        "      d.append(val)\n",
        "      n = val\n",
        "\n",
        "    val_l = val  \n",
        "\n",
        "  return n,d\n",
        "\n",
        "\n",
        "t= [0] * 46\n",
        "t[13] = 1\n",
        "t[14] = 1\n",
        "t[15] = 1\n",
        "t[16] = 1\n",
        "t[18] = 1\n",
        "t[20] = 1\n",
        "t[21] = 1\n",
        "#sortCheck = [13,14,15,16,18,20]\n",
        "n,d =  node4LinearSearchO(t)\n",
        "print(\"n\",n)\n",
        "print(\"d\", d)"
      ],
      "execution_count": null,
      "outputs": [
        {
          "output_type": "stream",
          "name": "stdout",
          "text": [
            "n 13\n",
            "d [21, 20, 18, 16, 15, 14, 13]\n"
          ]
        }
      ]
    },
    {
      "cell_type": "code",
      "metadata": {
        "colab": {
          "base_uri": "https://localhost:8080/"
        },
        "id": "xyTxUMo9fpu6",
        "outputId": "82744e5a-03c0-4132-c939-2a576e7f2db7"
      },
      "source": [
        "\n",
        "def node5LinearSearch(t):\n",
        "  sortCheck = [4,3,9,5,8,11]\n",
        "\n",
        "\n",
        "  d = []\n",
        "  n = 0\n",
        "\n",
        "  if t[4] == 1:\n",
        "    print(\"Node 4\")\n",
        "    d.append(4)\n",
        "    if t[3] == 1:\n",
        "      print(\"node 3\")\n",
        "      d.append(3)\n",
        "      n=3\n",
        "    elif t[3] == 0:\n",
        "      print(\"node 3\")\n",
        "      d.append(3)\n",
        "      if t[5] == 1:\n",
        "        print(\"node 5\")\n",
        "        d.append(5)\n",
        "        n = 5\n",
        "      elif t[5] == 0:\n",
        "        print(\"node 5\")\n",
        "        d.append(5)\n",
        "        n = 5  \n",
        "  elif t[4] == 0:\n",
        "    print(\"node 4\")\n",
        "    d.append(4)\n",
        "    if t[9] == 0:\n",
        "      print(\"node 9\")\n",
        "      d.append(9)\n",
        "      n = 6\n",
        "    elif t[9] ==1:\n",
        "      print(\"node 9\")\n",
        "      d.append(9)\n",
        "      if t[8] == 1:\n",
        "        print(\"node 8\")\n",
        "        d.append(8)\n",
        "        n = 8\n",
        "      elif t[8] == 0:\n",
        "        if t[11] == 0:\n",
        "          print(\"node 11\")\n",
        "          d.append(11)\n",
        "          n = 9\n",
        "        elif t[11] == 1:\n",
        "          print(\"node 11\")\n",
        "          d.append(11)\n",
        "          n =11\n",
        "  return n,d\n",
        "\n",
        "t= [0] * 46\n",
        "t[4] = 1\n",
        "t[3] = 1\n",
        "t[9] = 0\n",
        "t[5] = 0\n",
        "t[8] = 0\n",
        "t[11] = 0\n",
        "\n",
        "n , d = node5LinearSearch(t)\n",
        "\n",
        "print(n)\n",
        "print(d)           \n",
        "\n",
        "\n"
      ],
      "execution_count": null,
      "outputs": [
        {
          "output_type": "stream",
          "name": "stdout",
          "text": [
            "Node 4\n",
            "node 3\n",
            "3\n",
            "[4, 3]\n"
          ]
        }
      ]
    }
  ]
}