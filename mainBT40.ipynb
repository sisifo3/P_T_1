{
  "nbformat": 4,
  "nbformat_minor": 0,
  "metadata": {
    "colab": {
      "name": "mainBT40.ipynb",
      "provenance": [],
      "authorship_tag": "ABX9TyMKrts57fWpzIv39Yi/Hbil",
      "include_colab_link": true
    },
    "kernelspec": {
      "name": "python3",
      "display_name": "Python 3"
    },
    "language_info": {
      "name": "python"
    }
  },
  "cells": [
    {
      "cell_type": "markdown",
      "metadata": {
        "id": "view-in-github",
        "colab_type": "text"
      },
      "source": [
        "<a href=\"https://colab.research.google.com/github/sisifo3/P_T_1/blob/main/mainBT40.ipynb\" target=\"_parent\"><img src=\"https://colab.research.google.com/assets/colab-badge.svg\" alt=\"Open In Colab\"/></a>"
      ]
    },
    {
      "cell_type": "code",
      "metadata": {
        "colab": {
          "resources": {
            "http://localhost:8080/nbextensions/google.colab/files.js": {
              "data": "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",
              "ok": true,
              "headers": [
                [
                  "content-type",
                  "application/javascript"
                ]
              ],
              "status": 200,
              "status_text": "OK"
            }
          },
          "base_uri": "https://localhost:8080/",
          "height": 165
        },
        "id": "-X_X4WwNwj03",
        "outputId": "971780ec-ef6d-4def-eb40-b6f28a6db185"
      },
      "source": [
        "from google.colab import files\n",
        "files.upload()"
      ],
      "execution_count": 3,
      "outputs": [
        {
          "output_type": "display_data",
          "data": {
            "text/html": [
              "\n",
              "     <input type=\"file\" id=\"files-95721747-f120-43dd-ab69-c299c14fa7f1\" name=\"files[]\" multiple disabled\n",
              "        style=\"border:none\" />\n",
              "     <output id=\"result-95721747-f120-43dd-ab69-c299c14fa7f1\">\n",
              "      Upload widget is only available when the cell has been executed in the\n",
              "      current browser session. Please rerun this cell to enable.\n",
              "      </output>\n",
              "      <script src=\"/nbextensions/google.colab/files.js\"></script> "
            ],
            "text/plain": [
              "<IPython.core.display.HTML object>"
            ]
          },
          "metadata": {}
        },
        {
          "output_type": "stream",
          "name": "stdout",
          "text": [
            "Saving cond_p.py to cond_p.py\n",
            "Saving take_d.py to take_d.py\n"
          ]
        },
        {
          "output_type": "execute_result",
          "data": {
            "text/plain": [
              "{'cond_p.py': b'# -*- coding: utf-8 -*-\\n\"\"\"Cond_p.ipynb\\n\\nAutomatically generated by Colaboratory.\\n\\nOriginal file is located at\\n    https://colab.research.google.com/drive/1M7WpZSh_8_Snm702h4JcBRpuwtN7rFqv\\n\"\"\"\\n\\nfrom google.colab import files\\nimport pandas as pd\\nimport numpy as np\\n\\nimport matplotlib.pyplot as plt\\nimport math\\nimport random\\n\\n\\n\\nm = [[1, 0], \\n      [1], \\n      [1, 2], \\n      [5, 4], \\n      [5], \\n      [5, 6], \\n      [5, 6, 7]]\\n\\n\\n#aqui contamos cuantas veces aparacen \\ndef countF(m,c):\\n  count = []\\n  i = 0\\n  for v in c:\\n    c1 = 0\\n    for n in m:\\n      if v in n:\\n        c1 = c1 + 1 \\n    count.append(c1)     \\n    i = i + 1\\n  return count  \\n\\nc = [1,5]\\nco = countF(m,c)\\nprint(co)\\n\\n\\n\\n#primero necesito saber cuales son los numeros individuales \\n\\ndef WF(m):\\n  o = []\\n  for n in m :\\n    #print(n)\\n    z = n[0]\\n    o.append(z)  \\n  #print(o)\\n  O = list(set(o))\\n  #print(O)\\n  return O\\n\\nc = WF(m)\\nprint(c)\\n\\n\\n\\n\\n\\n#p = El numero de arrays / el numero de arrays en el que aparece.\\n\\ndef PriorProbabilitie(m):\\n  prior = []\\n  l = len(m)\\n  c = WF(m)\\n  co = countF(m,c)\\n  for val in co:\\n    p = val/l\\n    prior.append(p)\\n  return prior  \\n\\n\\n\\nprior = PriorProbabilitie(m)\\nprint(prior)\\n\\n\\n#En esta funcio  calculamos la probabilidad condicional\\n\\ndef BayesTheorem(pa,pb):\\n  pba = .25\\n  #p(a|b) = (P(B|A) * P(A)) / (P(B))\\n  pab = (pba * pa) / pb\\n  return pab\\n\\n\\npa = .4\\npb = .6\\nbt = BayesTheorem(pa,pb)\\nprint(bt)\\n\\n\\ndef Conditionalprobability(m):\\n  prior = PriorProbabilitie(m)\\n  pa = prior[0]\\n  pb = prior[1]\\n\\n  ba = BayesTheorem(pa,pb)\\n  bb = BayesTheorem(pb,pa)\\n\\n  return ba, bb\\n\\n\\n\\n\\n\\ncpa, cpb  = Conditionalprobability(m)\\nprint(cpa,cpb)',\n",
              " 'take_d.py': b'# -*- coding: utf-8 -*-\\n\"\"\"take_d.ipynb\\n\\nAutomatically generated by Colaboratory.\\n\\nOriginal file is located at\\n    https://colab.research.google.com/drive/1YWo7OjMYmExlGe4nlZpHJatx0arx8FCt\\n\"\"\"\\n\\nfrom google.colab import files\\nimport pandas as pd\\nimport numpy as np\\n\\nimport matplotlib.pyplot as plt\\nimport math\\nimport random\\n\\n\\nm = [[8, 3, 1, 0], \\n      [8, 3, 1], \\n      [8, 3, 1, 2], \\n      [8, 3], \\n      [8, 3, 5, 4], \\n      [8, 3, 5], \\n      [8, 3, 5, 6], \\n      [8, 3, 5, 6, 7], \\n      [8], \\n      [8, 13, 10, 9], \\n      [8, 13, 10], \\n      [8, 13, 10, 11], \\n      [8, 13, 10, 11, 12], \\n      [8, 13], \\n      [8, 13, 15, 14], \\n      [8, 13, 15], \\n      [8, 13, 15, 16], \\n      [8, 13, 15, 16, 17]]\\nprint(m)\\n\\n\\n\\n# En esta funcion extraemos los posibles siguientes nodos\\ndef OnlyValues(m):\\n  z = []\\n  for n in m:\\n    r =  n[0]\\n    z.append(r) \\n#  print(z)  \\n  Z = list(set(z))\\n  return Z\\n#  print(Z)\\n\\nZ = OnlyValues(m)\\nprint(Z)\\n\\n\\n#eliminar los arrays que ya son zero\\n\\ndef DeletedNodes(m,z):\\n  x = []\\n  for n in m:\\n    #print(n)\\n    if z in n:\\n      x.append(n)\\n      #print(n)\\n  return x\\n\\nz = 3\\nX = DeletedNodes(m,z)\\nprint(X)\\n\\n\\n#Eliminar el nodo que testeamos\\ndef DeletedNode(m,z):\\n  M = []\\n  for n in m:\\n    x = []\\n    for y in n:\\n      #print(y)\\n      if y != z:\\n        x.append(y)\\n    #print(x)\\n    M.append(x)\\n\\n  lM = [x for x in M if x != []]  \\n  return lM    \\n\\nz = 8\\nM = DeletedNode(m,z)\\nprint(M)\\n\\n\\n\\n\\ndef rand_n(n):\\n  a = [0] * n\\n  r = n - 1\\n  t = random.randint(0,r)  \\n  a[t] = 1\\n  return a\\n\\nn = 7\\na = rand_n(n)\\nprint(a)'}"
            ]
          },
          "metadata": {},
          "execution_count": 3
        }
      ]
    },
    {
      "cell_type": "code",
      "metadata": {
        "colab": {
          "base_uri": "https://localhost:8080/"
        },
        "id": "AExcNNLew63_",
        "outputId": "fae4c6ec-7587-4f43-a663-10b29976f32a"
      },
      "source": [
        "import pandas as pd\n",
        "import numpy as np\n",
        "\n",
        "import matplotlib.pyplot as plt\n",
        "import math\n",
        "import random\n",
        "import cond_p\n",
        "import take_d"
      ],
      "execution_count": 4,
      "outputs": [
        {
          "output_type": "stream",
          "name": "stdout",
          "text": [
            "[3, 4]\n",
            "[1, 5]\n",
            "[0.42857142857142855, 0.5714285714285714]\n",
            "0.16666666666666669\n",
            "0.1875 0.3333333333333333\n",
            "[[8, 3, 1, 0], [8, 3, 1], [8, 3, 1, 2], [8, 3], [8, 3, 5, 4], [8, 3, 5], [8, 3, 5, 6], [8, 3, 5, 6, 7], [8], [8, 13, 10, 9], [8, 13, 10], [8, 13, 10, 11], [8, 13, 10, 11, 12], [8, 13], [8, 13, 15, 14], [8, 13, 15], [8, 13, 15, 16], [8, 13, 15, 16, 17]]\n",
            "[8]\n",
            "[[8, 3, 1, 0], [8, 3, 1], [8, 3, 1, 2], [8, 3], [8, 3, 5, 4], [8, 3, 5], [8, 3, 5, 6], [8, 3, 5, 6, 7]]\n",
            "[[3, 1, 0], [3, 1], [3, 1, 2], [3], [3, 5, 4], [3, 5], [3, 5, 6], [3, 5, 6, 7], [13, 10, 9], [13, 10], [13, 10, 11], [13, 10, 11, 12], [13], [13, 15, 14], [13, 15], [13, 15, 16], [13, 15, 16, 17]]\n",
            "[0, 0, 0, 1, 0, 0, 0]\n"
          ]
        }
      ]
    },
    {
      "cell_type": "code",
      "metadata": {
        "id": "1mRTXLfCxG5N"
      },
      "source": [
        "m = [[19, 9, 4, 1, 0],\n",
        "[19, 9, 4, 1],\n",
        "[19, 9, 4, 1, 2],\n",
        "[19, 9, 4, 1, 2, 3],\n",
        "[19, 9, 4],\n",
        "[19, 9, 4, 6, 5],\n",
        "[19, 9, 4, 6],\n",
        "[19, 9, 4, 6, 7],\n",
        "[19, 9, 4, 6, 7, 8],\n",
        "[19, 9],\n",
        "[19, 9, 14, 11, 10],\n",
        "[19, 9, 14, 11],\n",
        "[19, 9, 14, 11, 12],\n",
        "[19, 9, 14, 11, 12, 13],\n",
        "[19, 9, 14],\n",
        "[19, 9, 14, 16, 15],\n",
        "[19, 9, 14, 16],\n",
        "[19, 9, 14, 16, 17],\n",
        "[19, 9, 14, 16, 17, 18],\n",
        "[19],\n",
        "[19, 29, 24, 21, 20],\n",
        "[19, 29, 24, 21],\n",
        "[19, 29, 24, 21, 22],\n",
        "[19, 29, 24, 21, 22, 23],\n",
        "[19, 29, 24],\n",
        "[19, 29, 24, 26, 25],\n",
        "[19, 29, 24, 26],\n",
        "[19, 29, 24, 26, 27],\n",
        "[19, 29, 24, 26, 27, 28],\n",
        "[19, 29],\n",
        "[19, 29, 34, 31, 30],\n",
        "[19, 29, 34, 31],\n",
        "[19, 29, 34, 31, 32],\n",
        "[19, 29, 34, 31, 32, 33],\n",
        "[19, 29, 34],\n",
        "[19, 29, 34, 37, 35],\n",
        "[19, 29, 34, 37, 35, 36],\n",
        "[19, 29, 34, 37],\n",
        "[19, 29, 34, 37, 38],\n",
        "[19, 29, 34, 37, 38, 39]]"
      ],
      "execution_count": 5,
      "outputs": []
    },
    {
      "cell_type": "code",
      "metadata": {
        "colab": {
          "base_uri": "https://localhost:8080/"
        },
        "id": "8aK1AYvVxdnX",
        "outputId": "94aefef2-2d64-4d8d-d2dc-729aec357259"
      },
      "source": [
        "\n",
        "M = m\n",
        "a = take_d.OnlyValues(M)\n",
        "n = 1\n",
        "\n",
        "while (n != 0):\n",
        "  n = len(a)\n",
        "  #print(a)\n",
        "  b = take_d.rand_n(n)\n",
        "  print(M)\n",
        "  if n > 1:\n",
        "    cpa, cpb  = cond_p.Conditionalprobability(M)\n",
        "    a = OrderDecisions(cpa,cpb,a)\n",
        "    #print(cpa,cpb)\n",
        "    #print(a)\n",
        "  for i in range(n):\n",
        "    c = b[i]\n",
        "    d = a[i]\n",
        "    X = M\n",
        "    if c != 0:\n",
        "      X = take_d.DeletedNodes(M,d)\n",
        "    M = take_d.DeletedNode(X,d)\n",
        "  a = take_d.OnlyValues(M)\n",
        "  n = len(a)\n",
        "\n",
        "\n",
        "  \n",
        "\n"
      ],
      "execution_count": 7,
      "outputs": [
        {
          "output_type": "stream",
          "name": "stdout",
          "text": [
            "[[19, 9, 4, 1, 0], [19, 9, 4, 1], [19, 9, 4, 1, 2], [19, 9, 4, 1, 2, 3], [19, 9, 4], [19, 9, 4, 6, 5], [19, 9, 4, 6], [19, 9, 4, 6, 7], [19, 9, 4, 6, 7, 8], [19, 9], [19, 9, 14, 11, 10], [19, 9, 14, 11], [19, 9, 14, 11, 12], [19, 9, 14, 11, 12, 13], [19, 9, 14], [19, 9, 14, 16, 15], [19, 9, 14, 16], [19, 9, 14, 16, 17], [19, 9, 14, 16, 17, 18], [19], [19, 29, 24, 21, 20], [19, 29, 24, 21], [19, 29, 24, 21, 22], [19, 29, 24, 21, 22, 23], [19, 29, 24], [19, 29, 24, 26, 25], [19, 29, 24, 26], [19, 29, 24, 26, 27], [19, 29, 24, 26, 27, 28], [19, 29], [19, 29, 34, 31, 30], [19, 29, 34, 31], [19, 29, 34, 31, 32], [19, 29, 34, 31, 32, 33], [19, 29, 34], [19, 29, 34, 37, 35], [19, 29, 34, 37, 35, 36], [19, 29, 34, 37], [19, 29, 34, 37, 38], [19, 29, 34, 37, 38, 39]]\n",
            "[[9, 4, 1, 0], [9, 4, 1], [9, 4, 1, 2], [9, 4, 1, 2, 3], [9, 4], [9, 4, 6, 5], [9, 4, 6], [9, 4, 6, 7], [9, 4, 6, 7, 8], [9], [9, 14, 11, 10], [9, 14, 11], [9, 14, 11, 12], [9, 14, 11, 12, 13], [9, 14], [9, 14, 16, 15], [9, 14, 16], [9, 14, 16, 17], [9, 14, 16, 17, 18], [29, 24, 21, 20], [29, 24, 21], [29, 24, 21, 22], [29, 24, 21, 22, 23], [29, 24], [29, 24, 26, 25], [29, 24, 26], [29, 24, 26, 27], [29, 24, 26, 27, 28], [29], [29, 34, 31, 30], [29, 34, 31], [29, 34, 31, 32], [29, 34, 31, 32, 33], [29, 34], [29, 34, 37, 35], [29, 34, 37, 35, 36], [29, 34, 37], [29, 34, 37, 38], [29, 34, 37, 38, 39]]\n",
            "[0.23750000000000002, 0.2631578947368421]\n",
            "[9, 29]\n",
            "[[24, 21, 20], [24, 21], [24, 21, 22], [24, 21, 22, 23], [24], [24, 26, 25], [24, 26], [24, 26, 27], [24, 26, 27, 28], [34, 31, 30], [34, 31], [34, 31, 32], [34, 31, 32, 33], [34], [34, 37, 35], [34, 37, 35, 36], [34, 37], [34, 37, 38], [34, 37, 38, 39]]\n",
            "[0.225, 0.2777777777777778]\n",
            "[24, 34]\n",
            "[[31, 30], [31], [31, 32], [31, 32, 33], [37, 35], [37, 35, 36], [37], [37, 38], [37, 38, 39]]\n",
            "[0.31250000000000006, 0.19999999999999998]\n",
            "[37, 31]\n",
            "[[30], [32], [32, 33]]\n",
            "[0.5, 0.125]\n",
            "[32, 30]\n",
            "[[33]]\n"
          ]
        }
      ]
    },
    {
      "cell_type": "code",
      "metadata": {
        "colab": {
          "base_uri": "https://localhost:8080/"
        },
        "id": "486NZ3xLxeM5",
        "outputId": "660ae9a1-dba3-48f4-a540-f985e5bb271c"
      },
      "source": [
        "def OrderDecisions(cpa,cpb,a):\n",
        "  l = []\n",
        "  c = [0]*2\n",
        "  b = [0]*2\n",
        "  b[0] = cpa\n",
        "  b[1] = cpb\n",
        "  print(b)\n",
        "  print(a)\n",
        "  #l.append(b)\n",
        "  #l.append(a)\n",
        "  #c = a\n",
        "  #print(l)\n",
        "  if b[1] > b[0]:\n",
        "    c[0] = a[1]\n",
        "    c[1] = a[0]\n",
        "  else:\n",
        "    c = a   \n",
        "  #l.sort(key = lambda row: row[0])\n",
        "  #print(l)\n",
        "  return c\n",
        "\n",
        "\n",
        "\n",
        "\n",
        "\n",
        "a = [13,3]\n",
        "cpa = 0.2222222222222222 \n",
        "cpb = 0.28125\n",
        "c = OrderDecisions(cpa,cpb,a)\n",
        "print(c)"
      ],
      "execution_count": 6,
      "outputs": [
        {
          "output_type": "stream",
          "name": "stdout",
          "text": [
            "[0.2222222222222222, 0.28125]\n",
            "[13, 3]\n",
            "[3, 13]\n"
          ]
        }
      ]
    }
  ]
}