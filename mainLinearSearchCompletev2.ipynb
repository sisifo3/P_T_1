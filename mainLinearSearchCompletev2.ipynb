{
  "nbformat": 4,
  "nbformat_minor": 0,
  "metadata": {
    "colab": {
      "name": "mainLinearSearchCompletev2.ipynb",
      "provenance": [],
      "authorship_tag": "ABX9TyPTIIWqwzJy3NRqnqPBLTLr",
      "include_colab_link": true
    },
    "kernelspec": {
      "name": "python3",
      "display_name": "Python 3"
    },
    "language_info": {
      "name": "python"
    }
  },
  "cells": [
    {
      "cell_type": "markdown",
      "metadata": {
        "id": "view-in-github",
        "colab_type": "text"
      },
      "source": [
        "<a href=\"https://colab.research.google.com/github/sisifo3/P_T_1/blob/main/mainLinearSearchCompletev2.ipynb\" target=\"_parent\"><img src=\"https://colab.research.google.com/assets/colab-badge.svg\" alt=\"Open In Colab\"/></a>"
      ]
    },
    {
      "cell_type": "code",
      "metadata": {
        "id": "v4wLoheYEdWq"
      },
      "source": [
        "import math"
      ],
      "execution_count": 106,
      "outputs": []
    },
    {
      "cell_type": "code",
      "metadata": {
        "colab": {
          "base_uri": "https://localhost:8080/"
        },
        "id": "PK7-fp8aEZ4h",
        "outputId": "2e89d26d-4332-4135-ac55-fe71ab9c01a6"
      },
      "source": [
        "t = [0] * 46\n",
        "t[45] = 0\n",
        "t[36] = 0\n",
        "t[29] = 0\n",
        "t[21] = 0\n",
        "t[6] = 0\n",
        "\n",
        "N = []\n",
        "D = []\n",
        "\n",
        "n, d = LinearSearchColectorv2(t)\n",
        "N.append(n)\n",
        "D.append(d)\n",
        "nt,dt = callNodesLinearSearchv2(n)\n",
        "N.append(nt)\n",
        "D.append(dt)\n",
        "print(\"n\",n)\n",
        "print(\"d\",d)\n",
        "print(\"nt\",nt)\n",
        "print(\"dt\", dt)\n",
        "print(\"N <- \", N)\n",
        "print(\"D <- \", D)"
      ],
      "execution_count": 18,
      "outputs": [
        {
          "output_type": "stream",
          "name": "stdout",
          "text": [
            "node 4\n",
            "node 9\n",
            "n [6]\n",
            "d [45, 36, 29, 21, 6]\n",
            "nt [0]\n",
            "dt [[4, 9]]\n",
            "N <-  [[6], [0]]\n",
            "D <-  [[45, 36, 29, 21, 6], [[4, 9]]]\n"
          ]
        }
      ]
    },
    {
      "cell_type": "code",
      "metadata": {
        "colab": {
          "base_uri": "https://localhost:8080/"
        },
        "id": "otajmax6s4jD",
        "outputId": "1a73b82e-c145-414a-a5e1-f69963f9d106"
      },
      "source": [
        "# esta es la version estable para una busqueda lineal de colector \n",
        "def LinearSearchColectorv2(t):\n",
        "  A = [45,36,29,21,6]\n",
        "  n = []\n",
        "  d = []\n",
        "  a = 45\n",
        "  for i in A: \n",
        "    d.append(i)\n",
        "    if (t[i] == 1):\n",
        "      n.append(i)\n",
        "   # if (i == 6 and t[i] == 1):\n",
        "   #   n.append(i)\n",
        "    a = i    \n",
        "  return n, d\n",
        "#Revisa el vector de infectados \n",
        "#y listo simple es una busqueda lineal \n",
        "# Esta version ya esta estable\n",
        "\n",
        "t = [0] * 46\n",
        "t[45] = 0\n",
        "t[36] = 0\n",
        "t[29] = 1\n",
        "t[21] = 0\n",
        "t[6] = 0\n",
        "n, d = LinearSearchColectorv2(t)\n",
        "print(\"n\",n)\n",
        "print(\"d\",d)"
      ],
      "execution_count": 15,
      "outputs": [
        {
          "output_type": "stream",
          "name": "stdout",
          "text": [
            "n [29]\n",
            "d [45, 36, 29, 21, 6]\n"
          ]
        }
      ]
    },
    {
      "cell_type": "code",
      "metadata": {
        "colab": {
          "base_uri": "https://localhost:8080/"
        },
        "id": "gn_QdDmWDCrc",
        "outputId": "a4606b67-f592-4d90-eadf-7d5172390c21"
      },
      "source": [
        "#esta ya es una version estable del nodo 1\n",
        "# es la que vamos a usar. \n",
        "#sortCheck = [39,38,43,41]\n",
        "\n",
        "\n",
        "def node1LinearSearchCompletev2(t):\n",
        "    \n",
        "  A = [39,38,37,43,41,40,42,44]\n",
        "  n = []\n",
        "  d = [] \n",
        "\n",
        "  if t[39] == 0:\n",
        "    d.append(39)\n",
        "    n = 0\n",
        "  elif t[39] == 1:\n",
        "    d.append(39)\n",
        "\n",
        "\n",
        "    if t[38] == 1:\n",
        "      print(\"node 38\")\n",
        "      d.append(38)\n",
        "      n = 38\n",
        "      if t[37] == 1:\n",
        "        d.append(37)\n",
        "        n = 37\n",
        "      elif t[37] == 0:\n",
        "        d.append(37)\n",
        "        n = 38  \n",
        "    elif t[38] == 0:\n",
        "      print(\"node 38\")\n",
        "      d.append(38)\n",
        "      if t[43] == 1:\n",
        "        print(\"node 43\")\n",
        "        d.append(43)\n",
        "        n = 43\n",
        "        if t[44] == 1:\n",
        "          d.append(44)\n",
        "          n = 44\n",
        "        elif t[44] == 0:\n",
        "          d.append(44)\n",
        "          n = 43\n",
        "          if t[41] == 0:\n",
        "            d.append(41)\n",
        "            n = 43\n",
        "          elif t[41] == 1:\n",
        "            d.append(41)\n",
        "            n = 41\n",
        "            if t[40] == 1:\n",
        "              d.append(40)\n",
        "              n = 40\n",
        "            elif t[40] == 0:\n",
        "              d.append(40)\n",
        "              if t[42] == 0:\n",
        "                d.append(42)\n",
        "                n = 41\n",
        "              elif t[42] == 1:\n",
        "                d.append(42)\n",
        "                n = 42\n",
        "        elif t[43] == 0:\n",
        "          print(\"node 43\")\n",
        "          d.append(43)\n",
        "          n = 39\n",
        "  return n, d\n",
        "\n",
        "\n",
        "t= [0] * 46\n",
        "t[39] = 1\n",
        "t[38] = 0\n",
        "t[37] = 0\n",
        "t[43] = 1\n",
        "t[44] = 0\n",
        "t[41] = 1\n",
        "t[40] = 0\n",
        "t[42] = 0\n",
        "\n",
        "\n",
        "\n",
        "n ,d = node1LinearSearchCompletev2(t)\n",
        "print(n)\n",
        "print(d)"
      ],
      "execution_count": 14,
      "outputs": [
        {
          "output_type": "stream",
          "name": "stdout",
          "text": [
            "node 38\n",
            "node 43\n",
            "41\n",
            "[39, 38, 43, 44, 41, 40, 42]\n"
          ]
        }
      ]
    },
    {
      "cell_type": "code",
      "metadata": {
        "colab": {
          "base_uri": "https://localhost:8080/"
        },
        "id": "QVFo1V38_sGX",
        "outputId": "d7897c75-1719-426d-f644-35d4bb424478"
      },
      "source": [
        "#Esta es la funcion estab;e de busqueda lineal en el nodo 2\n",
        "#Toma en consideracion todos los posibles nodos.\n",
        "\n",
        "def node2LinearSearchCompletev2(t):\n",
        "  #Esta funcion es busqueda lineal \n",
        "  A = [35,34,33,31,30,32]\n",
        "  d = []\n",
        "  n = []\n",
        "  if t[35] == 0:\n",
        "    d.append(35)\n",
        "    n =  0\n",
        "  elif t[35] == 1:\n",
        "    d.append(35)  \n",
        "    if t[34] == 0:\n",
        "      d.append(34)\n",
        "      n = 35\n",
        "    elif t[34] == 1:\n",
        "      d.append(34)\n",
        "      n = 34\n",
        "      if t[33] == 1:\n",
        "        d.append(33)\n",
        "        if t[31] == 1:\n",
        "          d.append(31)\n",
        "          n = 31\n",
        "          if t[30] == 1:\n",
        "            d.append(30)\n",
        "            n = 30\n",
        "          elif t[30] == 0:\n",
        "            d.append(30)\n",
        "            if t[32] == 1:\n",
        "              d.append(32)\n",
        "              n = 32\n",
        "            elif t[32] == 0:\n",
        "              d.append(32)\n",
        "              n = 31     \n",
        "\n",
        "        elif t[31] == 0:\n",
        "          d.append(31)\n",
        "          n = 33  \n",
        "      elif t[33] == 0:\n",
        "        d.append(33)\n",
        "        n = 34  \n",
        "\n",
        "    \n",
        "  return n,d\n",
        "\n",
        "\n",
        "t= [0] * 46\n",
        "t[32] = 0\n",
        "t[30] = 0\n",
        "t[31] = 0\n",
        "t[33] = 0\n",
        "t[34] = 0\n",
        "t[35] = 0\n",
        "t[36] = 0\n",
        "\n",
        "\n",
        "#sortCheck = [13,14,15,16,18,20]\n",
        "n,d =  node2LinearSearchCompletev2(t)\n",
        "print(\"n\",n)\n",
        "print(\"d\", d)   "
      ],
      "execution_count": 13,
      "outputs": [
        {
          "output_type": "stream",
          "name": "stdout",
          "text": [
            "n 0\n",
            "d [35]\n"
          ]
        }
      ]
    },
    {
      "cell_type": "code",
      "metadata": {
        "colab": {
          "base_uri": "https://localhost:8080/"
        },
        "id": "a6wP6kaY25p1",
        "outputId": "98355a0b-e654-4bbf-aaf1-b757443efc18"
      },
      "source": [
        "#Esta Funcion ya esta estable funciona para todos los nodos \n",
        "\n",
        "def node3LinearSearchCompletev2(t):\n",
        "  #Esta funcion es busqueda lineal \n",
        "  sortCheck = [28,27,26,24,23,22,25]\n",
        "  d = []\n",
        "  n = []\n",
        "\n",
        "  if t[28] == 0:\n",
        "    d.append(28)\n",
        "    n = 0\n",
        "  elif t[28] ==1:\n",
        "    d.append(28)\n",
        "    if t[27] == 0:\n",
        "      d.append(27)\n",
        "      n = 28\n",
        "    elif t[27] == 1:\n",
        "      d.append(27)\n",
        "      if t[26] == 0:\n",
        "        d.append(26)\n",
        "        n = 27\n",
        "      elif t[26] == 1:\n",
        "        d.append(26)\n",
        "        if t[24] == 0:\n",
        "          d.append(24)\n",
        "          n = 26\n",
        "        elif t[24] == 1:\n",
        "          d.append(24)\n",
        "          if t[23] == 0 and t[25] == 0:\n",
        "            d.append(25)\n",
        "            d.append(23)\n",
        "            n = 24\n",
        "          elif t[25] == 1:\n",
        "            d.append(25)\n",
        "            n = 25\n",
        "          elif t[23] == 1:\n",
        "            d.append(25)\n",
        "            d.append(23)\n",
        "            if t[22] ==0 :\n",
        "              d.append(22)\n",
        "              n = 23\n",
        "            elif t[22] == 1:\n",
        "              d.append(22)\n",
        "              n = 22\n",
        "\n",
        "  return n,d\n",
        "\n",
        "\n",
        "t= [0] * 46\n",
        "t[22] = 1\n",
        "t[23] = 1\n",
        "t[25] = 0\n",
        "t[24] = 1\n",
        "t[26] = 1\n",
        "t[27] = 1\n",
        "t[28] = 1\n",
        "t[29] = 1\n",
        "\n",
        "\n",
        "#sortCheck = [13,14,15,16,18,20]\n",
        "n,d =  node3LinearSearchCompletev2(t)\n",
        "print(\"n\",n)\n",
        "print(\"d\", d) "
      ],
      "execution_count": 12,
      "outputs": [
        {
          "output_type": "stream",
          "name": "stdout",
          "text": [
            "n 22\n",
            "d [28, 27, 26, 24, 25, 23, 22]\n"
          ]
        }
      ]
    },
    {
      "cell_type": "code",
      "metadata": {
        "colab": {
          "base_uri": "https://localhost:8080/"
        },
        "id": "7lYG9Gph1J_Y",
        "outputId": "159d7bbf-c43a-46c4-b210-2850e583f333"
      },
      "source": [
        "#Funcion establede una busqueda lineal Que hace uso de todos los nodos.\n",
        "\n",
        "def node4LinearSearchCompletev2(t):\n",
        "  #Esta funcion es busqueda lineal \n",
        "  A = [18,19,16,17,15,14,13]\n",
        "  d = []\n",
        "  n = []\n",
        "\n",
        "  if t[20] == 0:\n",
        "    d.append(20)\n",
        "    n = 0\n",
        "  elif t[20] == 1:\n",
        "    d.append(20)\n",
        "   \n",
        "    if t[18] == 0:\n",
        "      d.append(18)\n",
        "      n= 20\n",
        "    elif t[18] == 1:\n",
        "      d.append(18)\n",
        "      if t[19] == 0 and t[16] == 0:\n",
        "        d.append(19)\n",
        "        d.append(16)\n",
        "        n = 18\n",
        "      elif t[19] == 1:\n",
        "        d.append(19)\n",
        "        n = 19\n",
        "      elif t[16] == 1:\n",
        "        d.append(19)\n",
        "        d.append(16)\n",
        "        if t[17] == 0 and t[15] == 0:\n",
        "          d.append(17)\n",
        "          d.append(15)\n",
        "          n = 16\n",
        "        elif t[17] == 1:\n",
        "          d.append(17)\n",
        "          n = 17\n",
        "        elif t[15] == 1:\n",
        "          d.append(17)\n",
        "          d.append(15)\n",
        "          if t[14] == 0:\n",
        "            d.append(14)\n",
        "            n = 15\n",
        "          elif t[14] == 1:\n",
        "            d.append(14)\n",
        "            if t[13] == 0:\n",
        "              d.append(13)\n",
        "              n = 14\n",
        "            elif t[13] == 1:\n",
        "              d.append(13)\n",
        "              n = 13\n",
        "\n",
        "\n",
        "\n",
        "  return n,d\n",
        "\n",
        "\n",
        "t= [0] * 46\n",
        "t[13] = 1\n",
        "t[14] = 1\n",
        "t[15] = 1\n",
        "t[17] = 0\n",
        "t[19] = 0\n",
        "t[16] = 1\n",
        "t[18] = 1\n",
        "t[20] = 1\n",
        "t[21] = 1\n",
        "#sortCheck = [13,14,15,16,18,20]\n",
        "n,d =  node4LinearSearchCompletev2(t)\n",
        "print(\"n\",n)\n",
        "print(\"d\", d)"
      ],
      "execution_count": 11,
      "outputs": [
        {
          "output_type": "stream",
          "name": "stdout",
          "text": [
            "n 13\n",
            "d [20, 18, 19, 16, 17, 15, 14, 13]\n"
          ]
        }
      ]
    },
    {
      "cell_type": "code",
      "metadata": {
        "colab": {
          "base_uri": "https://localhost:8080/"
        },
        "id": "dro23JxPyfEZ",
        "outputId": "80d8fb3b-8498-4289-97a7-6988f1d3df13"
      },
      "source": [
        "def node5LinearSearchv2(t):\n",
        "  #Esta funcion es busqueda lineal \n",
        "  sortCheck = [6,4,9]\n",
        "  val_l = sortCheck[0]\n",
        "  d = []\n",
        "  n = 0\n",
        "  if t[4] == 0:\n",
        "    print(\"node 4\")\n",
        "    d.append(4)\n",
        "    if t[9] == 0:\n",
        "      print(\"node 9\")\n",
        "      d.append(9)\n",
        "      n = 0\n",
        "    elif t[9] ==1:\n",
        "      print(\"node 9\")\n",
        "      d.append(9)\n",
        "      n,dB =  node5BLinearSearchCompletev2(t)\n",
        "      d.append(dB)\n",
        "  elif t[4] == 1:\n",
        "    d.append(4)\n",
        "    n,dA =  node5ALinearSearchCompletev2(t)\n",
        "    d.append(dA) \n",
        "\n",
        "  \n",
        "  return n,d\n",
        "\n",
        "\n",
        "t= [0] * 46\n",
        "t[12] = 0\n",
        "t[11] = 0\n",
        "t[10] = 0\n",
        "t[9] = 0\n",
        "t[8] = 0\n",
        "t[7] = 0\n",
        "t[1] = 1\n",
        "t[2] = 1\n",
        "t[3] = 1\n",
        "t[5] = 0\n",
        "t[4] = 1\n",
        "t[6] = 1\n",
        "#sortCheck = [13,14,15,16,18,20]\n",
        "n,d =  node5LinearSearchv2(t)\n",
        "print(\"n\",n)\n",
        "print(\"d\", d)\n",
        "\n"
      ],
      "execution_count": 10,
      "outputs": [
        {
          "output_type": "stream",
          "name": "stdout",
          "text": [
            "n 1\n",
            "d [4, [5, 3, 2, 1]]\n"
          ]
        }
      ]
    },
    {
      "cell_type": "code",
      "metadata": {
        "colab": {
          "base_uri": "https://localhost:8080/"
        },
        "id": "cr9fNj9FxQcH",
        "outputId": "a2a470cd-1891-4fd2-88df-5ccc859f2e45"
      },
      "source": [
        "def node5BLinearSearchCompletev2(t):\n",
        "  d = []\n",
        "  n = []\n",
        "  if t[11] == 0 and t[8] == 0:\n",
        "    d.append(11)\n",
        "    d.append(8)\n",
        "    n = 0\n",
        "  elif t[8] == 1:\n",
        "    d.append(8)\n",
        "    if t[7] == 0:\n",
        "      d.append(7)\n",
        "      n = 8\n",
        "    elif t[7] == 1:\n",
        "      d.append(7)\n",
        "      n = 7\n",
        "  elif t[11] == 1:\n",
        "    d.append(8)\n",
        "    d.append(11)\n",
        "    if t[10] == 0 and t[12] == 0:\n",
        "      d.append(10)\n",
        "      d.append(12)\n",
        "      n = 11\n",
        "    elif t[10] == 1:\n",
        "      d.append(10)\n",
        "      n = 10\n",
        "    elif t[12] ==1:\n",
        "      d.append(10)\n",
        "      d.append(12)\n",
        "      n = 12          \n",
        "    \n",
        "  return n,d\n",
        "\n",
        "\n",
        "t= [0] * 46\n",
        "t[12] = 1\n",
        "t[10] = 0\n",
        "t[11] = 1\n",
        "t[7] = 0\n",
        "t[8] = 0\n",
        "t[6] = 1\n",
        "#sortCheck = [13,14,15,16,18,20]\n",
        "n,d =  node5BLinearSearchCompletev2(t)\n",
        "print(\"n\",n)\n",
        "print(\"d\", d)    \n",
        "\n",
        "\n"
      ],
      "execution_count": 9,
      "outputs": [
        {
          "output_type": "stream",
          "name": "stdout",
          "text": [
            "n 12\n",
            "d [8, 11, 10, 12]\n"
          ]
        }
      ]
    },
    {
      "cell_type": "code",
      "metadata": {
        "colab": {
          "base_uri": "https://localhost:8080/"
        },
        "id": "BqvToRwdxTN0",
        "outputId": "59f4c4dd-f2bd-41f4-b32c-868778c8a8c0"
      },
      "source": [
        "def node5ALinearSearchCompletev2(t):\n",
        "  d = []\n",
        "  n = []\n",
        "  if t[5] == 0 and t[3] == 0:\n",
        "    d.append(5)\n",
        "    d.append(3)\n",
        "    n = 0\n",
        "  elif t[5] == 1:\n",
        "    d.append(5)\n",
        "    n = 5\n",
        "  elif t[3] == 1:\n",
        "    d.append(5)\n",
        "    d.append(3)\n",
        "    if t[2] == 0:\n",
        "      d.append(2)\n",
        "      n = 3\n",
        "    elif t[2] == 1:\n",
        "      d.append(2)\n",
        "      if t[1] == 0:\n",
        "        d.append(1)\n",
        "        n = 2\n",
        "      elif t[1] == 1:\n",
        "        d.append(1)\n",
        "        n = 1\n",
        "  return n,d\n",
        "\n",
        "\n",
        "t= [0] * 46\n",
        "t[1] = 1\n",
        "t[2] = 1\n",
        "t[3] = 1\n",
        "t[5] = 0\n",
        "t[4] = 1\n",
        "t[6] = 1\n",
        "#sortCheck = [13,14,15,16,18,20]\n",
        "n,d =  node5ALinearSearchCompletev2(t)\n",
        "print(\"n\",n)\n",
        "print(\"d\", d)    \n",
        "\n",
        "\n"
      ],
      "execution_count": 8,
      "outputs": [
        {
          "output_type": "stream",
          "name": "stdout",
          "text": [
            "n 1\n",
            "d [5, 3, 2, 1]\n"
          ]
        }
      ]
    },
    {
      "cell_type": "code",
      "metadata": {
        "id": "OcYnJe70Ictd"
      },
      "source": [
        "'''\n",
        "def Node12345LinearSearch():\n",
        "  A = [38,37,43,41,40,42,44,34,33,31,32,30,27,26,24,23,22,25,18,19,16,17,15,14,13,5,3,2,1,8,7,11,10,12]\n",
        "  n = []\n",
        "  d = []\n",
        "  for i in A:\n",
        "    d.append(i)\n",
        "    if t[i] == 1:\n",
        "      n.append(i)\n",
        "  return n,d\n",
        "'''"
      ],
      "execution_count": 109,
      "outputs": []
    },
    {
      "cell_type": "code",
      "metadata": {
        "id": "Xa_6IvEZw2HE"
      },
      "source": [
        "def callNodesLinearSearchv2(n):\n",
        "  nt = []\n",
        "  dt = []\n",
        "  if 45 in n:\n",
        "    n1 ,d1 = node1LinearSearchCompletev2(t)\n",
        "    nt.append(n1)\n",
        "    dt.append(d1)\n",
        "  if 36 in n:\n",
        "    n2,d2 =  node2LinearSearchCompletev2(t)\n",
        "    nt.append(n2)\n",
        "    dt.append(d2)\n",
        "  if 29 in n:\n",
        "    n3,d3 =  node3LinearSearchCompletev2(t)\n",
        "    nt.append(n3)\n",
        "    dt.append(d3)    \n",
        "  if 21 in n:\n",
        "    n4,d4 =  node4LinearSearchCompletev2(t)\n",
        "    nt.append(n4)\n",
        "    dt.append(d4)\n",
        "  if 6 in n:\n",
        "    n5,d5 =  node5LinearSearchv2(t)\n",
        "    nt.append(n5)\n",
        "    dt.append(d5)\n",
        "\n",
        "\n",
        "  if n == []:\n",
        "    n1 ,d1 = node1LinearSearchCompletev2(t)\n",
        "    nt.append(n1)\n",
        "    dt.append(d1)\n",
        "    n2,d2 =  node2LinearSearchCompletev2(t)\n",
        "    nt.append(n2)\n",
        "    dt.append(d2)\n",
        "    n3,d3 =  node3LinearSearchCompletev2(t)\n",
        "    nt.append(n3)\n",
        "    dt.append(d3)    \n",
        "    n4,d4 =  node4LinearSearchCompletev2(t)\n",
        "    nt.append(n4)\n",
        "    dt.append(d4)\n",
        "    n5,d5 =  node5LinearSearchv2(t)\n",
        "    nt.append(n5)\n",
        "    dt.append(d5)\n",
        "\n",
        "  if sum(n) == 0:\n",
        "    n1,d1 = LinearSearchALLnodes1(t)\n",
        "    nt.append(n1)\n",
        "    dt.append(d1)\n",
        "    n2,d2 = LinearSearchALLnodes2(t)\n",
        "    nt.append(n2)\n",
        "    dt.append(d2)\n",
        "    n3,d3 = LinearSearchALLnodes3(t)\n",
        "    nt.append(n3)\n",
        "    dt.append(d3)    \n",
        "    n4,d4 = LinearSearchALLnodes4(t)\n",
        "    nt.append(n4)\n",
        "    dt.append(d4)\n",
        "    n5A,d5A = LinearSearchALLnodes5A(t)\n",
        "    nt.append(n5A)\n",
        "    dt.append(d5A)\n",
        "    n5B,d5B = LinearSearchALLnodes5B(t)\n",
        "    nt.append(n5B)\n",
        "    dt.append(d5B)\n",
        "    \n",
        "  return nt,dt   \n",
        "\n",
        "nt,dt =  callNodesLinearSearchv2(n)\n",
        "\n"
      ],
      "execution_count": 16,
      "outputs": []
    },
    {
      "cell_type": "markdown",
      "metadata": {
        "id": "ZeLFRnWXkznz"
      },
      "source": [
        "Las siguientes funcionnes son la caballeria pesada, si ninguna de las funciones anteriores, pudieron encontrar el caso positivo, se manda llamar a este conjunto de nuvas funciones, las cuales entran a pesar de que el nodo siguiente sea cero, esto hasta que encuentran un positivo, entonces ya siguen el camino del positivo.\n",
        "      "
      ]
    },
    {
      "cell_type": "code",
      "metadata": {
        "colab": {
          "base_uri": "https://localhost:8080/"
        },
        "id": "wyfzPxNflGjN",
        "outputId": "a4830635-31ae-4fbd-8ccb-8bde045af119"
      },
      "source": [
        "def LinearSearchALLnodes4(t):\n",
        "  A = [18,19,16,17,15,14,13]\n",
        "  d = []\n",
        "  m = []\n",
        "  n = 0\n",
        "  j = 0\n",
        "\n",
        "  for i in A:\n",
        "    d.append(i)\n",
        "    print(\"i\",i)\n",
        "    if t[i]  == 1:\n",
        "      m.append(i) \n",
        "    if (i==19 and t[i]==1)or (i == 17 and t[i] == 1):\n",
        "      break\n",
        "    if ((t[i] == 0) and (i != 19 and i != 17)and (t[j] == 1)):\n",
        "      break\n",
        "    j = i\n",
        "\n",
        "  print(\"m\" , m)\n",
        "  if 19 in m:\n",
        "    n = 19\n",
        "  elif 17 in m:\n",
        "    n = 17\n",
        "  elif 19 or 17 not in m:\n",
        "    if m != []:\n",
        "      n = m[-1]\n",
        "    else:\n",
        "      n = 0  \n",
        "    print(\"n-1\" ,n)\n",
        "  return n,d         \n",
        "\n",
        "t = [0] * 46\n",
        "t[18] = 1\n",
        "t[19] = 0\n",
        "t[16] = 0\n",
        "t[17] = 0\n",
        "t[15] = 0\n",
        "t[14] = 0\n",
        "t[13] = 0\n",
        "n,d = LinearSearchALLnodes4(t)\n",
        "print(\"n\",n)\n",
        "print(\"d\",d)"
      ],
      "execution_count": 7,
      "outputs": [
        {
          "output_type": "stream",
          "name": "stdout",
          "text": [
            "i 18\n",
            "i 19\n",
            "i 16\n",
            "i 17\n",
            "i 15\n",
            "i 14\n",
            "i 13\n",
            "m [18]\n",
            "n-1 18\n",
            "n 18\n",
            "d [18, 19, 16, 17, 15, 14, 13]\n"
          ]
        }
      ]
    },
    {
      "cell_type": "code",
      "metadata": {
        "colab": {
          "base_uri": "https://localhost:8080/"
        },
        "id": "IiPDH17xlxtt",
        "outputId": "f79bb00c-fbcb-47ee-ae60-db7aa53f1785"
      },
      "source": [
        "def LinearSearchALLnodes2(t):\n",
        "  A = [34,33,31,32,30]\n",
        "  d = []\n",
        "  m = []\n",
        "  n = 0\n",
        "  j = 0\n",
        "  for i in A:\n",
        "    d.append(i)\n",
        "    print(\"i\",i)\n",
        "    if t[i]  == 1:\n",
        "      m.append(i) \n",
        "    if (i==32 and t[i]==1):\n",
        "      break\n",
        "    if ((t[i] == 0) and (i != 32)and (t[j] == 1)):\n",
        "      break\n",
        "    j = i\n",
        "\n",
        "  print(\"m\" , m)\n",
        "  if 32 in m:\n",
        "    n = 32\n",
        "  #elif 17 in m:\n",
        "  #  n = 17\n",
        "  elif 32 not in m:\n",
        "    if m != []:\n",
        "      n = m[-1]\n",
        "    else:\n",
        "      n = 0\n",
        "    print(\"n-1\" ,n)\n",
        "  return n,d         \n",
        "\n",
        "t = [0] * 46\n",
        "\n",
        "t[30] = 0\n",
        "t[32] = 0\n",
        "t[31] = 0\n",
        "t[33] = 0\n",
        "t[34] = 0\n",
        "n,d = LinearSearchALLnodes2(t)\n",
        "print(\"n\",n)\n",
        "print(\"d\",d)"
      ],
      "execution_count": 6,
      "outputs": [
        {
          "output_type": "stream",
          "name": "stdout",
          "text": [
            "i 34\n",
            "i 33\n",
            "i 31\n",
            "i 32\n",
            "i 30\n",
            "m []\n",
            "n-1 0\n",
            "n 0\n",
            "d [34, 33, 31, 32, 30]\n"
          ]
        }
      ]
    },
    {
      "cell_type": "code",
      "metadata": {
        "colab": {
          "base_uri": "https://localhost:8080/"
        },
        "id": "xVsM1S5kmv83",
        "outputId": "2fadd48c-c9d0-42b7-c2e3-9b8a95fde6da"
      },
      "source": [
        "def LinearSearchALLnodes3(t):\n",
        "  A = [27,26,24,23,22,25]\n",
        "  d = []\n",
        "  m = []\n",
        "  n = 0\n",
        "  j = 0\n",
        "  for i in A:\n",
        "    d.append(i)\n",
        "    print(\"i\",i)\n",
        "    if t[i]  == 1:\n",
        "      m.append(i) \n",
        "    if (i==22 and t[i]==1)or(i == 25 and t[i] == 1):\n",
        "      break\n",
        "    if ((t[i] == 0) and (i != 22 and i != 25 and i != 23)and (t[j] == 1)):\n",
        "      break\n",
        "    j = i\n",
        "\n",
        "  print(\"m\" , m)\n",
        "  if 22 in m:\n",
        "    n = 32\n",
        "  elif 25 in m:\n",
        "    n = 25\n",
        "  elif 32 not in m:\n",
        "    if m != []:\n",
        "      n = m[-1]\n",
        "    else:\n",
        "      n = 0\n",
        "    print(\"n-1\" ,n)\n",
        "  return n,d         \n",
        "\n",
        "t = [0] * 46\n",
        "\n",
        "t[27] = 0\n",
        "t[26] = 0\n",
        "t[24] = 0\n",
        "t[23] = 0\n",
        "t[22] = 0\n",
        "t[25] = 0\n",
        "n,d = LinearSearchALLnodes3(t)\n",
        "print(\"n\",n)\n",
        "print(\"d\",d)"
      ],
      "execution_count": 5,
      "outputs": [
        {
          "output_type": "stream",
          "name": "stdout",
          "text": [
            "i 27\n",
            "i 26\n",
            "i 24\n",
            "i 23\n",
            "i 22\n",
            "i 25\n",
            "m []\n",
            "n-1 0\n",
            "n 0\n",
            "d [27, 26, 24, 23, 22, 25]\n"
          ]
        }
      ]
    },
    {
      "cell_type": "code",
      "metadata": {
        "colab": {
          "base_uri": "https://localhost:8080/"
        },
        "id": "vM5IkGl2m1ig",
        "outputId": "d5f7a758-ffbb-401d-bb7a-815d59fba358"
      },
      "source": [
        "def LinearSearchALLnodes5A(t):\n",
        "  A = [5,3,2,1]\n",
        "  d = []\n",
        "  m = []\n",
        "  n = 0\n",
        "  j = 0\n",
        "  for i in A:\n",
        "    d.append(i)\n",
        "    print(\"i\",i)\n",
        "    if t[i]  == 1:\n",
        "      m.append(i) \n",
        "    if (i==5 and t[i]==1)or(i == 1 and t[i] == 1):\n",
        "      break\n",
        "    if ((t[i] == 0) and (i != 5)and (t[j] == 1) ):\n",
        "      break\n",
        "    j = i\n",
        "\n",
        "  print(\"m\" , m)\n",
        "  if 5 in m:\n",
        "    n = 5\n",
        "  #elif 25 in m:\n",
        "  #  n = 25\n",
        "  elif 5 not in m:\n",
        "    if m != []:\n",
        "      n = m[-1]\n",
        "    else:\n",
        "      n = 0\n",
        "    print(\"n-1\" ,n)\n",
        "  return n,d         \n",
        "\n",
        "t = [0] * 46\n",
        "\n",
        "t[4] = 0\n",
        "t[5] = 0\n",
        "t[3] = 0\n",
        "t[2] = 0\n",
        "t[1] = 1\n",
        "n,d = LinearSearchALLnodes5A(t)\n",
        "print(\"n\",n)\n",
        "print(\"d\",d)"
      ],
      "execution_count": 4,
      "outputs": [
        {
          "output_type": "stream",
          "name": "stdout",
          "text": [
            "i 5\n",
            "i 3\n",
            "i 2\n",
            "i 1\n",
            "m [1]\n",
            "n-1 1\n",
            "n 1\n",
            "d [5, 3, 2, 1]\n"
          ]
        }
      ]
    },
    {
      "cell_type": "code",
      "metadata": {
        "colab": {
          "base_uri": "https://localhost:8080/"
        },
        "id": "zxvAYrnbm-Db",
        "outputId": "13843d4f-e991-42f9-a8d5-3ca3780517f2"
      },
      "source": [
        "def LinearSearchALLnodes5B(t):\n",
        "  A = [8,7,11,10,12]\n",
        "  d = []\n",
        "  m = []\n",
        "  n = 0\n",
        "  j = 0\n",
        "  for i in A:\n",
        "    d.append(i)\n",
        "    print(\"i\",i)\n",
        "    if t[i]  == 1:\n",
        "      m.append(i) \n",
        "    if (i==7 and t[i]==1) or (i == 10 and t[i] == 1) or (i == 12 and t[i] == 1):\n",
        "      break\n",
        "    if ((t[i] == 0) and (i != 10 and i != 8) and (t[j] == 1) ):\n",
        "      break\n",
        "    j = i\n",
        "\n",
        "  print(\"m\" , m)\n",
        "  if 7 in m:\n",
        "    n = 7\n",
        "  elif 10 in m:\n",
        "    n = 10\n",
        "  \n",
        "  elif 7 or 10 not in m:\n",
        "    if m != []:\n",
        "      n = m[-1]\n",
        "    else:\n",
        "      n = 0\n",
        "    print(\"n-1\" ,n)\n",
        "  return n,d         \n",
        "\n",
        "t = [0] * 46\n",
        "\n",
        "t[9] = 0\n",
        "t[8] = 0\n",
        "t[7] = 0\n",
        "t[11] = 0\n",
        "t[10] = 0\n",
        "t[12] = 0\n",
        "n,d = LinearSearchALLnodes5B(t)\n",
        "print(\"n\",n)\n",
        "print(\"d\",d)"
      ],
      "execution_count": 3,
      "outputs": [
        {
          "output_type": "stream",
          "name": "stdout",
          "text": [
            "i 8\n",
            "i 7\n",
            "i 11\n",
            "i 10\n",
            "i 12\n",
            "m []\n",
            "n-1 0\n",
            "n 0\n",
            "d [8, 7, 11, 10, 12]\n"
          ]
        }
      ]
    },
    {
      "cell_type": "code",
      "metadata": {
        "colab": {
          "base_uri": "https://localhost:8080/"
        },
        "id": "6wppIZfD22aV",
        "outputId": "91160b4a-3189-41e8-b7c2-d1b1dbc23606"
      },
      "source": [
        "def LinearSearchALLnodes1(t):\n",
        "  A = [38,37,43,44,41,40,42,]\n",
        "  d = []\n",
        "  m = []\n",
        "  n = 0\n",
        "  j = 0\n",
        "  for i in A:\n",
        "    d.append(i)\n",
        "    print(\"i\",i)\n",
        "    if t[i]  == 1:\n",
        "      m.append(i) \n",
        "    if (i == 37 and t[i]==1) or (i == 40 and t[i] == 1) or (i == 42 and t[i] == 1) or (i == 44 and t[i] == 1):\n",
        "      break\n",
        "    if ((t[i] == 0) and (i != 41  and i != 44 and i!= 40) and (t[j] == 1) ):\n",
        "      break\n",
        "    if (i == 41 and t[i] == 0) and (t[j] == 1):\n",
        "      break\n",
        "    if ((i == 41 and t[i] == 0) and (j == 44 and t[j] == 0) and (t[43] == 1) ):\n",
        "      break  \n",
        "    j = i\n",
        "\n",
        "  print(\"m\" , m)\n",
        "  if 7 in m:\n",
        "    n = 7\n",
        "  elif 10 in m:\n",
        "    n = 10\n",
        "  \n",
        "  elif 7 or 10 not in m:\n",
        "    if m != []:\n",
        "      n = m[-1]\n",
        "    else:\n",
        "      n = 0\n",
        "    print(\"n-1\" ,n)\n",
        "  return n,d         \n",
        "\n",
        "t = [0] * 46\n",
        "\n",
        "t[38] = 0\n",
        "t[37] = 0\n",
        "t[43] = 0\n",
        "t[41] = 0\n",
        "t[40] = 0\n",
        "t[42] = 0\n",
        "t[44] = 1\n",
        "n,d = LinearSearchALLnodes1(t)\n",
        "print(\"n\",n)\n",
        "print(\"d\",d)"
      ],
      "execution_count": 2,
      "outputs": [
        {
          "output_type": "stream",
          "name": "stdout",
          "text": [
            "i 38\n",
            "i 37\n",
            "i 43\n",
            "i 44\n",
            "m [44]\n",
            "n-1 44\n",
            "n 44\n",
            "d [38, 37, 43, 44]\n"
          ]
        }
      ]
    }
  ]
}