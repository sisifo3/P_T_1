{
  "nbformat": 4,
  "nbformat_minor": 0,
  "metadata": {
    "colab": {
      "name": "Colector.ipynb",
      "provenance": [],
      "authorship_tag": "ABX9TyMD62qHG0eVJq8ZcDiSt14j",
      "include_colab_link": true
    },
    "kernelspec": {
      "name": "python3",
      "display_name": "Python 3"
    },
    "language_info": {
      "name": "python"
    }
  },
  "cells": [
    {
      "cell_type": "markdown",
      "metadata": {
        "id": "view-in-github",
        "colab_type": "text"
      },
      "source": [
        "<a href=\"https://colab.research.google.com/github/sisifo3/P_T_1/blob/main/Colector.ipynb\" target=\"_parent\"><img src=\"https://colab.research.google.com/assets/colab-badge.svg\" alt=\"Open In Colab\"/></a>"
      ]
    },
    {
      "cell_type": "code",
      "metadata": {
        "colab": {
          "base_uri": "https://localhost:8080/"
        },
        "id": "ABx-JW8eIbRp",
        "outputId": "6e9ab0f7-13b2-45c9-cb43-3a81e2766801"
      },
      "source": [
        "\n",
        "m = [[2, 0],\n",
        "[2, 0, 1],\n",
        "[2],\n",
        "[2, 3],\n",
        "[2, 3, 4]]\n",
        "\n",
        "t = [1,1,1,1,0]\n",
        "#Jamas puede ser que existan\n",
        "#tipos : [0,0,1,0,0] Esto es incorrecto porque si el nodo 2 esta contajiado \n",
        "# entonces el nodo 0 y el 1 deben ser tambien contajiados \n",
        "\n",
        "\n",
        "def Colector(m):\n",
        "  c = WF(m)\n",
        "  a = c[0]\n",
        "  print(a)\n",
        "  if t[a] == 1:\n",
        "    b = positiveFunction(t,a,m)\n",
        "  else:\n",
        "    y = NegativeFunction(t,a,m)\n",
        "  \n",
        "\n",
        "  \n",
        "Colector(m)"
      ],
      "execution_count": 70,
      "outputs": [
        {
          "output_type": "stream",
          "name": "stdout",
          "text": [
            "2\n",
            "3\n",
            "4\n"
          ]
        }
      ]
    },
    {
      "cell_type": "code",
      "metadata": {
        "colab": {
          "base_uri": "https://localhost:8080/"
        },
        "id": "aBHGeYnwIXlQ",
        "outputId": "cc4782c6-ee08-4ebe-b9b0-e3929650063d"
      },
      "source": [
        "def positiveFunction(t,a,m):\n",
        "  \n",
        "  while t[a] == 1:\n",
        "      #print(\"Done\")\n",
        "      M = DeletedNode(m,a)\n",
        "      #print(M)\n",
        "      c1 = WF(M)\n",
        "      #print(c1)\n",
        "      ax = max(c1)\n",
        "      print(ax)\n",
        "      X = DeletedNodes(M,ax)\n",
        "      #print(X)\n",
        "      m = X\n",
        "      a = ax\n",
        "      if len(m) == 1:\n",
        "        break\n",
        "  #print(m)      \n",
        "  #b = NegativeFunction(t,a,m)\n",
        "  return a      \n",
        "\n",
        "m = [[2, 0],\n",
        "[2, 0, 1],\n",
        "[2],\n",
        "[2, 3],\n",
        "[2, 3, 4]]\n",
        "\n",
        "t = [1,1,1,0,0]\n",
        "\n",
        "c = WF(m)\n",
        "\n",
        "a = c[0]\n",
        "print(a)\n",
        "b = positiveFunction(t,a,m)\n",
        "#print(b)"
      ],
      "execution_count": 72,
      "outputs": [
        {
          "output_type": "stream",
          "name": "stdout",
          "text": [
            "2\n",
            "3\n"
          ]
        }
      ]
    },
    {
      "cell_type": "code",
      "metadata": {
        "colab": {
          "base_uri": "https://localhost:8080/"
        },
        "id": "5c42a_ELIT7H",
        "outputId": "484b16fb-7186-4708-9c17-b7231741cb13"
      },
      "source": [
        "def NegativeFunction(t,a,m):\n",
        "  #visitedNodes = []\n",
        "  while t[a] == 0:\n",
        "    M = DeletedNode(m,a)\n",
        "    #print(\"a\",a)\n",
        "    c1 = WF(M)\n",
        "    #print(c1)\n",
        "    amin = min(c1)\n",
        "    #print(amin)\n",
        "    X = DeletedNodes(M,amin)\n",
        "    m = X\n",
        "    a = amin\n",
        "    print(\"a\",a)\n",
        "    #print(\"t[a]\",t[a])\n",
        "    #visitedNodes.append(t[a])\n",
        "    if len(m) == 1:\n",
        "      break\n",
        "  #print(m)\n",
        "  b = positiveFunction(t,a,m)\n",
        "  \n",
        "\n",
        "  return a \n",
        "\n",
        "\n",
        "\n",
        "m = [[2, 0],\n",
        "[2, 0, 1],\n",
        "[2],\n",
        "[2, 3],\n",
        "[2, 3, 4]]\n",
        "\n",
        "t = [1,1,0,0,0]\n",
        "\n",
        "c = WF(m)\n",
        "a = c[0]\n",
        "print(\"a\", a)\n",
        "b = NegativeFunction(t,a,m)\n",
        "#print(visitednodes)  "
      ],
      "execution_count": 67,
      "outputs": [
        {
          "output_type": "stream",
          "name": "stdout",
          "text": [
            "a 2\n",
            "a 0\n",
            "1\n"
          ]
        }
      ]
    },
    {
      "cell_type": "code",
      "metadata": {
        "colab": {
          "base_uri": "https://localhost:8080/"
        },
        "id": "dT6O1zUaIQDp",
        "outputId": "163d430a-7a2f-479a-b04c-b3f6c23a2401"
      },
      "source": [
        "\n",
        "def WF(m):\n",
        "  o = []\n",
        "  for n in m :\n",
        "    #print(n)\n",
        "    z = n[0]\n",
        "    o.append(z)  \n",
        "  #print(o)\n",
        "  O = list(set(o))\n",
        "  #print(O)\n",
        "  return O\n",
        "\n",
        "m = [[3, 1, 0],\n",
        "[3, 1],\n",
        "[3, 1, 2],\n",
        "[3],\n",
        "[3, 5, 4],\n",
        "[3, 5],\n",
        "[3, 5, 6],\n",
        "[3, 5, 6, 7]]\n",
        "\n",
        "c = WF(m)\n",
        "print(c)\n"
      ],
      "execution_count": 4,
      "outputs": [
        {
          "output_type": "stream",
          "name": "stdout",
          "text": [
            "[3]\n"
          ]
        }
      ]
    },
    {
      "cell_type": "code",
      "metadata": {
        "colab": {
          "base_uri": "https://localhost:8080/"
        },
        "id": "IN8DxyJKIMuG",
        "outputId": "7951960b-5132-44ef-f020-7b073aa8249b"
      },
      "source": [
        "def DeletedNodes(m,z):\n",
        "  x = []\n",
        "  for n in m:\n",
        "    #print(n)\n",
        "    if z in n:\n",
        "      x.append(n)\n",
        "      #print(n)\n",
        "  return x\n",
        "\n",
        "m = [[3, 1, 0],\n",
        "[3, 1],\n",
        "[3, 1, 2],\n",
        "[3],\n",
        "[3, 5, 4],\n",
        "[3, 5],\n",
        "[3, 5, 6],\n",
        "[3, 5, 6, 7]]\n",
        "\n",
        "z = 1\n",
        "X = DeletedNodes(m,z)\n",
        "print(X)\n"
      ],
      "execution_count": 3,
      "outputs": [
        {
          "output_type": "stream",
          "name": "stdout",
          "text": [
            "[[3, 1, 0], [3, 1], [3, 1, 2]]\n"
          ]
        }
      ]
    },
    {
      "cell_type": "code",
      "metadata": {
        "colab": {
          "base_uri": "https://localhost:8080/"
        },
        "id": "MpbGJWhoFqcd",
        "outputId": "e22326ac-de84-4144-dc7b-8e4d3eb175ce"
      },
      "source": [
        "\n",
        "#Eliminar el nodo que testeamos\n",
        "def DeletedNode(m,z):\n",
        "  M = []\n",
        "  for n in m:\n",
        "    x = []\n",
        "    for y in n:\n",
        "      #print(y)\n",
        "      if y != z:\n",
        "        x.append(y)\n",
        "    #print(x)\n",
        "    M.append(x)\n",
        "\n",
        "  lM = [x for x in M if x != []]  \n",
        "  return lM    \n",
        "\n",
        "\n",
        "m = [[3, 1, 0],\n",
        "[3, 1],\n",
        "[3, 1, 2],\n",
        "[3],\n",
        "[3, 5, 4],\n",
        "[3, 5],\n",
        "[3, 5, 6],\n",
        "[3, 5, 6, 7]]\n",
        "\n",
        "z = 8\n",
        "M = DeletedNode(m,z)\n",
        "print(M)\n"
      ],
      "execution_count": 2,
      "outputs": [
        {
          "output_type": "stream",
          "name": "stdout",
          "text": [
            "[[3, 1, 0], [3, 1], [3, 1, 2], [3], [3, 5, 4], [3, 5], [3, 5, 6], [3, 5, 6, 7]]\n"
          ]
        }
      ]
    }
  ]
}